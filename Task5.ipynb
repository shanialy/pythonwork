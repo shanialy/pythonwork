{
  "nbformat": 4,
  "nbformat_minor": 0,
  "metadata": {
    "colab": {
      "name": "Task5.ipynb",
      "provenance": [],
      "collapsed_sections": []
    },
    "kernelspec": {
      "name": "python3",
      "display_name": "Python 3"
    },
    "language_info": {
      "name": "python"
    }
  },
  "cells": [
    {
      "cell_type": "code",
      "execution_count": null,
      "metadata": {
        "id": "FR9ZX6t3rExQ"
      },
      "outputs": [],
      "source": [
        "import json\n",
        "def load_jsonl(input_path) -> list:\n",
        "    \"\"\"\n",
        "    Read list of objects from a JSON lines file.\n",
        "    \"\"\"\n",
        "    data = []\n",
        "    with open(input_path, 'r', encoding='utf-8') as f:\n",
        "        for line in f:\n",
        "            data.append(json.loads(line.rstrip('\\n|\\r')))\n",
        "    print('Loaded {} records from {}'.format(len(data), input_path))\n",
        "    return data\n",
        "\n",
        "def dump_jsonl(data, output_path, append=False):\n",
        "    \"\"\"\n",
        "    Write list of objects to a JSON lines file.\n",
        "    \"\"\"\n",
        "    mode = 'a+' if append else 'w'\n",
        "    with open(output_path, mode, encoding='utf-8') as f:\n",
        "        for line in data:\n",
        "            json_record = json.dumps(line, ensure_ascii=False)\n",
        "            f.write(json_record + '\\n')\n",
        "    print('Wrote {} records to {}'.format(len(data), output_path))    "
      ]
    },
    {
      "cell_type": "code",
      "source": [
        "# ye aik baar chal gya h bs\n",
        "import json\n",
        "alldomains = load_jsonl('/content/drive/MyDrive/Cognilium/domain&technologiesShopifyonly.jsonl')\n",
        "for item in alldomains:\n",
        "  with open('/content/drive/MyDrive/Cognilium/newData.txt','a') as f:\n",
        "    f.write(item['domain'])\n",
        "    f.write(\"\\n\")\n",
        "    f.close()"
      ],
      "metadata": {
        "colab": {
          "base_uri": "https://localhost:8080/"
        },
        "id": "cFkB-f2xr6Sz",
        "outputId": "d11a0249-a56a-499d-bd50-7c95e419f9d3"
      },
      "execution_count": null,
      "outputs": [
        {
          "output_type": "stream",
          "name": "stdout",
          "text": [
            "Loaded 94 records from /content/drive/MyDrive/Cognilium/domain&technologiesShopifyonly.jsonl\n"
          ]
        }
      ]
    },
    {
      "cell_type": "code",
      "source": [
        "with open('/content/drive/MyDrive/Cognilium/newData.txt', 'r') as f:\n",
        "    domainNames = [line.strip() for line in f]\n",
        "print(domainNames)"
      ],
      "metadata": {
        "colab": {
          "base_uri": "https://localhost:8080/"
        },
        "id": "v5ynfwv9sHBs",
        "outputId": "0aa3b2b3-ed4d-41ae-97d6-df67fe4f1302"
      },
      "execution_count": null,
      "outputs": [
        {
          "output_type": "stream",
          "name": "stdout",
          "text": [
            "['http://www.24hours.pk', 'http://www.Almas.pk', 'http://www.Almirah.com.pk', 'http://www.Ammarakhan.com', 'http://www.Asimjofa.com', 'http://www.Autohub.pk', 'http://www.Autox.pk', 'http://www.Bagallerydeals.com', 'http://www.Bandana.pk', 'http://www.Baroque.pk', 'http://www.Bata.com.pk', 'http://www.Beechtree.pk', 'http://www.Blueshoppy.com', 'http://www.Bnbaccessories.com', 'http://www.Bonanzasatrangi.com', 'http://www.Borjan.com.pk', 'http://www.Brandsego.com', 'http://www.Brandspopper.com', 'http://www.Brandsriver.com', 'http://www.Brandsxpress.com', 'http://www.Breakout.com.pk', 'http://www.Btwonline.com', 'http://www.Ccshirts.com', 'http://www.Changeclothings.com.pk', 'http://www.Charcoal.com.pk', 'http://www.Chase.pk', 'http://www.Chasevaluecentre.com', 'http://www.Chenone.com', 'http://www.Chinyere.pk', 'http://www.Crossstitch.pk', 'http://www.Danytech.com.pk', 'http://www.Deeds.pk', 'http://www.Dikhawa.pk', 'http://www.Diners.com.pk', 'http://www.Dvago.pk', 'http://www.Elan.pk', 'http://www.Ethnic.pk', 'http://www.Exportleftovers.com', 'http://www.Firdouscloth.com', 'http://www.Hangten.com.pk', 'http://www.Hiffey.com', 'http://www.Hopenotout.com', 'http://www.Houseofcharizma.com', 'http://www.Hushpuppies.com.pk', 'http://www.Insignia.com.pk', 'http://www.Ittehadtextiles.com', 'http://www.Kayseria.com', 'http://www.Khasstores.com', 'http://www.Leisureclub.pk', 'http://www.Lemontart.pk', 'http://www.Limelight.pk', 'http://www.Makeupcityshop.com', 'http://www.Mausummery.com', 'http://www.Mayascloset.pk', 'http://www.Metroshoes.com.pk', 'http://www.Minnieminors.com', 'http://www.Mistore.pk', 'http://www.Monark.com.pk', 'http://www.Myrangja.com', 'http://www.Nidaazwer.com', 'http://www.Nishatlinen.com', 'http://www.Orangejeans.co', 'http://www.Orient.com.pk', 'http://www.Outfitters.com.pk', 'http://www.Qne.com.pk', 'http://www.Rajasahib.com', 'http://www.Rangrasiya.com.pk', 'http://www.Republicwomenswear.com', 'http://www.Royaltag.com.pk', 'http://www.Sanaabbas.com', 'http://www.Sapphireonline.pk', 'http://www.Shahsawarsuiting.com', 'http://www.Shopaholic.com.pk', 'http://www.Shopatorient.com', 'http://www.Shopatshams.com.pk', 'http://www.Shopecs.com', 'http://www.Sitarastudio.pk', 'http://www.Sobianazir.net', 'http://www.Sokamal.com', 'http://www.Soloto.com', 'http://www.Studiobytcs.com', 'http://www.Stylo.pk', 'http://www.Suffuse.pk', 'http://www.Tajori.pk', 'http://www.Thecambridgeshop.com', 'http://www.Thegadgeteffect.com', 'http://www.Threadsandmotifs.com', 'http://www.Toyzone.pk', 'http://www.Unze.com.pk', 'http://www.Urbangalleria.com', 'http://www.Urbansole.com.pk', 'http://www.Walkeaze.com', 'http://www.Wearego.com', 'http://www.Yesonline.pk', 'http://www.24hours.pk', 'http://www.Almas.pk', 'http://www.Almirah.com.pk', 'http://www.Ammarakhan.com', 'http://www.Asimjofa.com', 'http://www.Autohub.pk', 'http://www.Autox.pk', 'http://www.Bagallerydeals.com', 'http://www.Bandana.pk', 'http://www.Baroque.pk', 'http://www.Bata.com.pk', 'http://www.Beechtree.pk', 'http://www.Blueshoppy.com', 'http://www.Bnbaccessories.com', 'http://www.Bonanzasatrangi.com', 'http://www.Borjan.com.pk', 'http://www.Brandsego.com', 'http://www.Brandspopper.com', 'http://www.Brandsriver.com', 'http://www.Brandsxpress.com', 'http://www.Breakout.com.pk', 'http://www.Btwonline.com', 'http://www.Ccshirts.com', 'http://www.Changeclothings.com.pk', 'http://www.Charcoal.com.pk', 'http://www.Chase.pk', 'http://www.Chasevaluecentre.com', 'http://www.Chenone.com', 'http://www.Chinyere.pk', 'http://www.Crossstitch.pk', 'http://www.Danytech.com.pk', 'http://www.Deeds.pk', 'http://www.Dikhawa.pk', 'http://www.Diners.com.pk', 'http://www.Dvago.pk', 'http://www.Elan.pk', 'http://www.Ethnic.pk', 'http://www.Exportleftovers.com', 'http://www.Firdouscloth.com', 'http://www.Hangten.com.pk', 'http://www.Hiffey.com', 'http://www.Hopenotout.com', 'http://www.Houseofcharizma.com', 'http://www.Hushpuppies.com.pk', 'http://www.Insignia.com.pk', 'http://www.Ittehadtextiles.com', 'http://www.Kayseria.com', 'http://www.Khasstores.com', 'http://www.Leisureclub.pk', 'http://www.Lemontart.pk', 'http://www.Limelight.pk', 'http://www.Makeupcityshop.com', 'http://www.Mausummery.com', 'http://www.Mayascloset.pk', 'http://www.Metroshoes.com.pk', 'http://www.Minnieminors.com', 'http://www.Mistore.pk', 'http://www.Monark.com.pk', 'http://www.Myrangja.com', 'http://www.Nidaazwer.com', 'http://www.Nishatlinen.com', 'http://www.Orangejeans.co', 'http://www.Orient.com.pk', 'http://www.Outfitters.com.pk', 'http://www.Qne.com.pk', 'http://www.Rajasahib.com', 'http://www.Rangrasiya.com.pk', 'http://www.Republicwomenswear.com', 'http://www.Royaltag.com.pk', 'http://www.Sanaabbas.com', 'http://www.Sapphireonline.pk', 'http://www.Shahsawarsuiting.com', 'http://www.Shopaholic.com.pk', 'http://www.Shopatorient.com', 'http://www.Shopatshams.com.pk', 'http://www.Shopecs.com', 'http://www.Sitarastudio.pk', 'http://www.Sobianazir.net', 'http://www.Sokamal.com', 'http://www.Soloto.com', 'http://www.Studiobytcs.com', 'http://www.Stylo.pk', 'http://www.Suffuse.pk', 'http://www.Tajori.pk', 'http://www.Thecambridgeshop.com', 'http://www.Thegadgeteffect.com', 'http://www.Threadsandmotifs.com', 'http://www.Toyzone.pk', 'http://www.Unze.com.pk', 'http://www.Urbangalleria.com', 'http://www.Urbansole.com.pk', 'http://www.Walkeaze.com', 'http://www.Wearego.com', 'http://www.Yesonline.pk']\n"
          ]
        }
      ]
    },
    {
      "cell_type": "code",
      "source": [
        "!pip install redis\n",
        "!pip install requests\n",
        "!pip install 'tldextract==3.0.0'\n"
      ],
      "metadata": {
        "colab": {
          "base_uri": "https://localhost:8080/"
        },
        "id": "xoLzW6YvtUCO",
        "outputId": "94251560-7040-465a-8ca2-260b9f868174"
      },
      "execution_count": null,
      "outputs": [
        {
          "output_type": "stream",
          "name": "stdout",
          "text": [
            "Collecting redis\n",
            "  Downloading redis-4.2.2-py3-none-any.whl (226 kB)\n",
            "\u001b[?25l\r\u001b[K     |█▌                              | 10 kB 18.7 MB/s eta 0:00:01\r\u001b[K     |███                             | 20 kB 23.7 MB/s eta 0:00:01\r\u001b[K     |████▍                           | 30 kB 29.8 MB/s eta 0:00:01\r\u001b[K     |█████▉                          | 40 kB 23.9 MB/s eta 0:00:01\r\u001b[K     |███████▎                        | 51 kB 18.1 MB/s eta 0:00:01\r\u001b[K     |████████▊                       | 61 kB 20.1 MB/s eta 0:00:01\r\u001b[K     |██████████▏                     | 71 kB 21.0 MB/s eta 0:00:01\r\u001b[K     |███████████▋                    | 81 kB 22.7 MB/s eta 0:00:01\r\u001b[K     |█████████████                   | 92 kB 24.6 MB/s eta 0:00:01\r\u001b[K     |██████████████▌                 | 102 kB 23.0 MB/s eta 0:00:01\r\u001b[K     |████████████████                | 112 kB 23.0 MB/s eta 0:00:01\r\u001b[K     |█████████████████▍              | 122 kB 23.0 MB/s eta 0:00:01\r\u001b[K     |██████████████████▉             | 133 kB 23.0 MB/s eta 0:00:01\r\u001b[K     |████████████████████▎           | 143 kB 23.0 MB/s eta 0:00:01\r\u001b[K     |█████████████████████▊          | 153 kB 23.0 MB/s eta 0:00:01\r\u001b[K     |███████████████████████▏        | 163 kB 23.0 MB/s eta 0:00:01\r\u001b[K     |████████████████████████▋       | 174 kB 23.0 MB/s eta 0:00:01\r\u001b[K     |██████████████████████████      | 184 kB 23.0 MB/s eta 0:00:01\r\u001b[K     |███████████████████████████▌    | 194 kB 23.0 MB/s eta 0:00:01\r\u001b[K     |█████████████████████████████   | 204 kB 23.0 MB/s eta 0:00:01\r\u001b[K     |██████████████████████████████▍ | 215 kB 23.0 MB/s eta 0:00:01\r\u001b[K     |███████████████████████████████▉| 225 kB 23.0 MB/s eta 0:00:01\r\u001b[K     |████████████████████████████████| 226 kB 23.0 MB/s \n",
            "\u001b[?25hCollecting async-timeout>=4.0.2\n",
            "  Downloading async_timeout-4.0.2-py3-none-any.whl (5.8 kB)\n",
            "Requirement already satisfied: importlib-metadata>=1.0 in /usr/local/lib/python3.7/dist-packages (from redis) (4.11.3)\n",
            "Collecting deprecated>=1.2.3\n",
            "  Downloading Deprecated-1.2.13-py2.py3-none-any.whl (9.6 kB)\n",
            "Requirement already satisfied: packaging>=20.4 in /usr/local/lib/python3.7/dist-packages (from redis) (21.3)\n",
            "Requirement already satisfied: typing-extensions in /usr/local/lib/python3.7/dist-packages (from redis) (4.1.1)\n",
            "Requirement already satisfied: wrapt<2,>=1.10 in /usr/local/lib/python3.7/dist-packages (from deprecated>=1.2.3->redis) (1.14.0)\n",
            "Requirement already satisfied: zipp>=0.5 in /usr/local/lib/python3.7/dist-packages (from importlib-metadata>=1.0->redis) (3.8.0)\n",
            "Requirement already satisfied: pyparsing!=3.0.5,>=2.0.2 in /usr/local/lib/python3.7/dist-packages (from packaging>=20.4->redis) (3.0.8)\n",
            "Installing collected packages: deprecated, async-timeout, redis\n",
            "Successfully installed async-timeout-4.0.2 deprecated-1.2.13 redis-4.2.2\n",
            "Requirement already satisfied: requests in /usr/local/lib/python3.7/dist-packages (2.23.0)\n",
            "Requirement already satisfied: certifi>=2017.4.17 in /usr/local/lib/python3.7/dist-packages (from requests) (2021.10.8)\n",
            "Requirement already satisfied: chardet<4,>=3.0.2 in /usr/local/lib/python3.7/dist-packages (from requests) (3.0.4)\n",
            "Requirement already satisfied: urllib3!=1.25.0,!=1.25.1,<1.26,>=1.21.1 in /usr/local/lib/python3.7/dist-packages (from requests) (1.24.3)\n",
            "Requirement already satisfied: idna<3,>=2.5 in /usr/local/lib/python3.7/dist-packages (from requests) (2.10)\n",
            "Collecting tldextract==3.0.0\n",
            "  Downloading tldextract-3.0.0-py2.py3-none-any.whl (86 kB)\n",
            "\u001b[K     |████████████████████████████████| 86 kB 4.2 MB/s \n",
            "\u001b[?25hCollecting requests-file>=1.4\n",
            "  Downloading requests_file-1.5.1-py2.py3-none-any.whl (3.7 kB)\n",
            "Requirement already satisfied: requests>=2.1.0 in /usr/local/lib/python3.7/dist-packages (from tldextract==3.0.0) (2.23.0)\n",
            "Requirement already satisfied: idna in /usr/local/lib/python3.7/dist-packages (from tldextract==3.0.0) (2.10)\n",
            "Requirement already satisfied: filelock>=3.0.8 in /usr/local/lib/python3.7/dist-packages (from tldextract==3.0.0) (3.6.0)\n",
            "Requirement already satisfied: chardet<4,>=3.0.2 in /usr/local/lib/python3.7/dist-packages (from requests>=2.1.0->tldextract==3.0.0) (3.0.4)\n",
            "Requirement already satisfied: certifi>=2017.4.17 in /usr/local/lib/python3.7/dist-packages (from requests>=2.1.0->tldextract==3.0.0) (2021.10.8)\n",
            "Requirement already satisfied: urllib3!=1.25.0,!=1.25.1,<1.26,>=1.21.1 in /usr/local/lib/python3.7/dist-packages (from requests>=2.1.0->tldextract==3.0.0) (1.24.3)\n",
            "Requirement already satisfied: six in /usr/local/lib/python3.7/dist-packages (from requests-file>=1.4->tldextract==3.0.0) (1.15.0)\n",
            "Installing collected packages: requests-file, tldextract\n",
            "Successfully installed requests-file-1.5.1 tldextract-3.0.0\n"
          ]
        }
      ]
    },
    {
      "cell_type": "code",
      "source": [
        "import multiprocessing \n",
        "from multiprocessing import Pool\n",
        "import requests\n",
        "import json\n",
        "import redis\n",
        "import tldextract\n",
        "\n",
        "client2 = redis.Redis(host = '43.251.253.107', port=1500,db=0)\n",
        "def basic_func(domain):\n",
        "  ext = tldextract.extract(domain)\n",
        "  url = ext.domain+'.'+ext.suffix\n",
        "  try:\n",
        "    allinks=client2.smembers(url)\n",
        "    for link in list(allinks):\n",
        "      link = link.decode(\"utf-8\")\n",
        "      if (link.find('/products/') != -1) or (link.find('/collections/') != -1):\n",
        "        link = link+'.json'\n",
        "        response = requests.get(link)\n",
        "        json_data = json.loads(response.text)\n",
        "        dump_jsonl([json_data], '/content/drive/MyDrive/'+url+'.jsonl',append=True)\n",
        "  except Exception as e:\n",
        "      print(e)\n",
        "\n",
        "pool = Pool(processes=1) \n",
        "pool.map(basic_func, domainNames)\n",
        "pool.close()  \n",
        "\n",
        "\n"
      ],
      "metadata": {
        "id": "m9xRSOFKtHBl"
      },
      "execution_count": null,
      "outputs": []
    },
    {
      "cell_type": "code",
      "source": [
        "import os\n",
        "\n",
        "files = os.listdir('.')\n",
        "print(files)\n"
      ],
      "metadata": {
        "id": "_-NCW1_dw5-6",
        "colab": {
          "base_uri": "https://localhost:8080/"
        },
        "outputId": "618a57bc-99b5-45fc-ff04-76230079f156"
      },
      "execution_count": null,
      "outputs": [
        {
          "output_type": "stream",
          "name": "stdout",
          "text": [
            "['.config', 'drive', 'sample_data']\n"
          ]
        }
      ]
    }
  ]
}