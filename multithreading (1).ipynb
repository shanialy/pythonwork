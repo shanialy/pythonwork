{
  "cells": [
    {
      "cell_type": "code",
      "execution_count": null,
      "metadata": {
        "colab": {
          "base_uri": "https://localhost:8080/"
        },
        "id": "6_fJUUmFhcQy",
        "outputId": "864492d4-aef6-4298-f2ec-117e6f0b0f6e"
      },
      "outputs": [
        {
          "name": "stdout",
          "output_type": "stream",
          "text": [
            "hello world 1\n",
            "hello world 2\n"
          ]
        }
      ],
      "source": [
        "def helloworld1(num1):\n",
        "  print(\"hello world \"+str(num1))\n",
        "def helloworld2(num2):\n",
        "  print(\"hello world \"+str(num2))  \n",
        "\n",
        "helloworld1(1)\n",
        "helloworld2(2) "
      ]
    },
    {
      "cell_type": "code",
      "execution_count": null,
      "metadata": {
        "colab": {
          "base_uri": "https://localhost:8080/"
        },
        "id": "E2dxko9LiF9b",
        "outputId": "0df79c3f-83f3-4d0b-f461-e363fb40480c"
      },
      "outputs": [
        {
          "name": "stdout",
          "output_type": "stream",
          "text": [
            "PBX Professional Beauty Eyebrow Mascara\n",
            "something wrong in https://www.exportleftovers.com/products/instantly-whitening-magic-facial-mask.json\n",
            "ULTD Women's Moorhead Short Baggy Fit Denim\n",
            "Deep Freezer Cover Made By Dual Layer Cotton Polyster Filling Quilted Fabric Washable Stuff\n"
          ]
        }
      ],
      "source": [
        "import os\n",
        "import multiprocessing \n",
        "import sys\n",
        "import datetime\n",
        "from multiprocessing import Pool\n",
        "import requests\n",
        "import json\n",
        "import redis\n",
        "client = redis.Redis(host = '43.251.253.107', port=1500,db=2)\n",
        "mylist = [1,2,3,4]\n",
        "\n",
        "links = ['https://www.exportleftovers.com/products/ultd-womens-moorhead-short-baggy-fit-denim','https://www.exportleftovers.com/products/deep-freezer-cover-made-by-dual-layer-cotton-polyster-filling-quilted-fabric-washable-stuff','https://www.exportleftovers.com/products/instantly-whitening-magic-facial-mask','https://www.exportleftovers.com/products/pbx-professional-beauty-eyebrow-mascara']\n",
        "   \n",
        "def basic_func(item):\n",
        "  try:\n",
        "    item = item+'.json'\n",
        "    response = requests.get(item)\n",
        "    json_data = json.loads(response.text)\n",
        "    print(json_data['product']['title'])\n",
        "    client.sadd(item,json_data['product']['title'])\n",
        "\n",
        "  except:\n",
        "    print(\"something wrong in\",item)\n",
        "\n",
        "pool = Pool(processes=4)              # start 4 worker processes\n",
        "pool.map(basic_func, links)\n",
        "pool.close()"
      ]
    },
    {
      "cell_type": "code",
      "execution_count": null,
      "metadata": {
        "id": "LEQTxYUhiKns",
        "colab": {
          "base_uri": "https://localhost:8080/"
        },
        "outputId": "09cfe8e0-9d55-4d72-d377-6ef1b20158a5"
      },
      "outputs": [
        {
          "output_type": "stream",
          "name": "stdout",
          "text": [
            "Collecting redis\n",
            "  Downloading redis-4.2.2-py3-none-any.whl (226 kB)\n",
            "\u001b[?25l\r\u001b[K     |█▌                              | 10 kB 19.5 MB/s eta 0:00:01\r\u001b[K     |███                             | 20 kB 12.2 MB/s eta 0:00:01\r\u001b[K     |████▍                           | 30 kB 9.8 MB/s eta 0:00:01\r\u001b[K     |█████▉                          | 40 kB 8.6 MB/s eta 0:00:01\r\u001b[K     |███████▎                        | 51 kB 4.2 MB/s eta 0:00:01\r\u001b[K     |████████▊                       | 61 kB 4.9 MB/s eta 0:00:01\r\u001b[K     |██████████▏                     | 71 kB 5.4 MB/s eta 0:00:01\r\u001b[K     |███████████▋                    | 81 kB 5.8 MB/s eta 0:00:01\r\u001b[K     |█████████████                   | 92 kB 6.4 MB/s eta 0:00:01\r\u001b[K     |██████████████▌                 | 102 kB 5.0 MB/s eta 0:00:01\r\u001b[K     |████████████████                | 112 kB 5.0 MB/s eta 0:00:01\r\u001b[K     |█████████████████▍              | 122 kB 5.0 MB/s eta 0:00:01\r\u001b[K     |██████████████████▉             | 133 kB 5.0 MB/s eta 0:00:01\r\u001b[K     |████████████████████▎           | 143 kB 5.0 MB/s eta 0:00:01\r\u001b[K     |█████████████████████▊          | 153 kB 5.0 MB/s eta 0:00:01\r\u001b[K     |███████████████████████▏        | 163 kB 5.0 MB/s eta 0:00:01\r\u001b[K     |████████████████████████▋       | 174 kB 5.0 MB/s eta 0:00:01\r\u001b[K     |██████████████████████████      | 184 kB 5.0 MB/s eta 0:00:01\r\u001b[K     |███████████████████████████▌    | 194 kB 5.0 MB/s eta 0:00:01\r\u001b[K     |█████████████████████████████   | 204 kB 5.0 MB/s eta 0:00:01\r\u001b[K     |██████████████████████████████▍ | 215 kB 5.0 MB/s eta 0:00:01\r\u001b[K     |███████████████████████████████▉| 225 kB 5.0 MB/s eta 0:00:01\r\u001b[K     |████████████████████████████████| 226 kB 5.0 MB/s \n",
            "\u001b[?25hCollecting async-timeout>=4.0.2\n",
            "  Downloading async_timeout-4.0.2-py3-none-any.whl (5.8 kB)\n",
            "Requirement already satisfied: importlib-metadata>=1.0 in /usr/local/lib/python3.7/dist-packages (from redis) (4.11.3)\n",
            "Requirement already satisfied: typing-extensions in /usr/local/lib/python3.7/dist-packages (from redis) (4.1.1)\n",
            "Requirement already satisfied: packaging>=20.4 in /usr/local/lib/python3.7/dist-packages (from redis) (21.3)\n",
            "Collecting deprecated>=1.2.3\n",
            "  Downloading Deprecated-1.2.13-py2.py3-none-any.whl (9.6 kB)\n",
            "Requirement already satisfied: wrapt<2,>=1.10 in /usr/local/lib/python3.7/dist-packages (from deprecated>=1.2.3->redis) (1.14.0)\n",
            "Requirement already satisfied: zipp>=0.5 in /usr/local/lib/python3.7/dist-packages (from importlib-metadata>=1.0->redis) (3.8.0)\n",
            "Requirement already satisfied: pyparsing!=3.0.5,>=2.0.2 in /usr/local/lib/python3.7/dist-packages (from packaging>=20.4->redis) (3.0.8)\n",
            "Installing collected packages: deprecated, async-timeout, redis\n",
            "Successfully installed async-timeout-4.0.2 deprecated-1.2.13 redis-4.2.2\n"
          ]
        }
      ],
      "source": [
        "!pip install redis\n",
        "import redis\n",
        "client1 = redis.Redis(host = '43.251.253.107', port=1500,db=1)\n",
        "client2 = redis.Redis(host = '43.251.253.107', port=1500,db=2)\n",
        "client4 = redis.Redis(host = '43.251.253.107', port=1500,db=4)"
      ]
    },
    {
      "cell_type": "code",
      "execution_count": null,
      "metadata": {
        "id": "SMHrjmHfPleP"
      },
      "outputs": [],
      "source": [
        "link_output = client1.smembers('all_domains')"
      ]
    },
    {
      "cell_type": "code",
      "execution_count": null,
      "metadata": {
        "colab": {
          "base_uri": "https://localhost:8080/"
        },
        "id": "C3-nFFoNTV6T",
        "outputId": "2acf6691-0f28-443d-f456-7bf6b3799724"
      },
      "outputs": [
        {
          "output_type": "stream",
          "name": "stdout",
          "text": [
            "['https://isd-georgetown-university.com', 'https://sablevsite.com', 'https://mushk-mahal.com', 'https://nightynight.com', 'https://remaluxe.com', 'https://serene-premium-embroidered.com', 'https://zellartco.com', 'https://mohtaram.com', 'https://boaeditions.com', 'https://blaze-n-gems.com', 'https://posch-care-shop.com', 'https://sitara-studios.com', 'https://brandsporterpk.com', 'https://hub-genuinely-yours.com', 'https://niovani.com', 'https://haniyas.com', 'https://toolsbazarpk.com', 'https://zaaviay.com', 'https://the-lit-company-pakistan.com', 'https://airlink-communication.com', 'https://asimjofaofficial.com', 'https://qneonline.com', 'https://the-factory-stock.com', 'https://nadiachhotani.com', 'https://immersionresearch.com', 'https://tuhuraathletics.com', 'https://hnb-beauty-store.com', 'https://bachaaparty.com', 'https://bembel.com', 'https://islamabad12.com', 'https://mantra-pakistan.com', 'https://induscarpets.com', 'https://karachi-montessori-store.com', 'https://go-kismet.com', 'https://chase-pk.com', 'https://outdoorfood.com', 'https://lurella-pakistan.com', 'https://hadorn-swiss.com', 'https://string-thread.com', 'https://rethink-cafe.com', 'https://yves-rocher-pakistan.com', 'https://nordic-studies-press.com', 'https://handyntrendy-shop.com', 'https://rajasahb.com', 'https://yayvo-2.com', 'https://yourlibaas.com', 'https://pk-sentimentsexpress-com.com', 'https://jazminepk.com', 'https://welltew.com', 'https://limelightpk.com', 'https://thejangomall.com', 'https://readytrays.com', 'https://brandsego.com', 'https://international-house-of-luggage.com', 'https://lbkids.com', 'https://tadweenpublishing.com', 'https://rouzatirugs.com', 'https://matco-foods.com', 'https://akbaraslam.com', 'https://anderson-design-group.com', 'https://pure-art-3.com', 'https://elan-pk.com', 'https://faisalfabrics-pk.com', 'https://dr-bake.com', 'https://harris-car-care.com', 'https://the-oriental-shop.com', 'https://packit-pk.com', 'https://casinetto.com', 'https://archaic-empire.com', 'https://hiffey.com', 'https://khaanan.com', 'https://one432-2.com', 'https://vintagestreet.com', 'https://hinz-knit.com', 'https://super-feet-pakistan.com', 'https://threads-and-motifs.com', 'https://gomilaintersole.com', 'https://diversitystore-com.com', 'https://online-bazaar-pk.com', 'https://throwin-stones.com', 'https://mahroze.com', 'https://pk-studiobytcs-com.com', 'https://shapewear-pk.com', 'https://lamourworld.com', 'https://urban-galleria-home.com', 'https://elitecig.com', 'https://pollyandotherstories.com', 'https://togso.com', 'https://the-gem-hunters.com', 'https://tiaracle.com', 'https://daybreak-international-bookstore.com', 'https://dari-mooch.com', 'https://hushpuppiespk.com', 'https://caveandcanyon.com', 'https://timetochangesale.com', 'https://phonecasepk.com', 'https://afsaneh-pk.com', 'https://alfatahstore.com', 'https://the-craft-company-by-muna-siddiqui.com', 'https://colish-co.com', 'https://houseofcharizma.com', 'https://geffenbaby-com.com', 'https://pickypicksco.com', 'https://dexpel.com', 'https://buckle-seamcom.com', 'https://mapscompany.com', 'https://inappropriategifting.com', 'https://sassystorepak.com', 'https://diners-com-pk.com', 'https://ammarakhan.com', 'https://lenceria-lingerie-pk.com', 'https://lieta-gelato.com', 'https://nur-fashions.com', 'https://sayapk.com']\n"
          ]
        }
      ],
      "source": [
        "all_domains = []\n",
        "for item in link_output:\n",
        "  url = item.decode(\"utf-8\")\n",
        "  url = \"https://\"+url\n",
        "  all_domains.append(url)\n",
        "print(all_domains)  \n"
      ]
    },
    {
      "cell_type": "code",
      "execution_count": null,
      "metadata": {
        "id": "iG1BX-fsRDZy"
      },
      "outputs": [],
      "source": [
        "def load_jsonl(input_path) -> list:\n",
        "    \"\"\"\n",
        "    Read list of objects from a JSON lines file.\n",
        "    \"\"\"\n",
        "    data = []\n",
        "    with open(input_path, 'r', encoding='utf-8') as f:\n",
        "        for line in f:\n",
        "            data.append(json.loads(line.rstrip('\\n|\\r')))\n",
        "    print('Loaded {} records from {}'.format(len(data), input_path))\n",
        "    return data"
      ]
    },
    {
      "cell_type": "code",
      "execution_count": null,
      "metadata": {
        "colab": {
          "base_uri": "https://localhost:8080/"
        },
        "id": "OJYge0cKRKK9",
        "outputId": "908a9432-12fd-4df6-d02b-e9bacb7caf1f"
      },
      "outputs": [
        {
          "output_type": "stream",
          "name": "stdout",
          "text": [
            "Loaded 94 records from /content/drive/MyDrive/Cognilium/domain&technologiesShopifyonly.jsonl\n",
            "94\n"
          ]
        }
      ],
      "source": [
        "import json\n",
        "all_domains = []\n",
        "webpage_data = load_jsonl('/content/drive/MyDrive/Cognilium/domain&technologiesShopifyonly.jsonl')\n",
        "for item in webpage_data:\n",
        "  # print(item['domain'])\n",
        "  all_domains.append(item['domain'])\n",
        "print(len(all_domains))  \n",
        "for item in all_domains:\n",
        "  with open ('/content/drive/MyDrive/Cognilium/shopifyurlshardcoded.txt','a') as f:\n",
        "    f.write(item+\"\\n\")\n",
        "    f.close()"
      ]
    },
    {
      "cell_type": "code",
      "execution_count": null,
      "metadata": {
        "id": "v5ClsWmQvJHZ"
      },
      "outputs": [],
      "source": [
        "!pip install ultimate_sitemap_parser\n",
        "!pip install redis\n",
        "import os\n",
        "import multiprocessing \n",
        "import sys\n",
        "import datetime\n",
        "from multiprocessing import Pool\n",
        "import requests\n",
        "import json\n",
        "import redis\n",
        "from usp.tree import sitemap_tree_for_homepage\n",
        "!pip install 'tldextract==3.0.0'\n",
        "import tldextract\n",
        "list1 = ['http://brandsego.com','http://www.Affordable.pk','http://www.Zasimo.pk','http://www.Borjan.com.pk']\n",
        "# list1 = ['https://brandsego.com']\n",
        "client = redis.Redis(host = '43.251.253.107', port=1500,db=2)\n",
        "\n"
      ]
    },
    {
      "cell_type": "code",
      "execution_count": null,
      "metadata": {
        "id": "i2BmIE1K21aL"
      },
      "outputs": [],
      "source": [
        "def basic_func(domain):\n",
        "  try:\n",
        "    tree = sitemap_tree_for_homepage(domain)\n",
        "    urls = [page.url for page in tree.all_pages()] \n",
        "    print(len(urls), urls[0:2])\n",
        "    for item in urls:\n",
        "     \n",
        "      ext = tldextract.extract(domain)\n",
        "      url = ext.domain+'.'+ext.suffix\n",
        "      client.sadd(url,item)\n",
        "  \n",
        "  except:\n",
        "    print(\"error\")  \n",
        "\n",
        "pool = Pool(processes=4) \n",
        "pool.map(basic_func, list1)\n",
        "pool.close()"
      ]
    },
    {
      "cell_type": "code",
      "source": [
        "!pip install ultimate_sitemap_parser\n",
        "!pip install redis\n",
        "!pip install redis\n",
        "!pip install 'tldextract==3.0.0'\n",
        "import os\n",
        "import multiprocessing \n",
        "import sys\n",
        "import datetime\n",
        "from multiprocessing import Pool\n",
        "import requests\n",
        "import json\n",
        "import redis\n",
        "import json\n",
        "from usp.tree import sitemap_tree_for_homepage\n",
        "import tldextract\n",
        "import redis\n",
        "client1 = redis.Redis(host = '43.251.253.107', port=1500,db=1)\n",
        "client4 = redis.Redis(host = '43.251.253.107', port=1500,db=4)\n",
        "link_output = client1.smembers('all_domains')\n",
        "all_domains = []\n",
        "for item in link_output:\n",
        "  url = item.decode(\"utf-8\")\n",
        "  url = \"https://\"+url\n",
        "  all_domains.append(url)\n",
        "print(all_domains) \n",
        "webpage_data = load_jsonl('/content/drive/MyDrive/Cognilium/domain&technologiesShopifyonly.jsonl')\n",
        "for item in webpage_data:\n",
        "  # print(item['domain'])\n",
        "  all_domains.append(item['domain'])\n",
        "print(all_domains)  \n",
        "\n",
        "# def load_jsonl(input_path) -> list:\n",
        "#     \"\"\"\n",
        "#     Read list of objects from a JSON lines file.\n",
        "#     \"\"\"\n",
        "#     data = []\n",
        "#     with open(input_path, 'r', encoding='utf-8') as f:\n",
        "#         for line in f:\n",
        "#             data.append(json.loads(line.rstrip('\\n|\\r')))\n",
        "#     print('Loaded {} records from {}'.format(len(data), input_path))\n",
        "#     return data\n",
        "\n",
        "def basic_func(domain):\n",
        "  try:\n",
        "    tree = sitemap_tree_for_homepage(domain)\n",
        "    urls = [page.url for page in tree.all_pages()] \n",
        "    print(len(urls), urls[0:2])\n",
        "    for item in urls:\n",
        "     \n",
        "      ext = tldextract.extract(domain)\n",
        "      url = ext.domain+'.'+ext.suffix\n",
        "      client4.sadd(url,item)\n",
        "      with open('1.txt','a') as f:\n",
        "        f.write(item)\n",
        "        f.write(\"\\n\")\n",
        "        f.close()\n",
        "  \n",
        "  except:\n",
        "    print(\"error\")  \n",
        "\n",
        "pool = Pool(processes=4) \n",
        "pool.map(basic_func, list1)\n",
        "pool.close()    "
      ],
      "metadata": {
        "colab": {
          "base_uri": "https://localhost:8080/"
        },
        "id": "n6In-LQdOJeX",
        "outputId": "0dc5742b-dec5-48fc-b98a-49c65dee1cc2"
      },
      "execution_count": null,
      "outputs": [
        {
          "output_type": "stream",
          "name": "stdout",
          "text": [
            "Requirement already satisfied: ultimate_sitemap_parser in /usr/local/lib/python3.7/dist-packages (0.5)\n",
            "Requirement already satisfied: requests>=2.2.1 in /usr/local/lib/python3.7/dist-packages (from ultimate_sitemap_parser) (2.23.0)\n",
            "Requirement already satisfied: python-dateutil<3.0.0,>=2.1 in /usr/local/lib/python3.7/dist-packages (from ultimate_sitemap_parser) (2.8.2)\n",
            "Requirement already satisfied: six>=1.5 in /usr/local/lib/python3.7/dist-packages (from python-dateutil<3.0.0,>=2.1->ultimate_sitemap_parser) (1.15.0)\n",
            "Requirement already satisfied: chardet<4,>=3.0.2 in /usr/local/lib/python3.7/dist-packages (from requests>=2.2.1->ultimate_sitemap_parser) (3.0.4)\n",
            "Requirement already satisfied: urllib3!=1.25.0,!=1.25.1,<1.26,>=1.21.1 in /usr/local/lib/python3.7/dist-packages (from requests>=2.2.1->ultimate_sitemap_parser) (1.24.3)\n",
            "Requirement already satisfied: certifi>=2017.4.17 in /usr/local/lib/python3.7/dist-packages (from requests>=2.2.1->ultimate_sitemap_parser) (2021.10.8)\n",
            "Requirement already satisfied: idna<3,>=2.5 in /usr/local/lib/python3.7/dist-packages (from requests>=2.2.1->ultimate_sitemap_parser) (2.10)\n",
            "Requirement already satisfied: redis in /usr/local/lib/python3.7/dist-packages (4.2.2)\n",
            "Requirement already satisfied: importlib-metadata>=1.0 in /usr/local/lib/python3.7/dist-packages (from redis) (4.11.3)\n",
            "Requirement already satisfied: typing-extensions in /usr/local/lib/python3.7/dist-packages (from redis) (4.1.1)\n",
            "Requirement already satisfied: packaging>=20.4 in /usr/local/lib/python3.7/dist-packages (from redis) (21.3)\n",
            "Requirement already satisfied: deprecated>=1.2.3 in /usr/local/lib/python3.7/dist-packages (from redis) (1.2.13)\n",
            "Requirement already satisfied: async-timeout>=4.0.2 in /usr/local/lib/python3.7/dist-packages (from redis) (4.0.2)\n",
            "Requirement already satisfied: wrapt<2,>=1.10 in /usr/local/lib/python3.7/dist-packages (from deprecated>=1.2.3->redis) (1.14.0)\n",
            "Requirement already satisfied: zipp>=0.5 in /usr/local/lib/python3.7/dist-packages (from importlib-metadata>=1.0->redis) (3.8.0)\n",
            "Requirement already satisfied: pyparsing!=3.0.5,>=2.0.2 in /usr/local/lib/python3.7/dist-packages (from packaging>=20.4->redis) (3.0.8)\n",
            "Requirement already satisfied: redis in /usr/local/lib/python3.7/dist-packages (4.2.2)\n",
            "Requirement already satisfied: deprecated>=1.2.3 in /usr/local/lib/python3.7/dist-packages (from redis) (1.2.13)\n",
            "Requirement already satisfied: packaging>=20.4 in /usr/local/lib/python3.7/dist-packages (from redis) (21.3)\n",
            "Requirement already satisfied: async-timeout>=4.0.2 in /usr/local/lib/python3.7/dist-packages (from redis) (4.0.2)\n",
            "Requirement already satisfied: typing-extensions in /usr/local/lib/python3.7/dist-packages (from redis) (4.1.1)\n",
            "Requirement already satisfied: importlib-metadata>=1.0 in /usr/local/lib/python3.7/dist-packages (from redis) (4.11.3)\n",
            "Requirement already satisfied: wrapt<2,>=1.10 in /usr/local/lib/python3.7/dist-packages (from deprecated>=1.2.3->redis) (1.14.0)\n",
            "Requirement already satisfied: zipp>=0.5 in /usr/local/lib/python3.7/dist-packages (from importlib-metadata>=1.0->redis) (3.8.0)\n",
            "Requirement already satisfied: pyparsing!=3.0.5,>=2.0.2 in /usr/local/lib/python3.7/dist-packages (from packaging>=20.4->redis) (3.0.8)\n",
            "Requirement already satisfied: tldextract==3.0.0 in /usr/local/lib/python3.7/dist-packages (3.0.0)\n",
            "Requirement already satisfied: requests>=2.1.0 in /usr/local/lib/python3.7/dist-packages (from tldextract==3.0.0) (2.23.0)\n",
            "Requirement already satisfied: filelock>=3.0.8 in /usr/local/lib/python3.7/dist-packages (from tldextract==3.0.0) (3.6.0)\n",
            "Requirement already satisfied: requests-file>=1.4 in /usr/local/lib/python3.7/dist-packages (from tldextract==3.0.0) (1.5.1)\n",
            "Requirement already satisfied: idna in /usr/local/lib/python3.7/dist-packages (from tldextract==3.0.0) (2.10)\n",
            "Requirement already satisfied: urllib3!=1.25.0,!=1.25.1,<1.26,>=1.21.1 in /usr/local/lib/python3.7/dist-packages (from requests>=2.1.0->tldextract==3.0.0) (1.24.3)\n",
            "Requirement already satisfied: chardet<4,>=3.0.2 in /usr/local/lib/python3.7/dist-packages (from requests>=2.1.0->tldextract==3.0.0) (3.0.4)\n",
            "Requirement already satisfied: certifi>=2017.4.17 in /usr/local/lib/python3.7/dist-packages (from requests>=2.1.0->tldextract==3.0.0) (2021.10.8)\n",
            "Requirement already satisfied: six in /usr/local/lib/python3.7/dist-packages (from requests-file>=1.4->tldextract==3.0.0) (1.15.0)\n",
            "['https://elan-pk.com', 'https://sassystorepak.com', 'https://nightynight.com', 'https://outdoorfood.com', 'https://the-oriental-shop.com', 'https://khaanan.com', 'https://lurella-pakistan.com', 'https://zaaviay.com', 'https://matco-foods.com', 'https://toolsbazarpk.com', 'https://immersionresearch.com', 'https://geffenbaby-com.com', 'https://daybreak-international-bookstore.com', 'https://timetochangesale.com', 'https://readytrays.com', 'https://dari-mooch.com', 'https://qneonline.com', 'https://islamabad12.com', 'https://casinetto.com', 'https://hinz-knit.com', 'https://the-factory-stock.com', 'https://hub-genuinely-yours.com', 'https://threads-and-motifs.com', 'https://the-gem-hunters.com', 'https://sitara-studios.com', 'https://rouzatirugs.com', 'https://brandsporterpk.com', 'https://zellartco.com', 'https://dexpel.com', 'https://lenceria-lingerie-pk.com', 'https://sablevsite.com', 'https://inappropriategifting.com', 'https://afsaneh-pk.com', 'https://haniyas.com', 'https://bembel.com', 'https://lamourworld.com', 'https://tadweenpublishing.com', 'https://isd-georgetown-university.com', 'https://karachi-montessori-store.com', 'https://string-thread.com', 'https://archaic-empire.com', 'https://handyntrendy-shop.com', 'https://vintagestreet.com', 'https://brandsego.com', 'https://sayapk.com', 'https://hadorn-swiss.com', 'https://nadiachhotani.com', 'https://pure-art-3.com', 'https://ammarakhan.com', 'https://rajasahb.com', 'https://nordic-studies-press.com', 'https://posch-care-shop.com', 'https://harris-car-care.com', 'https://hnb-beauty-store.com', 'https://welltew.com', 'https://jazminepk.com', 'https://boaeditions.com', 'https://akbaraslam.com', 'https://bachaaparty.com', 'https://togso.com', 'https://diners-com-pk.com', 'https://pk-studiobytcs-com.com', 'https://packit-pk.com', 'https://shapewear-pk.com', 'https://blaze-n-gems.com', 'https://faisalfabrics-pk.com', 'https://yves-rocher-pakistan.com', 'https://colish-co.com', 'https://induscarpets.com', 'https://buckle-seamcom.com', 'https://mohtaram.com', 'https://rethink-cafe.com', 'https://the-craft-company-by-muna-siddiqui.com', 'https://hiffey.com', 'https://pollyandotherstories.com', 'https://nur-fashions.com', 'https://limelightpk.com', 'https://yayvo-2.com', 'https://chase-pk.com', 'https://niovani.com', 'https://dr-bake.com', 'https://online-bazaar-pk.com', 'https://caveandcanyon.com', 'https://elitecig.com', 'https://remaluxe.com', 'https://the-lit-company-pakistan.com', 'https://mantra-pakistan.com', 'https://tuhuraathletics.com', 'https://mushk-mahal.com', 'https://gomilaintersole.com', 'https://pk-sentimentsexpress-com.com', 'https://international-house-of-luggage.com', 'https://lbkids.com', 'https://lieta-gelato.com', 'https://urban-galleria-home.com', 'https://super-feet-pakistan.com', 'https://diversitystore-com.com', 'https://airlink-communication.com', 'https://throwin-stones.com', 'https://tiaracle.com', 'https://hushpuppiespk.com', 'https://thejangomall.com', 'https://mapscompany.com', 'https://alfatahstore.com', 'https://phonecasepk.com', 'https://serene-premium-embroidered.com', 'https://anderson-design-group.com', 'https://asimjofaofficial.com', 'https://go-kismet.com', 'https://houseofcharizma.com', 'https://one432-2.com', 'https://mahroze.com', 'https://pickypicksco.com', 'https://yourlibaas.com']\n",
            "Loaded 94 records from /content/drive/MyDrive/Cognilium/domain&technologiesShopifyonly.jsonl\n",
            "['https://elan-pk.com', 'https://sassystorepak.com', 'https://nightynight.com', 'https://outdoorfood.com', 'https://the-oriental-shop.com', 'https://khaanan.com', 'https://lurella-pakistan.com', 'https://zaaviay.com', 'https://matco-foods.com', 'https://toolsbazarpk.com', 'https://immersionresearch.com', 'https://geffenbaby-com.com', 'https://daybreak-international-bookstore.com', 'https://timetochangesale.com', 'https://readytrays.com', 'https://dari-mooch.com', 'https://qneonline.com', 'https://islamabad12.com', 'https://casinetto.com', 'https://hinz-knit.com', 'https://the-factory-stock.com', 'https://hub-genuinely-yours.com', 'https://threads-and-motifs.com', 'https://the-gem-hunters.com', 'https://sitara-studios.com', 'https://rouzatirugs.com', 'https://brandsporterpk.com', 'https://zellartco.com', 'https://dexpel.com', 'https://lenceria-lingerie-pk.com', 'https://sablevsite.com', 'https://inappropriategifting.com', 'https://afsaneh-pk.com', 'https://haniyas.com', 'https://bembel.com', 'https://lamourworld.com', 'https://tadweenpublishing.com', 'https://isd-georgetown-university.com', 'https://karachi-montessori-store.com', 'https://string-thread.com', 'https://archaic-empire.com', 'https://handyntrendy-shop.com', 'https://vintagestreet.com', 'https://brandsego.com', 'https://sayapk.com', 'https://hadorn-swiss.com', 'https://nadiachhotani.com', 'https://pure-art-3.com', 'https://ammarakhan.com', 'https://rajasahb.com', 'https://nordic-studies-press.com', 'https://posch-care-shop.com', 'https://harris-car-care.com', 'https://hnb-beauty-store.com', 'https://welltew.com', 'https://jazminepk.com', 'https://boaeditions.com', 'https://akbaraslam.com', 'https://bachaaparty.com', 'https://togso.com', 'https://diners-com-pk.com', 'https://pk-studiobytcs-com.com', 'https://packit-pk.com', 'https://shapewear-pk.com', 'https://blaze-n-gems.com', 'https://faisalfabrics-pk.com', 'https://yves-rocher-pakistan.com', 'https://colish-co.com', 'https://induscarpets.com', 'https://buckle-seamcom.com', 'https://mohtaram.com', 'https://rethink-cafe.com', 'https://the-craft-company-by-muna-siddiqui.com', 'https://hiffey.com', 'https://pollyandotherstories.com', 'https://nur-fashions.com', 'https://limelightpk.com', 'https://yayvo-2.com', 'https://chase-pk.com', 'https://niovani.com', 'https://dr-bake.com', 'https://online-bazaar-pk.com', 'https://caveandcanyon.com', 'https://elitecig.com', 'https://remaluxe.com', 'https://the-lit-company-pakistan.com', 'https://mantra-pakistan.com', 'https://tuhuraathletics.com', 'https://mushk-mahal.com', 'https://gomilaintersole.com', 'https://pk-sentimentsexpress-com.com', 'https://international-house-of-luggage.com', 'https://lbkids.com', 'https://lieta-gelato.com', 'https://urban-galleria-home.com', 'https://super-feet-pakistan.com', 'https://diversitystore-com.com', 'https://airlink-communication.com', 'https://throwin-stones.com', 'https://tiaracle.com', 'https://hushpuppiespk.com', 'https://thejangomall.com', 'https://mapscompany.com', 'https://alfatahstore.com', 'https://phonecasepk.com', 'https://serene-premium-embroidered.com', 'https://anderson-design-group.com', 'https://asimjofaofficial.com', 'https://go-kismet.com', 'https://houseofcharizma.com', 'https://one432-2.com', 'https://mahroze.com', 'https://pickypicksco.com', 'https://yourlibaas.com', 'http://www.24hours.pk', 'http://www.Almas.pk', 'http://www.Almirah.com.pk', 'http://www.Ammarakhan.com', 'http://www.Asimjofa.com', 'http://www.Autohub.pk', 'http://www.Autox.pk', 'http://www.Bagallerydeals.com', 'http://www.Bandana.pk', 'http://www.Baroque.pk', 'http://www.Bata.com.pk', 'http://www.Beechtree.pk', 'http://www.Blueshoppy.com', 'http://www.Bnbaccessories.com', 'http://www.Bonanzasatrangi.com', 'http://www.Borjan.com.pk', 'http://www.Brandsego.com', 'http://www.Brandspopper.com', 'http://www.Brandsriver.com', 'http://www.Brandsxpress.com', 'http://www.Breakout.com.pk', 'http://www.Btwonline.com', 'http://www.Ccshirts.com', 'http://www.Changeclothings.com.pk', 'http://www.Charcoal.com.pk', 'http://www.Chase.pk', 'http://www.Chasevaluecentre.com', 'http://www.Chenone.com', 'http://www.Chinyere.pk', 'http://www.Crossstitch.pk', 'http://www.Danytech.com.pk', 'http://www.Deeds.pk', 'http://www.Dikhawa.pk', 'http://www.Diners.com.pk', 'http://www.Dvago.pk', 'http://www.Elan.pk', 'http://www.Ethnic.pk', 'http://www.Exportleftovers.com', 'http://www.Firdouscloth.com', 'http://www.Hangten.com.pk', 'http://www.Hiffey.com', 'http://www.Hopenotout.com', 'http://www.Houseofcharizma.com', 'http://www.Hushpuppies.com.pk', 'http://www.Insignia.com.pk', 'http://www.Ittehadtextiles.com', 'http://www.Kayseria.com', 'http://www.Khasstores.com', 'http://www.Leisureclub.pk', 'http://www.Lemontart.pk', 'http://www.Limelight.pk', 'http://www.Makeupcityshop.com', 'http://www.Mausummery.com', 'http://www.Mayascloset.pk', 'http://www.Metroshoes.com.pk', 'http://www.Minnieminors.com', 'http://www.Mistore.pk', 'http://www.Monark.com.pk', 'http://www.Myrangja.com', 'http://www.Nidaazwer.com', 'http://www.Nishatlinen.com', 'http://www.Orangejeans.co', 'http://www.Orient.com.pk', 'http://www.Outfitters.com.pk', 'http://www.Qne.com.pk', 'http://www.Rajasahib.com', 'http://www.Rangrasiya.com.pk', 'http://www.Republicwomenswear.com', 'http://www.Royaltag.com.pk', 'http://www.Sanaabbas.com', 'http://www.Sapphireonline.pk', 'http://www.Shahsawarsuiting.com', 'http://www.Shopaholic.com.pk', 'http://www.Shopatorient.com', 'http://www.Shopatshams.com.pk', 'http://www.Shopecs.com', 'http://www.Sitarastudio.pk', 'http://www.Sobianazir.net', 'http://www.Sokamal.com', 'http://www.Soloto.com', 'http://www.Studiobytcs.com', 'http://www.Stylo.pk', 'http://www.Suffuse.pk', 'http://www.Tajori.pk', 'http://www.Thecambridgeshop.com', 'http://www.Thegadgeteffect.com', 'http://www.Threadsandmotifs.com', 'http://www.Toyzone.pk', 'http://www.Unze.com.pk', 'http://www.Urbangalleria.com', 'http://www.Urbansole.com.pk', 'http://www.Walkeaze.com', 'http://www.Wearego.com', 'http://www.Yesonline.pk']\n"
          ]
        },
        {
          "output_type": "stream",
          "name": "stderr",
          "text": [
            "2022-04-15 08:02:16,708 WARNING usp.tree [49121/MainThread]: Assuming that the homepage of http://www.Affordable.pk is http://www.Affordable.pk/\n",
            "2022-04-15 08:02:16,708 WARNING usp.tree [49120/MainThread]: Assuming that the homepage of http://brandsego.com is http://brandsego.com/\n",
            "2022-04-15 08:02:16,712 WARNING usp.tree [49122/MainThread]: Assuming that the homepage of http://www.Zasimo.pk is http://www.Zasimo.pk/\n",
            "2022-04-15 08:02:16,714 WARNING usp.tree [49123/MainThread]: Assuming that the homepage of http://www.Borjan.com.pk is http://www.Borjan.com.pk/\n",
            "2022-04-15 08:02:16,729 INFO usp.fetch_parse [49123/MainThread]: Fetching level 0 sitemap from http://www.Borjan.com.pk/robots.txt...\n",
            "2022-04-15 08:02:16,727 INFO usp.fetch_parse [49121/MainThread]: Fetching level 0 sitemap from http://www.Affordable.pk/robots.txt...\n",
            "2022-04-15 08:02:16,719 INFO usp.fetch_parse [49122/MainThread]: Fetching level 0 sitemap from http://www.Zasimo.pk/robots.txt...\n",
            "2022-04-15 08:02:16,735 INFO usp.helpers [49121/MainThread]: Fetching URL http://www.Affordable.pk/robots.txt...\n",
            "2022-04-15 08:02:16,725 INFO usp.fetch_parse [49120/MainThread]: Fetching level 0 sitemap from http://brandsego.com/robots.txt...\n",
            "2022-04-15 08:02:16,751 INFO usp.helpers [49120/MainThread]: Fetching URL http://brandsego.com/robots.txt...\n",
            "2022-04-15 08:02:16,737 INFO usp.helpers [49122/MainThread]: Fetching URL http://www.Zasimo.pk/robots.txt...\n",
            "2022-04-15 08:02:16,740 INFO usp.helpers [49123/MainThread]: Fetching URL http://www.Borjan.com.pk/robots.txt...\n",
            "2022-04-15 08:02:17,118 INFO usp.fetch_parse [49121/MainThread]: Parsing sitemap from URL http://www.Affordable.pk/robots.txt...\n",
            "2022-04-15 08:02:17,121 INFO usp.fetch_parse [49121/MainThread]: Fetching level 0 sitemap from https://www.affordable.pk/sitemap.xml...\n",
            "2022-04-15 08:02:17,123 INFO usp.helpers [49121/MainThread]: Fetching URL https://www.affordable.pk/sitemap.xml...\n",
            "2022-04-15 08:02:17,289 INFO usp.fetch_parse [49123/MainThread]: Parsing sitemap from URL http://www.Borjan.com.pk/robots.txt...\n",
            "2022-04-15 08:02:17,294 INFO usp.fetch_parse [49123/MainThread]: Fetching level 0 sitemap from https://www.borjan.com.pk/sitemap.xml...\n",
            "2022-04-15 08:02:17,304 INFO usp.helpers [49123/MainThread]: Fetching URL https://www.borjan.com.pk/sitemap.xml...\n",
            "2022-04-15 08:02:17,308 INFO usp.fetch_parse [49120/MainThread]: Parsing sitemap from URL http://brandsego.com/robots.txt...\n",
            "2022-04-15 08:02:17,314 INFO usp.fetch_parse [49120/MainThread]: Fetching level 0 sitemap from https://brandsego.com/sitemap.xml...\n",
            "2022-04-15 08:02:17,317 INFO usp.helpers [49120/MainThread]: Fetching URL https://brandsego.com/sitemap.xml...\n",
            "2022-04-15 08:02:17,463 INFO usp.fetch_parse [49122/MainThread]: Parsing sitemap from URL http://www.Zasimo.pk/robots.txt...\n",
            "2022-04-15 08:02:17,468 INFO usp.fetch_parse [49122/MainThread]: Fetching level 0 sitemap from https://zasimo.pk/pub/sitemap.xml...\n",
            "2022-04-15 08:02:17,471 INFO usp.helpers [49122/MainThread]: Fetching URL https://zasimo.pk/pub/sitemap.xml...\n",
            "2022-04-15 08:02:17,651 INFO usp.fetch_parse [49123/MainThread]: Parsing sitemap from URL https://www.borjan.com.pk/sitemap.xml...\n",
            "2022-04-15 08:02:17,654 INFO usp.fetch_parse [49123/MainThread]: Fetching level 1 sitemap from https://www.borjan.com.pk/sitemap_products_1.xml?from=2302235967545&to=7203173597359...\n",
            "2022-04-15 08:02:17,659 INFO usp.helpers [49123/MainThread]: Fetching URL https://www.borjan.com.pk/sitemap_products_1.xml?from=2302235967545&to=7203173597359...\n",
            "2022-04-15 08:02:17,698 INFO usp.fetch_parse [49120/MainThread]: Parsing sitemap from URL https://brandsego.com/sitemap.xml...\n",
            "2022-04-15 08:02:17,701 INFO usp.fetch_parse [49120/MainThread]: Fetching level 1 sitemap from https://brandsego.com/sitemap_products_1.xml?from=3430802882643&to=6749141172307...\n",
            "2022-04-15 08:02:17,706 INFO usp.helpers [49120/MainThread]: Fetching URL https://brandsego.com/sitemap_products_1.xml?from=3430802882643&to=6749141172307...\n",
            "2022-04-15 08:02:17,756 INFO usp.fetch_parse [49121/MainThread]: Parsing sitemap from URL https://www.affordable.pk/sitemap.xml...\n",
            "2022-04-15 08:02:17,964 INFO usp.fetch_parse [49122/MainThread]: Parsing sitemap from URL https://zasimo.pk/pub/sitemap.xml...\n",
            "2022-04-15 08:02:18,407 INFO usp.fetch_parse [49123/MainThread]: Parsing sitemap from URL https://www.borjan.com.pk/sitemap_products_1.xml?from=2302235967545&to=7203173597359...\n",
            "2022-04-15 08:02:19,045 INFO usp.fetch_parse [49122/MainThread]: Fetching level 0 sitemap from http://www.Zasimo.pk/sitemap.xml.gz...\n",
            "2022-04-15 08:02:19,064 INFO usp.helpers [49122/MainThread]: Fetching URL http://www.Zasimo.pk/sitemap.xml.gz...\n",
            "2022-04-15 08:02:19,660 INFO usp.fetch_parse [49123/MainThread]: Fetching level 1 sitemap from https://www.borjan.com.pk/sitemap_pages_1.xml...\n",
            "2022-04-15 08:02:19,664 INFO usp.helpers [49123/MainThread]: Fetching URL https://www.borjan.com.pk/sitemap_pages_1.xml...\n",
            "2022-04-15 08:02:19,972 INFO usp.fetch_parse [49123/MainThread]: Parsing sitemap from URL https://www.borjan.com.pk/sitemap_pages_1.xml...\n",
            "2022-04-15 08:02:19,994 INFO usp.fetch_parse [49123/MainThread]: Fetching level 1 sitemap from https://www.borjan.com.pk/sitemap_collections_1.xml...\n",
            "2022-04-15 08:02:20,001 INFO usp.helpers [49123/MainThread]: Fetching URL https://www.borjan.com.pk/sitemap_collections_1.xml...\n",
            "2022-04-15 08:02:20,114 WARNING usp.helpers [49122/MainThread]: Request for URL http://www.Zasimo.pk/sitemap.xml.gz failed: 404 Not Found\n",
            "2022-04-15 08:02:20,123 INFO usp.helpers [49122/MainThread]: Not retrying for URL http://www.Zasimo.pk/sitemap.xml.gz\n",
            "2022-04-15 08:02:20,129 INFO usp.fetch_parse [49122/MainThread]: Fetching level 0 sitemap from http://www.Zasimo.pk/.sitemap.xml...\n",
            "2022-04-15 08:02:20,137 INFO usp.helpers [49122/MainThread]: Fetching URL http://www.Zasimo.pk/.sitemap.xml...\n",
            "2022-04-15 08:02:20,362 INFO usp.fetch_parse [49123/MainThread]: Parsing sitemap from URL https://www.borjan.com.pk/sitemap_collections_1.xml...\n",
            "2022-04-15 08:02:20,430 WARNING usp.helpers [49122/MainThread]: Request for URL http://www.Zasimo.pk/.sitemap.xml failed: 403 Forbidden\n",
            "2022-04-15 08:02:20,445 INFO usp.helpers [49122/MainThread]: Not retrying for URL http://www.Zasimo.pk/.sitemap.xml\n",
            "2022-04-15 08:02:20,465 INFO usp.fetch_parse [49122/MainThread]: Fetching level 0 sitemap from http://www.Zasimo.pk/sitemap_index.xml.gz...\n",
            "2022-04-15 08:02:20,467 INFO usp.fetch_parse [49123/MainThread]: Fetching level 1 sitemap from https://www.borjan.com.pk/sitemap_blogs_1.xml...\n",
            "2022-04-15 08:02:20,470 INFO usp.helpers [49122/MainThread]: Fetching URL http://www.Zasimo.pk/sitemap_index.xml.gz...\n",
            "2022-04-15 08:02:20,488 INFO usp.helpers [49123/MainThread]: Fetching URL https://www.borjan.com.pk/sitemap_blogs_1.xml...\n",
            "2022-04-15 08:02:20,657 INFO usp.fetch_parse [49120/MainThread]: Parsing sitemap from URL https://brandsego.com/sitemap_products_1.xml?from=3430802882643&to=6749141172307...\n",
            "2022-04-15 08:02:20,782 INFO usp.fetch_parse [49123/MainThread]: Parsing sitemap from URL https://www.borjan.com.pk/sitemap_blogs_1.xml...\n",
            "2022-04-15 08:02:20,807 INFO usp.fetch_parse [49123/MainThread]: Fetching level 0 sitemap from http://www.Borjan.com.pk/sitemap.xml.gz...\n",
            "2022-04-15 08:02:20,824 INFO usp.helpers [49123/MainThread]: Fetching URL http://www.Borjan.com.pk/sitemap.xml.gz...\n",
            "2022-04-15 08:02:21,411 WARNING usp.helpers [49123/MainThread]: Request for URL http://www.Borjan.com.pk/sitemap.xml.gz failed: 404 Not Found\n",
            "2022-04-15 08:02:21,425 INFO usp.helpers [49123/MainThread]: Not retrying for URL http://www.Borjan.com.pk/sitemap.xml.gz\n",
            "2022-04-15 08:02:21,437 INFO usp.fetch_parse [49123/MainThread]: Fetching level 0 sitemap from http://www.Borjan.com.pk/.sitemap.xml...\n",
            "2022-04-15 08:02:21,449 INFO usp.helpers [49123/MainThread]: Fetching URL http://www.Borjan.com.pk/.sitemap.xml...\n",
            "2022-04-15 08:02:21,546 WARNING usp.helpers [49122/MainThread]: Request for URL http://www.Zasimo.pk/sitemap_index.xml.gz failed: 404 Not Found\n",
            "2022-04-15 08:02:21,566 INFO usp.helpers [49122/MainThread]: Not retrying for URL http://www.Zasimo.pk/sitemap_index.xml.gz\n",
            "2022-04-15 08:02:21,577 INFO usp.fetch_parse [49122/MainThread]: Fetching level 0 sitemap from http://www.Zasimo.pk/sitemap.xml...\n",
            "2022-04-15 08:02:21,589 INFO usp.helpers [49122/MainThread]: Fetching URL http://www.Zasimo.pk/sitemap.xml...\n",
            "2022-04-15 08:02:21,934 WARNING usp.helpers [49123/MainThread]: Request for URL http://www.Borjan.com.pk/.sitemap.xml failed: 404 Not Found\n",
            "2022-04-15 08:02:21,948 INFO usp.helpers [49123/MainThread]: Not retrying for URL http://www.Borjan.com.pk/.sitemap.xml\n",
            "2022-04-15 08:02:21,961 INFO usp.fetch_parse [49123/MainThread]: Fetching level 0 sitemap from http://www.Borjan.com.pk/sitemap_index.xml.gz...\n",
            "2022-04-15 08:02:21,973 INFO usp.helpers [49123/MainThread]: Fetching URL http://www.Borjan.com.pk/sitemap_index.xml.gz...\n",
            "2022-04-15 08:02:22,140 INFO usp.fetch_parse [49122/MainThread]: Parsing sitemap from URL http://www.Zasimo.pk/sitemap.xml...\n",
            "2022-04-15 08:02:22,451 WARNING usp.helpers [49123/MainThread]: Request for URL http://www.Borjan.com.pk/sitemap_index.xml.gz failed: 404 Not Found\n",
            "2022-04-15 08:02:22,469 INFO usp.helpers [49123/MainThread]: Not retrying for URL http://www.Borjan.com.pk/sitemap_index.xml.gz\n",
            "2022-04-15 08:02:22,478 INFO usp.fetch_parse [49123/MainThread]: Fetching level 0 sitemap from http://www.Borjan.com.pk/sitemap.xml...\n",
            "2022-04-15 08:02:22,490 INFO usp.helpers [49123/MainThread]: Fetching URL http://www.Borjan.com.pk/sitemap.xml...\n",
            "2022-04-15 08:02:22,939 INFO usp.fetch_parse [49123/MainThread]: Parsing sitemap from URL http://www.Borjan.com.pk/sitemap.xml...\n",
            "2022-04-15 08:02:22,950 INFO usp.fetch_parse [49123/MainThread]: Fetching level 1 sitemap from https://www.borjan.com.pk/sitemap_products_1.xml?from=2302235967545&to=7203173597359...\n",
            "2022-04-15 08:02:22,962 INFO usp.helpers [49123/MainThread]: Fetching URL https://www.borjan.com.pk/sitemap_products_1.xml?from=2302235967545&to=7203173597359...\n",
            "2022-04-15 08:02:23,425 INFO usp.fetch_parse [49123/MainThread]: Parsing sitemap from URL https://www.borjan.com.pk/sitemap_products_1.xml?from=2302235967545&to=7203173597359...\n",
            "2022-04-15 08:02:23,434 INFO usp.fetch_parse [49122/MainThread]: Fetching level 0 sitemap from http://www.Zasimo.pk/sitemap...\n",
            "2022-04-15 08:02:23,445 INFO usp.helpers [49122/MainThread]: Fetching URL http://www.Zasimo.pk/sitemap...\n",
            "2022-04-15 08:02:23,701 INFO usp.fetch_parse [49120/MainThread]: Fetching level 1 sitemap from https://brandsego.com/sitemap_pages_1.xml...\n",
            "2022-04-15 08:02:23,708 INFO usp.helpers [49120/MainThread]: Fetching URL https://brandsego.com/sitemap_pages_1.xml...\n",
            "2022-04-15 08:02:23,826 INFO usp.fetch_parse [49121/MainThread]: Fetching level 0 sitemap from http://www.Affordable.pk/sitemap.xml.gz...\n",
            "2022-04-15 08:02:23,828 INFO usp.helpers [49121/MainThread]: Fetching URL http://www.Affordable.pk/sitemap.xml.gz...\n",
            "2022-04-15 08:02:24,072 INFO usp.fetch_parse [49120/MainThread]: Parsing sitemap from URL https://brandsego.com/sitemap_pages_1.xml...\n",
            "2022-04-15 08:02:24,081 INFO usp.fetch_parse [49120/MainThread]: Fetching level 1 sitemap from https://brandsego.com/sitemap_collections_1.xml...\n",
            "2022-04-15 08:02:24,083 INFO usp.helpers [49120/MainThread]: Fetching URL https://brandsego.com/sitemap_collections_1.xml...\n",
            "2022-04-15 08:02:24,218 INFO usp.fetch_parse [49123/MainThread]: Fetching level 1 sitemap from https://www.borjan.com.pk/sitemap_pages_1.xml...\n",
            "2022-04-15 08:02:24,221 INFO usp.helpers [49123/MainThread]: Fetching URL https://www.borjan.com.pk/sitemap_pages_1.xml...\n",
            "2022-04-15 08:02:24,381 INFO usp.fetch_parse [49120/MainThread]: Parsing sitemap from URL https://brandsego.com/sitemap_collections_1.xml...\n",
            "2022-04-15 08:02:24,420 WARNING usp.helpers [49122/MainThread]: Request for URL http://www.Zasimo.pk/sitemap failed: 404 Not Found\n",
            "2022-04-15 08:02:24,423 INFO usp.helpers [49122/MainThread]: Not retrying for URL http://www.Zasimo.pk/sitemap\n",
            "2022-04-15 08:02:24,426 INFO usp.fetch_parse [49120/MainThread]: Fetching level 1 sitemap from https://brandsego.com/sitemap_blogs_1.xml...\n",
            "2022-04-15 08:02:24,431 INFO usp.helpers [49120/MainThread]: Fetching URL https://brandsego.com/sitemap_blogs_1.xml...\n",
            "2022-04-15 08:02:24,433 INFO usp.fetch_parse [49122/MainThread]: Fetching level 0 sitemap from http://www.Zasimo.pk/sitemap-index.xml...\n",
            "2022-04-15 08:02:24,441 INFO usp.helpers [49122/MainThread]: Fetching URL http://www.Zasimo.pk/sitemap-index.xml...\n",
            "2022-04-15 08:02:24,506 INFO usp.fetch_parse [49123/MainThread]: Parsing sitemap from URL https://www.borjan.com.pk/sitemap_pages_1.xml...\n",
            "2022-04-15 08:02:24,524 INFO usp.fetch_parse [49123/MainThread]: Fetching level 1 sitemap from https://www.borjan.com.pk/sitemap_collections_1.xml...\n",
            "2022-04-15 08:02:24,525 INFO usp.helpers [49123/MainThread]: Fetching URL https://www.borjan.com.pk/sitemap_collections_1.xml...\n",
            "2022-04-15 08:02:24,756 INFO usp.fetch_parse [49120/MainThread]: Parsing sitemap from URL https://brandsego.com/sitemap_blogs_1.xml...\n",
            "2022-04-15 08:02:24,763 INFO usp.fetch_parse [49120/MainThread]: Fetching level 0 sitemap from http://brandsego.com/sitemap.xml.gz...\n",
            "2022-04-15 08:02:24,765 INFO usp.helpers [49120/MainThread]: Fetching URL http://brandsego.com/sitemap.xml.gz...\n",
            "2022-04-15 08:02:24,777 INFO usp.fetch_parse [49123/MainThread]: Parsing sitemap from URL https://www.borjan.com.pk/sitemap_collections_1.xml...\n",
            "2022-04-15 08:02:24,847 INFO usp.fetch_parse [49123/MainThread]: Fetching level 1 sitemap from https://www.borjan.com.pk/sitemap_blogs_1.xml...\n",
            "2022-04-15 08:02:24,849 INFO usp.helpers [49123/MainThread]: Fetching URL https://www.borjan.com.pk/sitemap_blogs_1.xml...\n",
            "2022-04-15 08:02:25,063 ERROR usp.helpers [49121/MainThread]: Unable to gunzip response <usp.web_client.requests_client.RequestsWebClientSuccessResponse object at 0x7f2b5e63ee10>, maybe it's a non-gzipped sitemap: Unable to gunzip data: Not a gzipped file (b'<!')\n",
            "2022-04-15 08:02:25,070 INFO usp.fetch_parse [49121/MainThread]: Parsing sitemap from URL http://www.Affordable.pk/sitemap.xml.gz...\n",
            "2022-04-15 08:02:25,078 ERROR usp.fetch_parse [49121/MainThread]: Parsing sitemap from URL http://www.Affordable.pk/sitemap.xml.gz failed: syntax error: line 1, column 0\n",
            "2022-04-15 08:02:25,083 INFO usp.fetch_parse [49121/MainThread]: Fetching level 0 sitemap from http://www.Affordable.pk/.sitemap.xml...\n",
            "2022-04-15 08:02:25,087 INFO usp.helpers [49121/MainThread]: Fetching URL http://www.Affordable.pk/.sitemap.xml...\n",
            "2022-04-15 08:02:25,097 INFO usp.fetch_parse [49123/MainThread]: Parsing sitemap from URL https://www.borjan.com.pk/sitemap_blogs_1.xml...\n",
            "2022-04-15 08:02:25,106 INFO usp.fetch_parse [49123/MainThread]: Fetching level 0 sitemap from http://www.Borjan.com.pk/sitemap...\n",
            "2022-04-15 08:02:25,111 INFO usp.helpers [49123/MainThread]: Fetching URL http://www.Borjan.com.pk/sitemap...\n",
            "2022-04-15 08:02:25,287 WARNING usp.helpers [49120/MainThread]: Request for URL http://brandsego.com/sitemap.xml.gz failed: 404 Not Found\n",
            "2022-04-15 08:02:25,289 INFO usp.helpers [49120/MainThread]: Not retrying for URL http://brandsego.com/sitemap.xml.gz\n",
            "2022-04-15 08:02:25,295 INFO usp.fetch_parse [49120/MainThread]: Fetching level 0 sitemap from http://brandsego.com/.sitemap.xml...\n",
            "2022-04-15 08:02:25,299 INFO usp.helpers [49120/MainThread]: Fetching URL http://brandsego.com/.sitemap.xml...\n",
            "2022-04-15 08:02:25,444 WARNING usp.helpers [49122/MainThread]: Request for URL http://www.Zasimo.pk/sitemap-index.xml failed: 404 Not Found\n",
            "2022-04-15 08:02:25,452 INFO usp.helpers [49122/MainThread]: Not retrying for URL http://www.Zasimo.pk/sitemap-index.xml\n",
            "2022-04-15 08:02:25,458 INFO usp.fetch_parse [49122/MainThread]: Fetching level 0 sitemap from http://www.Zasimo.pk/sitemap_index.xml...\n",
            "2022-04-15 08:02:25,462 INFO usp.helpers [49122/MainThread]: Fetching URL http://www.Zasimo.pk/sitemap_index.xml...\n",
            "2022-04-15 08:02:25,748 WARNING usp.helpers [49120/MainThread]: Request for URL http://brandsego.com/.sitemap.xml failed: 404 Not Found\n",
            "2022-04-15 08:02:25,750 INFO usp.helpers [49120/MainThread]: Not retrying for URL http://brandsego.com/.sitemap.xml\n",
            "2022-04-15 08:02:25,755 INFO usp.fetch_parse [49120/MainThread]: Fetching level 0 sitemap from http://brandsego.com/sitemap_index.xml.gz...\n",
            "2022-04-15 08:02:25,767 INFO usp.helpers [49120/MainThread]: Fetching URL http://brandsego.com/sitemap_index.xml.gz...\n",
            "2022-04-15 08:02:25,838 WARNING usp.helpers [49123/MainThread]: Request for URL http://www.Borjan.com.pk/sitemap failed: 404 Not Found\n",
            "2022-04-15 08:02:25,841 INFO usp.helpers [49123/MainThread]: Not retrying for URL http://www.Borjan.com.pk/sitemap\n",
            "2022-04-15 08:02:25,844 INFO usp.fetch_parse [49123/MainThread]: Fetching level 0 sitemap from http://www.Borjan.com.pk/sitemap-index.xml...\n",
            "2022-04-15 08:02:25,848 INFO usp.helpers [49123/MainThread]: Fetching URL http://www.Borjan.com.pk/sitemap-index.xml...\n",
            "2022-04-15 08:02:26,263 WARNING usp.helpers [49120/MainThread]: Request for URL http://brandsego.com/sitemap_index.xml.gz failed: 404 Not Found\n",
            "2022-04-15 08:02:26,267 INFO usp.helpers [49120/MainThread]: Not retrying for URL http://brandsego.com/sitemap_index.xml.gz\n",
            "2022-04-15 08:02:26,271 INFO usp.fetch_parse [49120/MainThread]: Fetching level 0 sitemap from http://brandsego.com/sitemap.xml...\n",
            "2022-04-15 08:02:26,276 INFO usp.helpers [49120/MainThread]: Fetching URL http://brandsego.com/sitemap.xml...\n",
            "2022-04-15 08:02:26,286 WARNING usp.helpers [49123/MainThread]: Request for URL http://www.Borjan.com.pk/sitemap-index.xml failed: 404 Not Found\n",
            "2022-04-15 08:02:26,289 INFO usp.helpers [49123/MainThread]: Not retrying for URL http://www.Borjan.com.pk/sitemap-index.xml\n",
            "2022-04-15 08:02:26,293 INFO usp.fetch_parse [49123/MainThread]: Fetching level 0 sitemap from http://www.Borjan.com.pk/sitemap_index.xml...\n",
            "2022-04-15 08:02:26,298 INFO usp.helpers [49123/MainThread]: Fetching URL http://www.Borjan.com.pk/sitemap_index.xml...\n",
            "2022-04-15 08:02:26,321 INFO usp.fetch_parse [49121/MainThread]: Parsing sitemap from URL http://www.Affordable.pk/.sitemap.xml...\n",
            "2022-04-15 08:02:26,325 ERROR usp.fetch_parse [49121/MainThread]: Parsing sitemap from URL http://www.Affordable.pk/.sitemap.xml failed: syntax error: line 1, column 0\n",
            "2022-04-15 08:02:26,329 INFO usp.fetch_parse [49121/MainThread]: Fetching level 0 sitemap from http://www.Affordable.pk/sitemap_index.xml.gz...\n",
            "2022-04-15 08:02:26,332 INFO usp.helpers [49121/MainThread]: Fetching URL http://www.Affordable.pk/sitemap_index.xml.gz...\n",
            "2022-04-15 08:02:26,438 WARNING usp.helpers [49122/MainThread]: Request for URL http://www.Zasimo.pk/sitemap_index.xml failed: 404 Not Found\n",
            "2022-04-15 08:02:26,440 INFO usp.helpers [49122/MainThread]: Not retrying for URL http://www.Zasimo.pk/sitemap_index.xml\n",
            "2022-04-15 08:02:26,447 INFO usp.fetch_parse [49122/MainThread]: Fetching level 0 sitemap from http://www.Zasimo.pk/sitemap-index.xml.gz...\n",
            "2022-04-15 08:02:26,455 INFO usp.helpers [49122/MainThread]: Fetching URL http://www.Zasimo.pk/sitemap-index.xml.gz...\n",
            "2022-04-15 08:02:26,727 INFO usp.fetch_parse [49120/MainThread]: Parsing sitemap from URL http://brandsego.com/sitemap.xml...\n",
            "2022-04-15 08:02:26,734 INFO usp.fetch_parse [49120/MainThread]: Fetching level 1 sitemap from https://brandsego.com/sitemap_products_1.xml?from=3430802882643&to=6749141172307...\n",
            "2022-04-15 08:02:26,738 WARNING usp.helpers [49123/MainThread]: Request for URL http://www.Borjan.com.pk/sitemap_index.xml failed: 404 Not Found\n",
            "2022-04-15 08:02:26,742 INFO usp.helpers [49120/MainThread]: Fetching URL https://brandsego.com/sitemap_products_1.xml?from=3430802882643&to=6749141172307...\n",
            "2022-04-15 08:02:26,743 INFO usp.helpers [49123/MainThread]: Not retrying for URL http://www.Borjan.com.pk/sitemap_index.xml\n",
            "2022-04-15 08:02:26,755 INFO usp.fetch_parse [49123/MainThread]: Fetching level 0 sitemap from http://www.Borjan.com.pk/sitemap-index.xml.gz...\n",
            "2022-04-15 08:02:26,760 INFO usp.helpers [49123/MainThread]: Fetching URL http://www.Borjan.com.pk/sitemap-index.xml.gz...\n",
            "2022-04-15 08:02:27,177 INFO usp.fetch_parse [49120/MainThread]: Parsing sitemap from URL https://brandsego.com/sitemap_products_1.xml?from=3430802882643&to=6749141172307...\n",
            "2022-04-15 08:02:27,192 WARNING usp.helpers [49123/MainThread]: Request for URL http://www.Borjan.com.pk/sitemap-index.xml.gz failed: 404 Not Found\n",
            "2022-04-15 08:02:27,202 INFO usp.helpers [49123/MainThread]: Not retrying for URL http://www.Borjan.com.pk/sitemap-index.xml.gz\n",
            "2022-04-15 08:02:27,212 INFO usp.fetch_parse [49123/MainThread]: Fetching level 0 sitemap from http://www.Borjan.com.pk/sitemap/sitemap-index.xml...\n",
            "2022-04-15 08:02:27,216 INFO usp.helpers [49123/MainThread]: Fetching URL http://www.Borjan.com.pk/sitemap/sitemap-index.xml...\n",
            "2022-04-15 08:02:27,553 WARNING usp.helpers [49122/MainThread]: Request for URL http://www.Zasimo.pk/sitemap-index.xml.gz failed: 404 Not Found\n",
            "2022-04-15 08:02:27,561 INFO usp.helpers [49122/MainThread]: Not retrying for URL http://www.Zasimo.pk/sitemap-index.xml.gz\n",
            "2022-04-15 08:02:27,570 INFO usp.fetch_parse [49122/MainThread]: Fetching level 0 sitemap from http://www.Zasimo.pk/sitemap/sitemap-index.xml...\n",
            "2022-04-15 08:02:27,582 INFO usp.helpers [49122/MainThread]: Fetching URL http://www.Zasimo.pk/sitemap/sitemap-index.xml...\n",
            "2022-04-15 08:02:27,659 WARNING usp.helpers [49123/MainThread]: Request for URL http://www.Borjan.com.pk/sitemap/sitemap-index.xml failed: 404 Not Found\n",
            "2022-04-15 08:02:27,668 INFO usp.helpers [49123/MainThread]: Not retrying for URL http://www.Borjan.com.pk/sitemap/sitemap-index.xml\n",
            "2022-04-15 08:02:27,675 INFO usp.fetch_parse [49123/MainThread]: Fetching level 0 sitemap from http://www.Borjan.com.pk/admin/config/search/xmlsitemap...\n",
            "2022-04-15 08:02:27,687 INFO usp.helpers [49123/MainThread]: Fetching URL http://www.Borjan.com.pk/admin/config/search/xmlsitemap...\n",
            "2022-04-15 08:02:27,736 ERROR usp.helpers [49121/MainThread]: Unable to gunzip response <usp.web_client.requests_client.RequestsWebClientSuccessResponse object at 0x7f2b5e63ee10>, maybe it's a non-gzipped sitemap: Unable to gunzip data: Not a gzipped file (b'<!')\n",
            "2022-04-15 08:02:27,738 INFO usp.fetch_parse [49121/MainThread]: Parsing sitemap from URL http://www.Affordable.pk/sitemap_index.xml.gz...\n",
            "2022-04-15 08:02:27,746 ERROR usp.fetch_parse [49121/MainThread]: Parsing sitemap from URL http://www.Affordable.pk/sitemap_index.xml.gz failed: syntax error: line 1, column 0\n",
            "2022-04-15 08:02:27,756 INFO usp.fetch_parse [49121/MainThread]: Fetching level 0 sitemap from http://www.Affordable.pk/sitemap.xml...\n",
            "2022-04-15 08:02:27,765 INFO usp.helpers [49121/MainThread]: Fetching URL http://www.Affordable.pk/sitemap.xml...\n",
            "2022-04-15 08:02:28,490 INFO usp.fetch_parse [49121/MainThread]: Parsing sitemap from URL http://www.Affordable.pk/sitemap.xml...\n",
            "2022-04-15 08:02:28,510 WARNING usp.helpers [49122/MainThread]: Request for URL http://www.Zasimo.pk/sitemap/sitemap-index.xml failed: 404 Not Found\n",
            "2022-04-15 08:02:28,530 INFO usp.helpers [49122/MainThread]: Not retrying for URL http://www.Zasimo.pk/sitemap/sitemap-index.xml\n",
            "2022-04-15 08:02:28,544 INFO usp.fetch_parse [49122/MainThread]: Fetching level 0 sitemap from http://www.Zasimo.pk/admin/config/search/xmlsitemap...\n",
            "2022-04-15 08:02:28,559 INFO usp.helpers [49122/MainThread]: Fetching URL http://www.Zasimo.pk/admin/config/search/xmlsitemap...\n",
            "2022-04-15 08:02:28,625 INFO usp.fetch_parse [49123/MainThread]: Parsing sitemap from URL http://www.Borjan.com.pk/admin/config/search/xmlsitemap...\n",
            "2022-04-15 08:02:28,633 ERROR usp.fetch_parse [49123/MainThread]: Parsing sitemap from URL http://www.Borjan.com.pk/admin/config/search/xmlsitemap failed: Unsupported root element 'html'.\n",
            "2022-04-15 08:02:28,631 INFO usp.fetch_parse [49120/MainThread]: Fetching level 1 sitemap from https://brandsego.com/sitemap_pages_1.xml...\n",
            "2022-04-15 08:02:28,664 INFO usp.helpers [49120/MainThread]: Fetching URL https://brandsego.com/sitemap_pages_1.xml...\n"
          ]
        },
        {
          "output_type": "stream",
          "name": "stdout",
          "text": [
            "4436 ['https://www.borjan.com.pk/', 'https://www.borjan.com.pk/products/m3992']\n"
          ]
        },
        {
          "output_type": "stream",
          "name": "stderr",
          "text": [
            "2022-04-15 08:02:28,947 INFO usp.fetch_parse [49120/MainThread]: Parsing sitemap from URL https://brandsego.com/sitemap_pages_1.xml...\n",
            "2022-04-15 08:02:28,981 INFO usp.fetch_parse [49120/MainThread]: Fetching level 1 sitemap from https://brandsego.com/sitemap_collections_1.xml...\n",
            "2022-04-15 08:02:29,003 INFO usp.helpers [49120/MainThread]: Fetching URL https://brandsego.com/sitemap_collections_1.xml...\n",
            "2022-04-15 08:02:29,266 INFO usp.fetch_parse [49120/MainThread]: Parsing sitemap from URL https://brandsego.com/sitemap_collections_1.xml...\n",
            "2022-04-15 08:02:29,347 INFO usp.fetch_parse [49120/MainThread]: Fetching level 1 sitemap from https://brandsego.com/sitemap_blogs_1.xml...\n",
            "2022-04-15 08:02:29,356 INFO usp.helpers [49120/MainThread]: Fetching URL https://brandsego.com/sitemap_blogs_1.xml...\n",
            "2022-04-15 08:02:29,646 INFO usp.fetch_parse [49120/MainThread]: Parsing sitemap from URL https://brandsego.com/sitemap_blogs_1.xml...\n",
            "2022-04-15 08:02:29,656 INFO usp.fetch_parse [49120/MainThread]: Fetching level 0 sitemap from http://brandsego.com/sitemap...\n",
            "2022-04-15 08:02:29,648 WARNING usp.helpers [49122/MainThread]: Request for URL http://www.Zasimo.pk/admin/config/search/xmlsitemap failed: 404 Not Found\n",
            "2022-04-15 08:02:29,660 INFO usp.helpers [49120/MainThread]: Fetching URL http://brandsego.com/sitemap...\n",
            "2022-04-15 08:02:29,663 INFO usp.helpers [49122/MainThread]: Not retrying for URL http://www.Zasimo.pk/admin/config/search/xmlsitemap\n"
          ]
        },
        {
          "output_type": "stream",
          "name": "stdout",
          "text": [
            "2418 ['https://zasimo.pk/new-in', 'https://zasimo.pk/catalog/category/view/id/44']\n"
          ]
        },
        {
          "output_type": "stream",
          "name": "stderr",
          "text": [
            "2022-04-15 08:02:30,181 WARNING usp.helpers [49120/MainThread]: Request for URL http://brandsego.com/sitemap failed: 404 Not Found\n",
            "2022-04-15 08:02:30,185 INFO usp.helpers [49120/MainThread]: Not retrying for URL http://brandsego.com/sitemap\n",
            "2022-04-15 08:02:30,195 INFO usp.fetch_parse [49120/MainThread]: Fetching level 0 sitemap from http://brandsego.com/sitemap-index.xml...\n",
            "2022-04-15 08:02:30,198 INFO usp.helpers [49120/MainThread]: Fetching URL http://brandsego.com/sitemap-index.xml...\n",
            "2022-04-15 08:02:30,664 WARNING usp.helpers [49120/MainThread]: Request for URL http://brandsego.com/sitemap-index.xml failed: 404 Not Found\n",
            "2022-04-15 08:02:30,678 INFO usp.helpers [49120/MainThread]: Not retrying for URL http://brandsego.com/sitemap-index.xml\n",
            "2022-04-15 08:02:30,685 INFO usp.fetch_parse [49120/MainThread]: Fetching level 0 sitemap from http://brandsego.com/sitemap_index.xml...\n",
            "2022-04-15 08:02:30,695 INFO usp.helpers [49120/MainThread]: Fetching URL http://brandsego.com/sitemap_index.xml...\n",
            "2022-04-15 08:02:31,145 WARNING usp.helpers [49120/MainThread]: Request for URL http://brandsego.com/sitemap_index.xml failed: 404 Not Found\n",
            "2022-04-15 08:02:31,148 INFO usp.helpers [49120/MainThread]: Not retrying for URL http://brandsego.com/sitemap_index.xml\n",
            "2022-04-15 08:02:31,155 INFO usp.fetch_parse [49120/MainThread]: Fetching level 0 sitemap from http://brandsego.com/sitemap-index.xml.gz...\n",
            "2022-04-15 08:02:31,161 INFO usp.helpers [49120/MainThread]: Fetching URL http://brandsego.com/sitemap-index.xml.gz...\n",
            "2022-04-15 08:02:31,603 WARNING usp.helpers [49120/MainThread]: Request for URL http://brandsego.com/sitemap-index.xml.gz failed: 404 Not Found\n",
            "2022-04-15 08:02:31,606 INFO usp.helpers [49120/MainThread]: Not retrying for URL http://brandsego.com/sitemap-index.xml.gz\n",
            "2022-04-15 08:02:31,613 INFO usp.fetch_parse [49120/MainThread]: Fetching level 0 sitemap from http://brandsego.com/sitemap/sitemap-index.xml...\n",
            "2022-04-15 08:02:31,622 INFO usp.helpers [49120/MainThread]: Fetching URL http://brandsego.com/sitemap/sitemap-index.xml...\n",
            "2022-04-15 08:02:32,069 WARNING usp.helpers [49120/MainThread]: Request for URL http://brandsego.com/sitemap/sitemap-index.xml failed: 404 Not Found\n",
            "2022-04-15 08:02:32,075 INFO usp.helpers [49120/MainThread]: Not retrying for URL http://brandsego.com/sitemap/sitemap-index.xml\n",
            "2022-04-15 08:02:32,084 INFO usp.fetch_parse [49120/MainThread]: Fetching level 0 sitemap from http://brandsego.com/admin/config/search/xmlsitemap...\n",
            "2022-04-15 08:02:32,092 INFO usp.helpers [49120/MainThread]: Fetching URL http://brandsego.com/admin/config/search/xmlsitemap...\n",
            "2022-04-15 08:02:32,322 INFO usp.fetch_parse [49121/MainThread]: Fetching level 0 sitemap from http://www.Affordable.pk/sitemap...\n",
            "2022-04-15 08:02:32,324 INFO usp.helpers [49121/MainThread]: Fetching URL http://www.Affordable.pk/sitemap...\n",
            "2022-04-15 08:02:32,957 INFO usp.fetch_parse [49120/MainThread]: Parsing sitemap from URL http://brandsego.com/admin/config/search/xmlsitemap...\n",
            "2022-04-15 08:02:32,959 ERROR usp.fetch_parse [49120/MainThread]: Parsing sitemap from URL http://brandsego.com/admin/config/search/xmlsitemap failed: Unsupported root element 'html'.\n"
          ]
        },
        {
          "output_type": "stream",
          "name": "stdout",
          "text": [
            "9626 ['https://brandsego.com/', 'https://brandsego.com/products/snow-globe-for-photo-with-snow-gliters-sk0115']\n"
          ]
        },
        {
          "output_type": "stream",
          "name": "stderr",
          "text": [
            "2022-04-15 08:02:33,531 INFO usp.fetch_parse [49121/MainThread]: Parsing sitemap from URL http://www.Affordable.pk/sitemap...\n",
            "2022-04-15 08:02:33,533 ERROR usp.fetch_parse [49121/MainThread]: Parsing sitemap from URL http://www.Affordable.pk/sitemap failed: syntax error: line 1, column 0\n",
            "2022-04-15 08:02:33,538 INFO usp.fetch_parse [49121/MainThread]: Fetching level 0 sitemap from http://www.Affordable.pk/sitemap-index.xml...\n",
            "2022-04-15 08:02:33,541 INFO usp.helpers [49121/MainThread]: Fetching URL http://www.Affordable.pk/sitemap-index.xml...\n",
            "2022-04-15 08:02:34,772 INFO usp.fetch_parse [49121/MainThread]: Parsing sitemap from URL http://www.Affordable.pk/sitemap-index.xml...\n",
            "2022-04-15 08:02:34,781 ERROR usp.fetch_parse [49121/MainThread]: Parsing sitemap from URL http://www.Affordable.pk/sitemap-index.xml failed: syntax error: line 1, column 0\n",
            "2022-04-15 08:02:34,783 INFO usp.fetch_parse [49121/MainThread]: Fetching level 0 sitemap from http://www.Affordable.pk/sitemap_index.xml...\n",
            "2022-04-15 08:02:34,788 INFO usp.helpers [49121/MainThread]: Fetching URL http://www.Affordable.pk/sitemap_index.xml...\n",
            "2022-04-15 08:02:36,007 INFO usp.fetch_parse [49121/MainThread]: Parsing sitemap from URL http://www.Affordable.pk/sitemap_index.xml...\n",
            "2022-04-15 08:02:36,011 ERROR usp.fetch_parse [49121/MainThread]: Parsing sitemap from URL http://www.Affordable.pk/sitemap_index.xml failed: syntax error: line 1, column 0\n",
            "2022-04-15 08:02:36,013 INFO usp.fetch_parse [49121/MainThread]: Fetching level 0 sitemap from http://www.Affordable.pk/sitemap-index.xml.gz...\n",
            "2022-04-15 08:02:36,018 INFO usp.helpers [49121/MainThread]: Fetching URL http://www.Affordable.pk/sitemap-index.xml.gz...\n",
            "2022-04-15 08:02:37,238 ERROR usp.helpers [49121/MainThread]: Unable to gunzip response <usp.web_client.requests_client.RequestsWebClientSuccessResponse object at 0x7f2b5ba17370>, maybe it's a non-gzipped sitemap: Unable to gunzip data: Not a gzipped file (b'<!')\n",
            "2022-04-15 08:02:37,242 INFO usp.fetch_parse [49121/MainThread]: Parsing sitemap from URL http://www.Affordable.pk/sitemap-index.xml.gz...\n",
            "2022-04-15 08:02:37,248 ERROR usp.fetch_parse [49121/MainThread]: Parsing sitemap from URL http://www.Affordable.pk/sitemap-index.xml.gz failed: syntax error: line 1, column 0\n",
            "2022-04-15 08:02:37,254 INFO usp.fetch_parse [49121/MainThread]: Fetching level 0 sitemap from http://www.Affordable.pk/sitemap/sitemap-index.xml...\n",
            "2022-04-15 08:02:37,256 INFO usp.helpers [49121/MainThread]: Fetching URL http://www.Affordable.pk/sitemap/sitemap-index.xml...\n",
            "2022-04-15 08:02:38,472 INFO usp.fetch_parse [49121/MainThread]: Parsing sitemap from URL http://www.Affordable.pk/sitemap/sitemap-index.xml...\n",
            "2022-04-15 08:02:38,475 ERROR usp.fetch_parse [49121/MainThread]: Parsing sitemap from URL http://www.Affordable.pk/sitemap/sitemap-index.xml failed: syntax error: line 1, column 0\n",
            "2022-04-15 08:02:38,477 INFO usp.fetch_parse [49121/MainThread]: Fetching level 0 sitemap from http://www.Affordable.pk/admin/config/search/xmlsitemap...\n",
            "2022-04-15 08:02:38,481 INFO usp.helpers [49121/MainThread]: Fetching URL http://www.Affordable.pk/admin/config/search/xmlsitemap...\n",
            "2022-04-15 08:02:40,234 INFO usp.fetch_parse [49121/MainThread]: Parsing sitemap from URL http://www.Affordable.pk/admin/config/search/xmlsitemap...\n",
            "2022-04-15 08:02:40,238 ERROR usp.fetch_parse [49121/MainThread]: Parsing sitemap from URL http://www.Affordable.pk/admin/config/search/xmlsitemap failed: syntax error: line 1, column 0\n"
          ]
        },
        {
          "output_type": "stream",
          "name": "stdout",
          "text": [
            "35698 ['https://www.affordable.pk/', 'https://www.affordable.pk/Men']\n"
          ]
        }
      ]
    }
  ],
  "metadata": {
    "colab": {
      "collapsed_sections": [],
      "name": "multithreading.ipynb",
      "provenance": []
    },
    "kernelspec": {
      "display_name": "Python 3",
      "name": "python3"
    },
    "language_info": {
      "name": "python"
    }
  },
  "nbformat": 4,
  "nbformat_minor": 0
}