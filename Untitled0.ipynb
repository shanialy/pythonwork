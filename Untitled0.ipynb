{
  "nbformat": 4,
  "nbformat_minor": 0,
  "metadata": {
    "colab": {
      "name": "Untitled0.ipynb",
      "provenance": [],
      "collapsed_sections": []
    },
    "kernelspec": {
      "name": "python3",
      "display_name": "Python 3"
    },
    "language_info": {
      "name": "python"
    }
  },
  "cells": [
    {
      "cell_type": "code",
      "execution_count": null,
      "metadata": {
        "colab": {
          "base_uri": "https://localhost:8080/"
        },
        "id": "Ai6o5VtcftbR",
        "outputId": "ac77a20b-f5fd-42bd-e027-c52e06ad20e0"
      },
      "outputs": [
        {
          "output_type": "stream",
          "name": "stdout",
          "text": [
            "hello world\n"
          ]
        }
      ],
      "source": [
        "print(\"hello world\")"
      ]
    },
    {
      "cell_type": "code",
      "source": [
        "print(\"shani\")"
      ],
      "metadata": {
        "colab": {
          "base_uri": "https://localhost:8080/"
        },
        "id": "Nj3eZD-bhvSl",
        "outputId": "d1dde1fe-e0e4-491b-c9cb-1d8c5503510a"
      },
      "execution_count": null,
      "outputs": [
        {
          "output_type": "stream",
          "name": "stdout",
          "text": [
            "shani\n"
          ]
        }
      ]
    },
    {
      "cell_type": "code",
      "source": [
        "a=10\n",
        "b=20\n",
        "c='shani'\n",
        "print(a+b,c)\n",
        "\n",
        "x,y,z = (1,2,3)\n",
        "print(x+y+z)"
      ],
      "metadata": {
        "colab": {
          "base_uri": "https://localhost:8080/"
        },
        "id": "sXUfp-jPh8y6",
        "outputId": "8942e4ce-49e2-456e-c441-016476885b0b"
      },
      "execution_count": null,
      "outputs": [
        {
          "output_type": "stream",
          "name": "stdout",
          "text": [
            "30 shani\n",
            "6\n"
          ]
        }
      ]
    },
    {
      "cell_type": "code",
      "source": [
        "name = 'ahsan'\n",
        "age = '20'\n",
        "# print('my name is '+name + ' age is '+age)\n",
        "print(f'my name is {name}')\n",
        "print(name.capitalize())"
      ],
      "metadata": {
        "colab": {
          "base_uri": "https://localhost:8080/"
        },
        "id": "xvhb_iGglDW4",
        "outputId": "4dd39dbd-f9db-435c-a06e-f1e37787f03d"
      },
      "execution_count": null,
      "outputs": [
        {
          "output_type": "stream",
          "name": "stdout",
          "text": [
            "my name is ahsan\n",
            "Ahsan\n"
          ]
        }
      ]
    },
    {
      "cell_type": "code",
      "source": [
        "lists = [1,2,3,4,5]\n",
        "fruits = ['Apple','Banana','Mango']\n",
        "# print(lists,fruits) \n",
        "# print(lists[2])\n",
        "# print(len(fruits))\n",
        "fruits.append('Grapes')\n",
        "fruits.remove('Apple')\n",
        "fruits.insert(2,'Strawberries')\n",
        "# fruits.reverse()\n",
        "# fruits.sort()\n",
        "print(lists,fruits)"
      ],
      "metadata": {
        "colab": {
          "base_uri": "https://localhost:8080/"
        },
        "id": "F26jNfhxlnV5",
        "outputId": "ada166d1-0012-4346-b687-be70223baeff"
      },
      "execution_count": null,
      "outputs": [
        {
          "output_type": "stream",
          "name": "stdout",
          "text": [
            "[1, 2, 3, 4, 5] ['Banana', 'Mango', 'Strawberries', 'Grapes']\n"
          ]
        }
      ]
    },
    {
      "cell_type": "code",
      "source": [
        "tup = ('Apple','Banana')\n",
        "tup2 = ('Grapes',)\n",
        "# print(tup[1])\n",
        "print(tup)"
      ],
      "metadata": {
        "colab": {
          "base_uri": "https://localhost:8080/"
        },
        "id": "OOdY31WYv2oZ",
        "outputId": "4543abfa-6609-4f0b-bd42-a34fd65f324e"
      },
      "execution_count": null,
      "outputs": [
        {
          "output_type": "stream",
          "name": "stdout",
          "text": [
            "('Apple', 'Banana')\n"
          ]
        }
      ]
    },
    {
      "cell_type": "code",
      "source": [
        "fruits_Set = {'Apple','Mango'}\n",
        "# print('Apple' in fruits_Set)\n",
        "fruits_Set.add('Grape')\n",
        "# fruits_Set.remove('Grape')\n",
        "# fruits_Set.clear()\n",
        "print(fruits_Set)"
      ],
      "metadata": {
        "colab": {
          "base_uri": "https://localhost:8080/"
        },
        "id": "UZMpbKOyx89g",
        "outputId": "61fe32db-4768-4733-ea41-4418117d0be1"
      },
      "execution_count": null,
      "outputs": [
        {
          "output_type": "stream",
          "name": "stdout",
          "text": [
            "{'Grape', 'Mango', 'Apple'}\n"
          ]
        }
      ]
    },
    {
      "cell_type": "code",
      "source": [
        "person = {\n",
        "    'name':'Ahsan',\n",
        "    'age':20\n",
        "}\n",
        "person2 = dict(name='Shani',age=20)\n",
        "person['city'] = 'Badin'\n",
        "print(person2,type(person2))\n",
        "print(person,type(person))\n",
        "print(person['name'])\n",
        "print(person2.get('age'))\n",
        "print(person.keys())\n",
        "print(person.items())\n",
        "\n",
        "person3 = person.copy()\n",
        "person3['phone'] = '03323786747'\n",
        "print(person3)\n",
        "del(person['age'])\n",
        "person.pop('city')\n",
        "person.clear()\n",
        "print(person)\n",
        "\n",
        "people = [\n",
        "          {'name':'xyz'},\n",
        "          {'name':'abc'}\n",
        "]\n",
        "print(people)"
      ],
      "metadata": {
        "id": "KsLfLi7y0cof"
      },
      "execution_count": null,
      "outputs": []
    },
    {
      "cell_type": "code",
      "source": [
        "def hello(name):\n",
        "  print(f'Hello {name}')\n",
        "\n",
        "def getSum(num1,num2):\n",
        "  tot = num1 + num2\n",
        "  return tot\n",
        "\n",
        "getSub = lambda num1 , num2 : num1 - num2\n",
        "print(getSub(50,40)) \n",
        "\n",
        "# sum = getSum(1,2)\n",
        "# print(sum)    \n",
        "\n",
        "# hello('Ahsan')  "
      ],
      "metadata": {
        "colab": {
          "base_uri": "https://localhost:8080/"
        },
        "id": "dEzUn7vn43b3",
        "outputId": "182b9612-ecc2-4895-8a66-a68fb69fb656"
      },
      "execution_count": null,
      "outputs": [
        {
          "output_type": "stream",
          "name": "stdout",
          "text": [
            "10\n"
          ]
        }
      ]
    },
    {
      "cell_type": "code",
      "source": [
        "persons = ['ahsan','shani','samiullah']\n",
        "for person in persons:\n",
        "  print(person)\n",
        "\n",
        "for i in range(len(persons)):\n",
        "  print(persons[i])\n",
        "\n",
        "for i in range(1,10):\n",
        "  print(i)    \n",
        "\n",
        "count = 0\n",
        "while count <=10:\n",
        "  print(count)\n",
        "  count += 1  "
      ],
      "metadata": {
        "id": "CRjDaxfwEpZm"
      },
      "execution_count": null,
      "outputs": []
    },
    {
      "cell_type": "code",
      "source": [
        "class User:\n",
        "  def __init__(self,name,age):\n",
        "    self.name = name\n",
        "    self.age = age\n",
        "  def greetings(self):\n",
        "    return f'My name is {self.name} and I am {self.age} old'\n",
        "\n",
        "\n",
        "vbn = User('Ahsan',20)\n",
        "print(vbn.greetings())\n",
        "  # xyz = User ('Ahsan',20)\n",
        "  # print(xyz.greetings())    "
      ],
      "metadata": {
        "colab": {
          "base_uri": "https://localhost:8080/"
        },
        "id": "byN5Prj4R4a8",
        "outputId": "a1c58c6e-56d3-4010-bde0-9c2161ead11a"
      },
      "execution_count": null,
      "outputs": [
        {
          "output_type": "stream",
          "name": "stdout",
          "text": [
            "My name is Ahsan and I am 20 old\n"
          ]
        }
      ]
    }
  ]
}