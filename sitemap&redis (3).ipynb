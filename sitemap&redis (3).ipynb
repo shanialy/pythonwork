{
  "nbformat": 4,
  "nbformat_minor": 0,
  "metadata": {
    "colab": {
      "name": "sitemap&redis.ipynb",
      "provenance": [],
      "collapsed_sections": []
    },
    "kernelspec": {
      "name": "python3",
      "display_name": "Python 3"
    },
    "language_info": {
      "name": "python"
    }
  },
  "cells": [
    {
      "cell_type": "code",
      "execution_count": null,
      "metadata": {
        "colab": {
          "base_uri": "https://localhost:8080/"
        },
        "id": "OF0TdTqyWa2_",
        "outputId": "2c183b5f-7a9a-45e2-a981-5e64db6bac0d"
      },
      "outputs": [
        {
          "output_type": "stream",
          "name": "stdout",
          "text": [
            "Collecting ultimate_sitemap_parser\n",
            "  Downloading ultimate_sitemap_parser-0.5-py2.py3-none-any.whl (23 kB)\n",
            "Requirement already satisfied: python-dateutil<3.0.0,>=2.1 in /usr/local/lib/python3.7/dist-packages (from ultimate_sitemap_parser) (2.8.2)\n",
            "Requirement already satisfied: requests>=2.2.1 in /usr/local/lib/python3.7/dist-packages (from ultimate_sitemap_parser) (2.23.0)\n",
            "Requirement already satisfied: six>=1.5 in /usr/local/lib/python3.7/dist-packages (from python-dateutil<3.0.0,>=2.1->ultimate_sitemap_parser) (1.15.0)\n",
            "Requirement already satisfied: urllib3!=1.25.0,!=1.25.1,<1.26,>=1.21.1 in /usr/local/lib/python3.7/dist-packages (from requests>=2.2.1->ultimate_sitemap_parser) (1.24.3)\n",
            "Requirement already satisfied: chardet<4,>=3.0.2 in /usr/local/lib/python3.7/dist-packages (from requests>=2.2.1->ultimate_sitemap_parser) (3.0.4)\n",
            "Requirement already satisfied: certifi>=2017.4.17 in /usr/local/lib/python3.7/dist-packages (from requests>=2.2.1->ultimate_sitemap_parser) (2021.10.8)\n",
            "Requirement already satisfied: idna<3,>=2.5 in /usr/local/lib/python3.7/dist-packages (from requests>=2.2.1->ultimate_sitemap_parser) (2.10)\n",
            "Installing collected packages: ultimate-sitemap-parser\n",
            "Successfully installed ultimate-sitemap-parser-0.5\n"
          ]
        }
      ],
      "source": [
        "!pip install ultimate_sitemap_parser"
      ]
    },
    {
      "cell_type": "code",
      "source": [
        "from google.colab import drive\n",
        "drive.mount('/content/drive')"
      ],
      "metadata": {
        "id": "wrrd-yIZZHUe"
      },
      "execution_count": null,
      "outputs": []
    },
    {
      "cell_type": "code",
      "source": [
        "from usp.tree import sitemap_tree_for_homepage\n",
        "\n",
        "tree = sitemap_tree_for_homepage(\"https://exportleftovers.com/\")\n",
        "# https://brandsego.com/\n",
        "#https://brandspopper.com/\n",
        "print(tree)"
      ],
      "metadata": {
        "colab": {
          "base_uri": "https://localhost:8080/"
        },
        "id": "tfN-zEZoXSnP",
        "outputId": "a355a940-9614-4fee-84f2-a07f435c80e8"
      },
      "execution_count": null,
      "outputs": [
        {
          "output_type": "stream",
          "name": "stderr",
          "text": [
            "2022-04-26 08:00:58,385 INFO usp.fetch_parse [61/MainThread]: Fetching level 0 sitemap from https://exportleftovers.com/robots.txt...\n",
            "2022-04-26 08:00:58,388 INFO usp.helpers [61/MainThread]: Fetching URL https://exportleftovers.com/robots.txt...\n",
            "2022-04-26 08:00:58,684 INFO usp.fetch_parse [61/MainThread]: Parsing sitemap from URL https://exportleftovers.com/robots.txt...\n",
            "2022-04-26 08:00:58,687 INFO usp.fetch_parse [61/MainThread]: Fetching level 0 sitemap from https://www.exportleftovers.com/sitemap.xml...\n",
            "2022-04-26 08:00:58,691 INFO usp.helpers [61/MainThread]: Fetching URL https://www.exportleftovers.com/sitemap.xml...\n",
            "2022-04-26 08:00:59,263 INFO usp.fetch_parse [61/MainThread]: Parsing sitemap from URL https://www.exportleftovers.com/sitemap.xml...\n",
            "2022-04-26 08:00:59,265 INFO usp.fetch_parse [61/MainThread]: Fetching level 1 sitemap from https://www.exportleftovers.com/sitemap_products_1.xml?from=11236316238&to=7129410044083...\n",
            "2022-04-26 08:00:59,269 INFO usp.helpers [61/MainThread]: Fetching URL https://www.exportleftovers.com/sitemap_products_1.xml?from=11236316238&to=7129410044083...\n",
            "2022-04-26 08:01:01,431 INFO usp.fetch_parse [61/MainThread]: Parsing sitemap from URL https://www.exportleftovers.com/sitemap_products_1.xml?from=11236316238&to=7129410044083...\n",
            "2022-04-26 08:01:02,610 INFO usp.fetch_parse [61/MainThread]: Fetching level 1 sitemap from https://www.exportleftovers.com/sitemap_pages_1.xml...\n",
            "2022-04-26 08:01:02,612 INFO usp.helpers [61/MainThread]: Fetching URL https://www.exportleftovers.com/sitemap_pages_1.xml...\n",
            "2022-04-26 08:01:02,943 INFO usp.fetch_parse [61/MainThread]: Parsing sitemap from URL https://www.exportleftovers.com/sitemap_pages_1.xml...\n",
            "2022-04-26 08:01:03,990 INFO usp.fetch_parse [61/MainThread]: Fetching level 1 sitemap from https://www.exportleftovers.com/sitemap_pages_2.xml...\n",
            "2022-04-26 08:01:03,991 INFO usp.helpers [61/MainThread]: Fetching URL https://www.exportleftovers.com/sitemap_pages_2.xml...\n",
            "2022-04-26 08:01:04,171 INFO usp.fetch_parse [61/MainThread]: Parsing sitemap from URL https://www.exportleftovers.com/sitemap_pages_2.xml...\n",
            "2022-04-26 08:01:04,228 INFO usp.fetch_parse [61/MainThread]: Fetching level 1 sitemap from https://www.exportleftovers.com/sitemap_collections_1.xml...\n",
            "2022-04-26 08:01:04,230 INFO usp.helpers [61/MainThread]: Fetching URL https://www.exportleftovers.com/sitemap_collections_1.xml...\n",
            "2022-04-26 08:01:04,387 INFO usp.fetch_parse [61/MainThread]: Parsing sitemap from URL https://www.exportleftovers.com/sitemap_collections_1.xml...\n",
            "2022-04-26 08:01:04,414 INFO usp.fetch_parse [61/MainThread]: Fetching level 1 sitemap from https://www.exportleftovers.com/sitemap_blogs_1.xml...\n",
            "2022-04-26 08:01:04,416 INFO usp.helpers [61/MainThread]: Fetching URL https://www.exportleftovers.com/sitemap_blogs_1.xml...\n",
            "2022-04-26 08:01:04,670 INFO usp.fetch_parse [61/MainThread]: Parsing sitemap from URL https://www.exportleftovers.com/sitemap_blogs_1.xml...\n",
            "2022-04-26 08:01:04,737 INFO usp.fetch_parse [61/MainThread]: Fetching level 0 sitemap from https://exportleftovers.com/sitemap.xml...\n",
            "2022-04-26 08:01:04,739 INFO usp.helpers [61/MainThread]: Fetching URL https://exportleftovers.com/sitemap.xml...\n",
            "2022-04-26 08:01:05,443 INFO usp.fetch_parse [61/MainThread]: Parsing sitemap from URL https://exportleftovers.com/sitemap.xml...\n",
            "2022-04-26 08:01:05,444 INFO usp.fetch_parse [61/MainThread]: Fetching level 1 sitemap from https://www.exportleftovers.com/sitemap_products_1.xml?from=11236316238&to=7129410044083...\n",
            "2022-04-26 08:01:05,448 INFO usp.helpers [61/MainThread]: Fetching URL https://www.exportleftovers.com/sitemap_products_1.xml?from=11236316238&to=7129410044083...\n",
            "2022-04-26 08:01:08,307 INFO usp.fetch_parse [61/MainThread]: Parsing sitemap from URL https://www.exportleftovers.com/sitemap_products_1.xml?from=11236316238&to=7129410044083...\n",
            "2022-04-26 08:01:09,502 INFO usp.fetch_parse [61/MainThread]: Fetching level 1 sitemap from https://www.exportleftovers.com/sitemap_pages_1.xml...\n",
            "2022-04-26 08:01:09,504 INFO usp.helpers [61/MainThread]: Fetching URL https://www.exportleftovers.com/sitemap_pages_1.xml...\n",
            "2022-04-26 08:01:09,638 INFO usp.fetch_parse [61/MainThread]: Parsing sitemap from URL https://www.exportleftovers.com/sitemap_pages_1.xml...\n",
            "2022-04-26 08:01:10,615 INFO usp.fetch_parse [61/MainThread]: Fetching level 1 sitemap from https://www.exportleftovers.com/sitemap_pages_2.xml...\n",
            "2022-04-26 08:01:10,617 INFO usp.helpers [61/MainThread]: Fetching URL https://www.exportleftovers.com/sitemap_pages_2.xml...\n",
            "2022-04-26 08:01:10,737 INFO usp.fetch_parse [61/MainThread]: Parsing sitemap from URL https://www.exportleftovers.com/sitemap_pages_2.xml...\n",
            "2022-04-26 08:01:10,792 INFO usp.fetch_parse [61/MainThread]: Fetching level 1 sitemap from https://www.exportleftovers.com/sitemap_collections_1.xml...\n",
            "2022-04-26 08:01:10,794 INFO usp.helpers [61/MainThread]: Fetching URL https://www.exportleftovers.com/sitemap_collections_1.xml...\n",
            "2022-04-26 08:01:10,904 INFO usp.fetch_parse [61/MainThread]: Parsing sitemap from URL https://www.exportleftovers.com/sitemap_collections_1.xml...\n",
            "2022-04-26 08:01:10,932 INFO usp.fetch_parse [61/MainThread]: Fetching level 1 sitemap from https://www.exportleftovers.com/sitemap_blogs_1.xml...\n",
            "2022-04-26 08:01:10,933 INFO usp.helpers [61/MainThread]: Fetching URL https://www.exportleftovers.com/sitemap_blogs_1.xml...\n",
            "2022-04-26 08:01:11,064 INFO usp.fetch_parse [61/MainThread]: Parsing sitemap from URL https://www.exportleftovers.com/sitemap_blogs_1.xml...\n",
            "2022-04-26 08:01:11,133 INFO usp.fetch_parse [61/MainThread]: Fetching level 0 sitemap from https://exportleftovers.com/sitemap.xml.gz...\n",
            "2022-04-26 08:01:11,138 INFO usp.helpers [61/MainThread]: Fetching URL https://exportleftovers.com/sitemap.xml.gz...\n",
            "2022-04-26 08:01:11,752 WARNING usp.helpers [61/MainThread]: Request for URL https://exportleftovers.com/sitemap.xml.gz failed: 404 Not Found\n",
            "2022-04-26 08:01:11,753 INFO usp.helpers [61/MainThread]: Not retrying for URL https://exportleftovers.com/sitemap.xml.gz\n",
            "2022-04-26 08:01:11,755 INFO usp.fetch_parse [61/MainThread]: Fetching level 0 sitemap from https://exportleftovers.com/.sitemap.xml...\n",
            "2022-04-26 08:01:11,756 INFO usp.helpers [61/MainThread]: Fetching URL https://exportleftovers.com/.sitemap.xml...\n",
            "2022-04-26 08:01:11,878 WARNING usp.helpers [61/MainThread]: Request for URL https://exportleftovers.com/.sitemap.xml failed: 404 Not Found\n",
            "2022-04-26 08:01:11,879 INFO usp.helpers [61/MainThread]: Not retrying for URL https://exportleftovers.com/.sitemap.xml\n",
            "2022-04-26 08:01:11,885 INFO usp.fetch_parse [61/MainThread]: Fetching level 0 sitemap from https://exportleftovers.com/sitemap_index.xml.gz...\n",
            "2022-04-26 08:01:11,888 INFO usp.helpers [61/MainThread]: Fetching URL https://exportleftovers.com/sitemap_index.xml.gz...\n",
            "2022-04-26 08:01:12,113 WARNING usp.helpers [61/MainThread]: Request for URL https://exportleftovers.com/sitemap_index.xml.gz failed: 404 Not Found\n",
            "2022-04-26 08:01:12,115 INFO usp.helpers [61/MainThread]: Not retrying for URL https://exportleftovers.com/sitemap_index.xml.gz\n",
            "2022-04-26 08:01:12,119 INFO usp.fetch_parse [61/MainThread]: Fetching level 0 sitemap from https://exportleftovers.com/sitemap_index.xml...\n",
            "2022-04-26 08:01:12,126 INFO usp.helpers [61/MainThread]: Fetching URL https://exportleftovers.com/sitemap_index.xml...\n",
            "2022-04-26 08:01:12,249 WARNING usp.helpers [61/MainThread]: Request for URL https://exportleftovers.com/sitemap_index.xml failed: 404 Not Found\n",
            "2022-04-26 08:01:12,251 INFO usp.helpers [61/MainThread]: Not retrying for URL https://exportleftovers.com/sitemap_index.xml\n",
            "2022-04-26 08:01:12,252 INFO usp.fetch_parse [61/MainThread]: Fetching level 0 sitemap from https://exportleftovers.com/admin/config/search/xmlsitemap...\n",
            "2022-04-26 08:01:12,254 INFO usp.helpers [61/MainThread]: Fetching URL https://exportleftovers.com/admin/config/search/xmlsitemap...\n",
            "2022-04-26 08:01:12,737 INFO usp.fetch_parse [61/MainThread]: Parsing sitemap from URL https://exportleftovers.com/admin/config/search/xmlsitemap...\n",
            "2022-04-26 08:01:12,739 ERROR usp.fetch_parse [61/MainThread]: Parsing sitemap from URL https://exportleftovers.com/admin/config/search/xmlsitemap failed: Unsupported root element 'html'.\n",
            "2022-04-26 08:01:12,740 INFO usp.fetch_parse [61/MainThread]: Fetching level 0 sitemap from https://exportleftovers.com/sitemap-index.xml...\n",
            "2022-04-26 08:01:12,744 INFO usp.helpers [61/MainThread]: Fetching URL https://exportleftovers.com/sitemap-index.xml...\n",
            "2022-04-26 08:01:12,856 WARNING usp.helpers [61/MainThread]: Request for URL https://exportleftovers.com/sitemap-index.xml failed: 404 Not Found\n",
            "2022-04-26 08:01:12,858 INFO usp.helpers [61/MainThread]: Not retrying for URL https://exportleftovers.com/sitemap-index.xml\n",
            "2022-04-26 08:01:12,859 INFO usp.fetch_parse [61/MainThread]: Fetching level 0 sitemap from https://exportleftovers.com/sitemap/sitemap-index.xml...\n",
            "2022-04-26 08:01:12,861 INFO usp.helpers [61/MainThread]: Fetching URL https://exportleftovers.com/sitemap/sitemap-index.xml...\n",
            "2022-04-26 08:01:12,969 WARNING usp.helpers [61/MainThread]: Request for URL https://exportleftovers.com/sitemap/sitemap-index.xml failed: 404 Not Found\n",
            "2022-04-26 08:01:12,972 INFO usp.helpers [61/MainThread]: Not retrying for URL https://exportleftovers.com/sitemap/sitemap-index.xml\n",
            "2022-04-26 08:01:12,974 INFO usp.fetch_parse [61/MainThread]: Fetching level 0 sitemap from https://exportleftovers.com/sitemap...\n",
            "2022-04-26 08:01:12,976 INFO usp.helpers [61/MainThread]: Fetching URL https://exportleftovers.com/sitemap...\n",
            "2022-04-26 08:01:14,698 INFO usp.fetch_parse [61/MainThread]: Parsing sitemap from URL https://exportleftovers.com/sitemap...\n",
            "2022-04-26 08:01:14,702 ERROR usp.fetch_parse [61/MainThread]: Parsing sitemap from URL https://exportleftovers.com/sitemap failed: syntax error: line 3, column 1\n",
            "2022-04-26 08:01:14,705 INFO usp.fetch_parse [61/MainThread]: Fetching level 0 sitemap from https://exportleftovers.com/sitemap-index.xml.gz...\n",
            "2022-04-26 08:01:14,707 INFO usp.helpers [61/MainThread]: Fetching URL https://exportleftovers.com/sitemap-index.xml.gz...\n",
            "2022-04-26 08:01:14,929 WARNING usp.helpers [61/MainThread]: Request for URL https://exportleftovers.com/sitemap-index.xml.gz failed: 404 Not Found\n",
            "2022-04-26 08:01:14,932 INFO usp.helpers [61/MainThread]: Not retrying for URL https://exportleftovers.com/sitemap-index.xml.gz\n",
            "IOPub data rate exceeded.\n",
            "The notebook server will temporarily stop sending output\n",
            "to the client in order to avoid crashing it.\n",
            "To change this limit, set the config variable\n",
            "`--NotebookApp.iopub_data_rate_limit`.\n",
            "\n",
            "Current values:\n",
            "NotebookApp.iopub_data_rate_limit=1000000.0 (bytes/sec)\n",
            "NotebookApp.rate_limit_window=3.0 (secs)\n",
            "\n"
          ]
        }
      ]
    },
    {
      "cell_type": "code",
      "source": [
        "# links=[]\n",
        "# for page in tree.all_pages():\n",
        "#     print(page)\n",
        "\n",
        "urls = [page.url for page in tree.all_pages()]\n",
        "print(len(urls), urls[0:9])    \n",
        "            "
      ],
      "metadata": {
        "colab": {
          "base_uri": "https://localhost:8080/"
        },
        "id": "hceQGNFCXihi",
        "outputId": "395c34a6-3a7f-4139-e747-96da91b76be6"
      },
      "execution_count": null,
      "outputs": [
        {
          "output_type": "stream",
          "name": "stdout",
          "text": [
            "21510 ['https://www.exportleftovers.com/', 'https://www.exportleftovers.com/products/jmw-tabard-apron-with-pocket', 'https://www.exportleftovers.com/products/high-living-3-pcs-kitchen-apron-set', 'https://www.exportleftovers.com/products/polo-republica-hebert-washable-professional-apron', 'https://www.exportleftovers.com/products/constan-a-washable-professional-apron', 'https://www.exportleftovers.com/products/mens-b-quality-mantis-zipper-hoodie', 'https://www.exportleftovers.com/products/totga-holtani-long-sleeve-b-quality-zipper-hoodie', 'https://www.exportleftovers.com/products/sgnl-classic-sleeveless-b-quality-body-warmer', 'https://www.exportleftovers.com/products/dnm-cherihial-mens-b-quality-denim-shorts']\n"
          ]
        }
      ]
    },
    {
      "cell_type": "code",
      "source": [
        "!pip install redis\n",
        "import redis\n",
        "client3 = redis.Redis(host = '43.251.253.107', port=1500,db=3)\n",
        "\n",
        "client3.ping()"
      ],
      "metadata": {
        "colab": {
          "base_uri": "https://localhost:8080/"
        },
        "id": "sFrXa7G6XyY4",
        "outputId": "f8b093f3-be40-46b2-bb52-c78099742d15"
      },
      "execution_count": null,
      "outputs": [
        {
          "output_type": "stream",
          "name": "stdout",
          "text": [
            "Requirement already satisfied: redis in /usr/local/lib/python3.7/dist-packages (4.2.2)\n",
            "Requirement already satisfied: packaging>=20.4 in /usr/local/lib/python3.7/dist-packages (from redis) (21.3)\n",
            "Requirement already satisfied: typing-extensions in /usr/local/lib/python3.7/dist-packages (from redis) (3.10.0.2)\n",
            "Requirement already satisfied: deprecated>=1.2.3 in /usr/local/lib/python3.7/dist-packages (from redis) (1.2.13)\n",
            "Requirement already satisfied: async-timeout>=4.0.2 in /usr/local/lib/python3.7/dist-packages (from redis) (4.0.2)\n",
            "Requirement already satisfied: importlib-metadata>=1.0 in /usr/local/lib/python3.7/dist-packages (from redis) (4.11.3)\n",
            "Requirement already satisfied: wrapt<2,>=1.10 in /usr/local/lib/python3.7/dist-packages (from deprecated>=1.2.3->redis) (1.14.0)\n",
            "Requirement already satisfied: zipp>=0.5 in /usr/local/lib/python3.7/dist-packages (from importlib-metadata>=1.0->redis) (3.7.0)\n",
            "Requirement already satisfied: pyparsing!=3.0.5,>=2.0.2 in /usr/local/lib/python3.7/dist-packages (from packaging>=20.4->redis) (3.0.7)\n"
          ]
        },
        {
          "output_type": "execute_result",
          "data": {
            "text/plain": [
              "True"
            ]
          },
          "metadata": {},
          "execution_count": 9
        }
      ]
    },
    {
      "cell_type": "code",
      "source": [
        "for item in urls:\n",
        "  # client.sadd(item,len(item))\n",
        "  client3.sadd('brandspopper',item)"
      ],
      "metadata": {
        "id": "5QTwICV3YLj1"
      },
      "execution_count": null,
      "outputs": []
    },
    {
      "cell_type": "code",
      "source": [
        "# all_domains = client.keys()\n",
        "# print(all_domains)\n"
      ],
      "metadata": {
        "id": "IhQUtivlZBBx"
      },
      "execution_count": null,
      "outputs": []
    },
    {
      "cell_type": "code",
      "source": [
        "import json\n",
        "def dump_jsonl(data, output_path, append=False):\n",
        "    \"\"\"\n",
        "    Write list of objects to a JSON lines file.\n",
        "    \"\"\"\n",
        "    mode = 'a+' if append else 'w'\n",
        "    with open(output_path, mode, encoding='utf-8') as f:\n",
        "        for line in data:\n",
        "            json_record = json.dumps(line, ensure_ascii=False)\n",
        "            f.write(json_record + '\\n')\n",
        "    print('Wrote {} records to {}'.format(len(data), output_path))"
      ],
      "metadata": {
        "id": "AFCtL0mR6C8H"
      },
      "execution_count": null,
      "outputs": []
    }
  ]
}