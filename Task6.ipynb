{
  "nbformat": 4,
  "nbformat_minor": 0,
  "metadata": {
    "colab": {
      "name": "Task6.ipynb",
      "provenance": [],
      "collapsed_sections": []
    },
    "kernelspec": {
      "name": "python3",
      "display_name": "Python 3"
    },
    "language_info": {
      "name": "python"
    }
  },
  "cells": [
    {
      "cell_type": "code",
      "source": [
        "#Task6\n",
        "names = ['pakistan','dubai','china','dubai','pakistan']\n",
        "print(\"Before Deduplicate\",names)\n",
        "names = set(names)\n",
        "names = list(names)\n",
        "print(\"After DeDuplicate\",names)\n"
      ],
      "metadata": {
        "colab": {
          "base_uri": "https://localhost:8080/"
        },
        "id": "n-SFDUDTfMQp",
        "outputId": "72b35d73-4033-49b6-fac2-20abf015a55e"
      },
      "execution_count": null,
      "outputs": [
        {
          "output_type": "stream",
          "name": "stdout",
          "text": [
            "Before Deduplicate ['pakistan', 'dubai', 'china', 'dubai', 'pakistan']\n",
            "After DeDuplicate ['pakistan', 'china', 'dubai']\n"
          ]
        }
      ]
    },
    {
      "cell_type": "code",
      "execution_count": null,
      "metadata": {
        "id": "H7sg9ZXlfGOO"
      },
      "outputs": [],
      "source": [
        "#Task7\n",
        "urls = ['https://www.elo.com','http://elo.com','https://www.brandsego.com','https://www.diners.com']\n"
      ]
    },
    {
      "cell_type": "code",
      "source": [
        "from typing import Match\n",
        "totalUrl=94url+new697\n",
        "dedublipcate totalurl\n",
        "write to file \n",
        "send it to me \n",
        "next\n",
        "from task 5 scrape all theyr sitemap to redis using multi threadin gon office Match\n",
        "next \n",
        "scrape all product and collection url fo each domain into jsonl file using multi threadin and office Match\n",
        "ye clear he ?\n"
      ],
      "metadata": {
        "id": "v2reVTsLPnOI"
      },
      "execution_count": null,
      "outputs": []
    }
  ]
}