{
  "nbformat": 4,
  "nbformat_minor": 0,
  "metadata": {
    "colab": {
      "name": "redistesting.ipynb",
      "provenance": [],
      "collapsed_sections": []
    },
    "kernelspec": {
      "name": "python3",
      "display_name": "Python 3"
    },
    "language_info": {
      "name": "python"
    }
  },
  "cells": [
    {
      "cell_type": "code",
      "execution_count": null,
      "metadata": {
        "colab": {
          "base_uri": "https://localhost:8080/"
        },
        "id": "c5cSoOiQM-rB",
        "outputId": "2201e9de-62d9-4df7-8432-45b2914f1857"
      },
      "outputs": [
        {
          "output_type": "stream",
          "name": "stdout",
          "text": [
            "['zaaviay.com', 'string-thread.com', 'daybreak-international-bookstore.com', 'one432-2.com', 'yayvo-2.com', 'lbkids.com', 'elan-pk.com', 'yayvo-2.com', 'pollyandotherstories.com', 'zellartco.com', 'anderson-design-group.com', 'throwin-stones.com', 'the-gem-hunters.com', 'the-gem-hunters.com', 'blaze-n-gems.com', 'geffenbaby-com.com', 'haniyas.com', 'sablevsite.com', 'matco-foods.com', 'isd-georgetown-university.com', 'throwin-stones.com', 'ammarakhan.com', 'throwin-stones.com', 'buckle-seamcom.com', 'isd-georgetown-university.com', 'sitara-studios.com', 'threads-and-motifs.com', 'serene-premium-embroidered.com', 'immersionresearch.com', 'remaluxe.com', 'tiaracle.com', 'pickypicksco.com', 'hinz-knit.com', 'boaeditions.com', 'the-lit-company-pakistan.com', 'buckle-seamcom.com', 'casinetto.com', 'rouzatirugs.com', 'jazminepk.com', 'urban-galleria-home.com', 'faisalfabrics-pk.com', 'akbaraslam.com', 'khaanan.com', 'yourlibaas.com', 'hinz-knit.com', 'mantra-pakistan.com', 'gomilaintersole.com', 'asimjofaofficial.com', 'rethink-cafe.com', 'sayapk.com', 'the-craft-company-by-muna-siddiqui.com', 'diversitystore-com.com', 'the-craft-company-by-muna-siddiqui.com', 'brandsego.com', 'hnb-beauty-store.com', 'pk-studiobytcs-com.com', 'mahroze.com', 'rethink-cafe.com', 'baroque-pk.com', 'pure-art-3.com', 'caveandcanyon.com', 'diners-com-pk.com', 'mapscompany.com', 'mahroze.com', 'posch-care-shop.com', 'elitecig.com', 'houseofcharizma.com', 'tadweenpublishing.com', 'timetochangesale.com', 'the-oriental-shop.com', 'qneonline.com', 'throwin-stones.com', 'islamabad12.com', 'mapscompany.com', 'alfatahstore.com', 'mohtaram.com', 'hub-genuinely-yours.com', 'outdoorfood.com', 'induscarpets.com', 'bembel.com', 'harris-car-care.com', 'mahroze.com', 'the-craft-company-by-muna-siddiqui.com', 'go-kismet.com', 'online-bazaar-pk.com', 'vintagestreet.com', 'hnb-beauty-store.com', 'hnb-beauty-store.com', 'hnb-beauty-store.com', 'hnb-beauty-store.com', 'baroque-pk.com', 'islamabad12.com', 'anderson-design-group.com', 'tuhuraathletics.com', 'alfatahstore.com', 'urban-galleria-home.com', 'mushk-mahal.com', 'afsaneh-pk.com', 'hadorn-swiss.com', 'archaic-empire.com', 'lamourworld.com', 'inappropriategifting.com', 'airlink-communication.com', 'phonecasepk.com', 'islamabad12.com', 'nadiachhotani.com', 'international-house-of-luggage.com', 'handyntrendy-shop.com', 'lurella-pakistan.com', 'pk-sentimentsexpress-com.com', 'islamabad12.com', 'urban-galleria-home.com', 'limelightpk.com', 'geffenbaby-com.com', 'chase-pk.com', 'welltew.com', 'sassystorepak.com', 'hnb-beauty-store.com', 'bachaaparty.com', 'yves-rocher-pakistan.com', 'dr-bake.com', 'niovani.com', 'hushpuppiespk.com', 'karachi-montessori-store.com', 'nur-fashions.com', 'dexpel.com', 'pk-sentimentsexpress-com.com', 'hiffey.com', 'rajasahb.com', 'brandsporterpk.com', 'tiaracle.com', 'togso.com', 'mushk-mahal.com', 'nightynight.com', 'readytrays.com', 'lieta-gelato.com', 'lenceria-lingerie-pk.com', 'vintagestreet.com', 'nightynight.com', 'islamabad12.com', 'pk-studiobytcs-com.com', 'nordic-studies-press.com', 'the-factory-stock.com', 'super-feet-pakistan.com', 'hnb-beauty-store.com', 'thejangomall.com', 'closecomfort.com', 'karachi-montessori-store.com', 'urban-galleria-home.com', 'shapewear-pk.com', 'elitecig.com', 'hnb-beauty-store.com', 'hnb-beauty-store.com', 'bachaaparty.com', 'packit-pk.com', 'hnb-beauty-store.com', 'colish-co.com', 'toolsbazarpk.com', 'dari-mooch.com']\n"
          ]
        }
      ],
      "source": [
        "domains = ['zaaviay.com', 'string-thread.com', 'daybreak-international-bookstore.com', 'one432-2.com', 'yayvo-2.com', 'lbkids.com', 'elan-pk.com', 'yayvo-2.com', 'pollyandotherstories.com', 'zellartco.com', 'anderson-design-group.com', 'throwin-stones.com', 'the-gem-hunters.com', 'the-gem-hunters.com', 'blaze-n-gems.com', 'geffenbaby-com.com', 'haniyas.com', 'sablevsite.com', 'matco-foods.com', 'isd-georgetown-university.com', 'throwin-stones.com', 'ammarakhan.com', 'throwin-stones.com', 'buckle-seamcom.com', 'isd-georgetown-university.com', 'sitara-studios.com', 'threads-and-motifs.com', 'serene-premium-embroidered.com', 'immersionresearch.com', 'remaluxe.com', 'tiaracle.com', 'pickypicksco.com', 'hinz-knit.com', 'boaeditions.com', 'the-lit-company-pakistan.com', 'buckle-seamcom.com', 'casinetto.com', 'rouzatirugs.com', 'jazminepk.com', 'urban-galleria-home.com', 'faisalfabrics-pk.com', 'akbaraslam.com', 'khaanan.com', 'yourlibaas.com', 'hinz-knit.com', 'mantra-pakistan.com', 'gomilaintersole.com', 'asimjofaofficial.com', 'rethink-cafe.com', 'sayapk.com', 'the-craft-company-by-muna-siddiqui.com', 'diversitystore-com.com', 'the-craft-company-by-muna-siddiqui.com', 'brandsego.com', 'hnb-beauty-store.com', 'pk-studiobytcs-com.com', 'mahroze.com', 'rethink-cafe.com', 'baroque-pk.com', 'pure-art-3.com', 'caveandcanyon.com', 'diners-com-pk.com', 'mapscompany.com', 'mahroze.com', 'posch-care-shop.com', 'elitecig.com', 'houseofcharizma.com', 'tadweenpublishing.com', 'timetochangesale.com', 'the-oriental-shop.com', 'qneonline.com', 'throwin-stones.com', 'islamabad12.com', 'mapscompany.com', 'alfatahstore.com', 'mohtaram.com', 'hub-genuinely-yours.com', 'outdoorfood.com', 'induscarpets.com', 'bembel.com', 'harris-car-care.com', 'mahroze.com', 'the-craft-company-by-muna-siddiqui.com', 'go-kismet.com', 'online-bazaar-pk.com', 'vintagestreet.com', 'hnb-beauty-store.com', 'hnb-beauty-store.com', 'hnb-beauty-store.com', 'hnb-beauty-store.com', 'baroque-pk.com', 'islamabad12.com', 'anderson-design-group.com', 'tuhuraathletics.com', 'alfatahstore.com', 'urban-galleria-home.com', 'mushk-mahal.com', 'afsaneh-pk.com', 'hadorn-swiss.com', 'archaic-empire.com', 'lamourworld.com', 'inappropriategifting.com', 'airlink-communication.com', 'phonecasepk.com', 'islamabad12.com', 'nadiachhotani.com', 'international-house-of-luggage.com', 'handyntrendy-shop.com', 'lurella-pakistan.com', 'pk-sentimentsexpress-com.com', 'islamabad12.com', 'urban-galleria-home.com', 'limelightpk.com', 'geffenbaby-com.com', 'chase-pk.com', 'welltew.com', 'sassystorepak.com', 'hnb-beauty-store.com', 'bachaaparty.com', 'yves-rocher-pakistan.com', 'dr-bake.com', 'niovani.com', 'hushpuppiespk.com', 'karachi-montessori-store.com', 'nur-fashions.com', 'dexpel.com', 'pk-sentimentsexpress-com.com', 'hiffey.com', 'rajasahb.com', 'brandsporterpk.com', 'tiaracle.com', 'togso.com', 'mushk-mahal.com', 'nightynight.com', 'readytrays.com', 'lieta-gelato.com', 'lenceria-lingerie-pk.com', 'vintagestreet.com', 'nightynight.com', 'islamabad12.com', 'pk-studiobytcs-com.com', 'nordic-studies-press.com', 'the-factory-stock.com', 'super-feet-pakistan.com', 'hnb-beauty-store.com', 'thejangomall.com', 'closecomfort.com', 'karachi-montessori-store.com', 'urban-galleria-home.com', 'shapewear-pk.com', 'elitecig.com', 'hnb-beauty-store.com', 'hnb-beauty-store.com', 'bachaaparty.com', 'packit-pk.com', 'hnb-beauty-store.com', 'colish-co.com', 'toolsbazarpk.com', 'dari-mooch.com']\n",
        "print(domains)"
      ]
    },
    {
      "cell_type": "code",
      "source": [
        "!pip install redis\n",
        "import redis\n",
        "client = redis.Redis(host = '43.251.253.107', port=1500,db=0)\n",
        "\n",
        "client.ping()"
      ],
      "metadata": {
        "colab": {
          "base_uri": "https://localhost:8080/"
        },
        "id": "lO9xFEEHNM5M",
        "outputId": "c86ae560-d8d6-4b0a-f246-860175d698bc"
      },
      "execution_count": null,
      "outputs": [
        {
          "output_type": "stream",
          "name": "stdout",
          "text": [
            "Collecting redis\n",
            "  Downloading redis-4.2.2-py3-none-any.whl (226 kB)\n",
            "\u001b[?25l\r\u001b[K     |█▌                              | 10 kB 19.4 MB/s eta 0:00:01\r\u001b[K     |███                             | 20 kB 25.5 MB/s eta 0:00:01\r\u001b[K     |████▍                           | 30 kB 31.2 MB/s eta 0:00:01\r\u001b[K     |█████▉                          | 40 kB 23.7 MB/s eta 0:00:01\r\u001b[K     |███████▎                        | 51 kB 18.1 MB/s eta 0:00:01\r\u001b[K     |████████▊                       | 61 kB 20.3 MB/s eta 0:00:01\r\u001b[K     |██████████▏                     | 71 kB 20.7 MB/s eta 0:00:01\r\u001b[K     |███████████▋                    | 81 kB 22.1 MB/s eta 0:00:01\r\u001b[K     |█████████████                   | 92 kB 23.9 MB/s eta 0:00:01\r\u001b[K     |██████████████▌                 | 102 kB 25.5 MB/s eta 0:00:01\r\u001b[K     |████████████████                | 112 kB 25.5 MB/s eta 0:00:01\r\u001b[K     |█████████████████▍              | 122 kB 25.5 MB/s eta 0:00:01\r\u001b[K     |██████████████████▉             | 133 kB 25.5 MB/s eta 0:00:01\r\u001b[K     |████████████████████▎           | 143 kB 25.5 MB/s eta 0:00:01\r\u001b[K     |█████████████████████▊          | 153 kB 25.5 MB/s eta 0:00:01\r\u001b[K     |███████████████████████▏        | 163 kB 25.5 MB/s eta 0:00:01\r\u001b[K     |████████████████████████▋       | 174 kB 25.5 MB/s eta 0:00:01\r\u001b[K     |██████████████████████████      | 184 kB 25.5 MB/s eta 0:00:01\r\u001b[K     |███████████████████████████▌    | 194 kB 25.5 MB/s eta 0:00:01\r\u001b[K     |█████████████████████████████   | 204 kB 25.5 MB/s eta 0:00:01\r\u001b[K     |██████████████████████████████▍ | 215 kB 25.5 MB/s eta 0:00:01\r\u001b[K     |███████████████████████████████▉| 225 kB 25.5 MB/s eta 0:00:01\r\u001b[K     |████████████████████████████████| 226 kB 25.5 MB/s \n",
            "\u001b[?25hRequirement already satisfied: packaging>=20.4 in /usr/local/lib/python3.7/dist-packages (from redis) (21.3)\n",
            "Collecting async-timeout>=4.0.2\n",
            "  Downloading async_timeout-4.0.2-py3-none-any.whl (5.8 kB)\n",
            "Requirement already satisfied: typing-extensions in /usr/local/lib/python3.7/dist-packages (from redis) (3.10.0.2)\n",
            "Requirement already satisfied: importlib-metadata>=1.0 in /usr/local/lib/python3.7/dist-packages (from redis) (4.11.3)\n",
            "Collecting deprecated>=1.2.3\n",
            "  Downloading Deprecated-1.2.13-py2.py3-none-any.whl (9.6 kB)\n",
            "Requirement already satisfied: wrapt<2,>=1.10 in /usr/local/lib/python3.7/dist-packages (from deprecated>=1.2.3->redis) (1.14.0)\n",
            "Requirement already satisfied: zipp>=0.5 in /usr/local/lib/python3.7/dist-packages (from importlib-metadata>=1.0->redis) (3.7.0)\n",
            "Requirement already satisfied: pyparsing!=3.0.5,>=2.0.2 in /usr/local/lib/python3.7/dist-packages (from packaging>=20.4->redis) (3.0.7)\n",
            "Installing collected packages: deprecated, async-timeout, redis\n",
            "Successfully installed async-timeout-4.0.2 deprecated-1.2.13 redis-4.2.2\n"
          ]
        },
        {
          "output_type": "execute_result",
          "data": {
            "text/plain": [
              "True"
            ]
          },
          "metadata": {},
          "execution_count": 2
        }
      ]
    },
    {
      "cell_type": "code",
      "source": [
        "# for key in keys:\n",
        "#   #  \"www.buzfeed.com\"\n",
        "#   client.sadd('allurls',key.decode(\"utf-8\"))"
      ],
      "metadata": {
        "id": "co7zvNatOOP0"
      },
      "execution_count": null,
      "outputs": []
    },
    {
      "cell_type": "code",
      "source": [
        "for item in domains:\n",
        "  client.sadd(item,len(item))"
      ],
      "metadata": {
        "id": "4uHZOy_JQWRm"
      },
      "execution_count": null,
      "outputs": []
    },
    {
      "cell_type": "code",
      "source": [
        "all_domains = client.keys()\n",
        "print(all_domains)"
      ],
      "metadata": {
        "colab": {
          "base_uri": "https://localhost:8080/"
        },
        "id": "hJFQ4W68Qr54",
        "outputId": "4b0fb19a-594e-4052-af7c-4e11b24ff77d"
      },
      "execution_count": null,
      "outputs": [
        {
          "output_type": "stream",
          "name": "stdout",
          "text": [
            "[b'readytrays.com', b'hinz-knit.com', b'daybreak-international-bookstore.com', b'phonecasepk.com', b'pk-studiobytcs-com.com', b'buckle-seamcom.com', b'matco-foods.com', b'outdoorfood.com', b'throwin-stones.com', b'gomilaintersole.com', b'pk-sentimentsexpress-com.com', b'yves-rocher-pakistan.com', b'bachaaparty.com', b'closecomfort.com', b'togso.com', b'jazminepk.com', b'lbkids.com', b'qneonline.com', b'super-feet-pakistan.com', b'nur-fashions.com', b'string-thread.com', b'sablevsite.com', b'niovani.com', b'lamourworld.com', b'dr-bake.com', b'the-lit-company-pakistan.com', b'toolsbazarpk.com', b'sitara-studios.com', b'baroque-pk.com', b'pollyandotherstories.com', b'hiffey.com', b'lurella-pakistan.com', b'induscarpets.com', b'tiaracle.com', b'hadorn-swiss.com', b'zaaviay.com', b'immersionresearch.com', b'mohtaram.com', b'packit-pk.com', b'anderson-design-group.com', b'geffenbaby-com.com', b'limelightpk.com', b'houseofcharizma.com', b'threads-and-motifs.com', b'elitecig.com', b'nordic-studies-press.com', b'mapscompany.com', b'islamabad12.com', b'airlink-communication.com', b'brandsporterpk.com', b'elan-pk.com', b'ammarakhan.com', b'alfatahstore.com', b'international-house-of-luggage.com', b'brandsego.com', b'haniyas.com', b'handyntrendy-shop.com', b'casinetto.com', b'serene-premium-embroidered.com', b'blaze-n-gems.com', b'mantra-pakistan.com', b'zellartco.com', b'hnb-beauty-store.com', b'asimjofaofficial.com', b'pickypicksco.com', b'pure-art-3.com', b'karachi-montessori-store.com', b'diversitystore-com.com', b'nightynight.com', b'chase-pk.com', b'vintagestreet.com', b'urban-galleria-home.com', b'dari-mooch.com', b'nadiachhotani.com', b'akbaraslam.com', b'sassystorepak.com', b'go-kismet.com', b'yourlibaas.com', b'online-bazaar-pk.com', b'the-craft-company-by-muna-siddiqui.com', b'thejangomall.com', b'hub-genuinely-yours.com', b'afsaneh-pk.com', b'mushk-mahal.com', b'remaluxe.com', b'timetochangesale.com', b'shapewear-pk.com', b'the-gem-hunters.com', b'mahroze.com', b'dexpel.com', b'harris-car-care.com', b'faisalfabrics-pk.com', b'isd-georgetown-university.com', b'inappropriategifting.com', b'one432-2.com', b'khaanan.com', b'sayapk.com', b'tadweenpublishing.com', b'colish-co.com', b'rajasahb.com', b'boaeditions.com', b'the-factory-stock.com', b'bembel.com', b'diners-com-pk.com', b'posch-care-shop.com', b'lenceria-lingerie-pk.com', b'lieta-gelato.com', b'yayvo-2.com', b'welltew.com', b'archaic-empire.com', b'rethink-cafe.com', b'caveandcanyon.com', b'hushpuppiespk.com', b'the-oriental-shop.com', b'tuhuraathletics.com', b'rouzatirugs.com']\n"
          ]
        }
      ]
    },
    {
      "cell_type": "code",
      "source": [
        "for domain in all_domains:\n",
        "  print(domain.decode(\"utf-8\"))\n",
        "  "
      ],
      "metadata": {
        "colab": {
          "base_uri": "https://localhost:8080/"
        },
        "id": "ZgDgvAk3RUUm",
        "outputId": "af126184-f2ac-4082-b11a-b8955ea9b936"
      },
      "execution_count": null,
      "outputs": [
        {
          "output_type": "stream",
          "name": "stdout",
          "text": [
            "readytrays.com\n",
            "hinz-knit.com\n",
            "daybreak-international-bookstore.com\n",
            "phonecasepk.com\n",
            "pk-studiobytcs-com.com\n",
            "buckle-seamcom.com\n",
            "matco-foods.com\n",
            "outdoorfood.com\n",
            "throwin-stones.com\n",
            "gomilaintersole.com\n",
            "pk-sentimentsexpress-com.com\n",
            "yves-rocher-pakistan.com\n",
            "bachaaparty.com\n",
            "closecomfort.com\n",
            "togso.com\n",
            "jazminepk.com\n",
            "lbkids.com\n",
            "qneonline.com\n",
            "super-feet-pakistan.com\n",
            "nur-fashions.com\n",
            "string-thread.com\n",
            "sablevsite.com\n",
            "niovani.com\n",
            "lamourworld.com\n",
            "dr-bake.com\n",
            "the-lit-company-pakistan.com\n",
            "toolsbazarpk.com\n",
            "sitara-studios.com\n",
            "baroque-pk.com\n",
            "pollyandotherstories.com\n",
            "hiffey.com\n",
            "lurella-pakistan.com\n",
            "induscarpets.com\n",
            "tiaracle.com\n",
            "hadorn-swiss.com\n",
            "zaaviay.com\n",
            "immersionresearch.com\n",
            "mohtaram.com\n",
            "packit-pk.com\n",
            "anderson-design-group.com\n",
            "geffenbaby-com.com\n",
            "limelightpk.com\n",
            "houseofcharizma.com\n",
            "threads-and-motifs.com\n",
            "elitecig.com\n",
            "nordic-studies-press.com\n",
            "mapscompany.com\n",
            "islamabad12.com\n",
            "airlink-communication.com\n",
            "brandsporterpk.com\n",
            "elan-pk.com\n",
            "ammarakhan.com\n",
            "alfatahstore.com\n",
            "international-house-of-luggage.com\n",
            "brandsego.com\n",
            "haniyas.com\n",
            "handyntrendy-shop.com\n",
            "casinetto.com\n",
            "serene-premium-embroidered.com\n",
            "blaze-n-gems.com\n",
            "mantra-pakistan.com\n",
            "zellartco.com\n",
            "hnb-beauty-store.com\n",
            "asimjofaofficial.com\n",
            "pickypicksco.com\n",
            "pure-art-3.com\n",
            "karachi-montessori-store.com\n",
            "diversitystore-com.com\n",
            "nightynight.com\n",
            "chase-pk.com\n",
            "vintagestreet.com\n",
            "urban-galleria-home.com\n",
            "dari-mooch.com\n",
            "nadiachhotani.com\n",
            "akbaraslam.com\n",
            "sassystorepak.com\n",
            "go-kismet.com\n",
            "yourlibaas.com\n",
            "online-bazaar-pk.com\n",
            "the-craft-company-by-muna-siddiqui.com\n",
            "thejangomall.com\n",
            "hub-genuinely-yours.com\n",
            "afsaneh-pk.com\n",
            "mushk-mahal.com\n",
            "remaluxe.com\n",
            "timetochangesale.com\n",
            "shapewear-pk.com\n",
            "the-gem-hunters.com\n",
            "mahroze.com\n",
            "dexpel.com\n",
            "harris-car-care.com\n",
            "faisalfabrics-pk.com\n",
            "isd-georgetown-university.com\n",
            "inappropriategifting.com\n",
            "one432-2.com\n",
            "khaanan.com\n",
            "sayapk.com\n",
            "tadweenpublishing.com\n",
            "colish-co.com\n",
            "rajasahb.com\n",
            "boaeditions.com\n",
            "the-factory-stock.com\n",
            "bembel.com\n",
            "diners-com-pk.com\n",
            "posch-care-shop.com\n",
            "lenceria-lingerie-pk.com\n",
            "lieta-gelato.com\n",
            "yayvo-2.com\n",
            "welltew.com\n",
            "archaic-empire.com\n",
            "rethink-cafe.com\n",
            "caveandcanyon.com\n",
            "hushpuppiespk.com\n",
            "the-oriental-shop.com\n",
            "tuhuraathletics.com\n",
            "rouzatirugs.com\n"
          ]
        }
      ]
    },
    {
      "cell_type": "code",
      "source": [
        "# {'key':['1','2','3']}\n",
        "# {key:'value'}"
      ],
      "metadata": {
        "id": "JFy3pxLqRoAo"
      },
      "execution_count": null,
      "outputs": []
    },
    {
      "cell_type": "code",
      "source": [
        "# {'all_domains':['google','facebook','twitter']}\n",
        "# or\n",
        "# {'google':'yes'}\n",
        "# {'facebook':'yes'}\n",
        "# {'twitter':'yes'}"
      ],
      "metadata": {
        "id": "nIhYQTDbTG55"
      },
      "execution_count": null,
      "outputs": []
    },
    {
      "cell_type": "code",
      "source": [
        "domainsdb = redis.Redis(host = '43.251.253.107', port=1500,db=1)"
      ],
      "metadata": {
        "id": "GJwXPZqPT4Fd"
      },
      "execution_count": null,
      "outputs": []
    },
    {
      "cell_type": "code",
      "source": [
        "all_domains = domainsdb.keys()\n",
        "print(all_domains)"
      ],
      "metadata": {
        "colab": {
          "base_uri": "https://localhost:8080/"
        },
        "id": "Lnwefb0v7bxd",
        "outputId": "03744690-9517-4212-93dd-657a897a059e"
      },
      "execution_count": null,
      "outputs": [
        {
          "output_type": "stream",
          "name": "stdout",
          "text": [
            "[b'all_domains']\n"
          ]
        }
      ]
    },
    {
      "cell_type": "code",
      "source": [
        "for domain in all_domains: #these all are the domains from redis\n",
        "  print(domain.decode(\"utf-8\"))\n",
        "  domainsdb.sadd('all_domains',domain.decode(\"utf-8\"))"
      ],
      "metadata": {
        "colab": {
          "base_uri": "https://localhost:8080/"
        },
        "id": "SGMBjuRnTh4P",
        "outputId": "eae802a7-9636-4881-aedf-ca30240ef7b1"
      },
      "execution_count": null,
      "outputs": [
        {
          "output_type": "stream",
          "name": "stdout",
          "text": [
            "readytrays.com\n",
            "hinz-knit.com\n",
            "daybreak-international-bookstore.com\n",
            "phonecasepk.com\n",
            "pk-studiobytcs-com.com\n",
            "buckle-seamcom.com\n",
            "matco-foods.com\n",
            "outdoorfood.com\n",
            "throwin-stones.com\n",
            "gomilaintersole.com\n",
            "pk-sentimentsexpress-com.com\n",
            "yves-rocher-pakistan.com\n",
            "bachaaparty.com\n",
            "closecomfort.com\n",
            "togso.com\n",
            "jazminepk.com\n",
            "lbkids.com\n",
            "qneonline.com\n",
            "super-feet-pakistan.com\n",
            "nur-fashions.com\n",
            "string-thread.com\n",
            "sablevsite.com\n",
            "niovani.com\n",
            "lamourworld.com\n",
            "dr-bake.com\n",
            "the-lit-company-pakistan.com\n",
            "toolsbazarpk.com\n",
            "sitara-studios.com\n",
            "baroque-pk.com\n",
            "pollyandotherstories.com\n",
            "hiffey.com\n",
            "lurella-pakistan.com\n",
            "induscarpets.com\n",
            "tiaracle.com\n",
            "hadorn-swiss.com\n",
            "zaaviay.com\n",
            "immersionresearch.com\n",
            "mohtaram.com\n",
            "packit-pk.com\n",
            "anderson-design-group.com\n",
            "geffenbaby-com.com\n",
            "limelightpk.com\n",
            "houseofcharizma.com\n",
            "threads-and-motifs.com\n",
            "elitecig.com\n",
            "nordic-studies-press.com\n",
            "mapscompany.com\n",
            "islamabad12.com\n",
            "airlink-communication.com\n",
            "brandsporterpk.com\n",
            "elan-pk.com\n",
            "ammarakhan.com\n",
            "alfatahstore.com\n",
            "international-house-of-luggage.com\n",
            "brandsego.com\n",
            "haniyas.com\n",
            "handyntrendy-shop.com\n",
            "casinetto.com\n",
            "serene-premium-embroidered.com\n",
            "blaze-n-gems.com\n",
            "mantra-pakistan.com\n",
            "zellartco.com\n",
            "hnb-beauty-store.com\n",
            "asimjofaofficial.com\n",
            "pickypicksco.com\n",
            "pure-art-3.com\n",
            "karachi-montessori-store.com\n",
            "diversitystore-com.com\n",
            "nightynight.com\n",
            "chase-pk.com\n",
            "vintagestreet.com\n",
            "urban-galleria-home.com\n",
            "dari-mooch.com\n",
            "nadiachhotani.com\n",
            "akbaraslam.com\n",
            "sassystorepak.com\n",
            "go-kismet.com\n",
            "yourlibaas.com\n",
            "online-bazaar-pk.com\n",
            "the-craft-company-by-muna-siddiqui.com\n",
            "thejangomall.com\n",
            "hub-genuinely-yours.com\n",
            "afsaneh-pk.com\n",
            "mushk-mahal.com\n",
            "remaluxe.com\n",
            "timetochangesale.com\n",
            "shapewear-pk.com\n",
            "the-gem-hunters.com\n",
            "mahroze.com\n",
            "dexpel.com\n",
            "harris-car-care.com\n",
            "faisalfabrics-pk.com\n",
            "isd-georgetown-university.com\n",
            "inappropriategifting.com\n",
            "one432-2.com\n",
            "khaanan.com\n",
            "sayapk.com\n",
            "tadweenpublishing.com\n",
            "colish-co.com\n",
            "rajasahb.com\n",
            "boaeditions.com\n",
            "the-factory-stock.com\n",
            "bembel.com\n",
            "diners-com-pk.com\n",
            "posch-care-shop.com\n",
            "lenceria-lingerie-pk.com\n",
            "lieta-gelato.com\n",
            "yayvo-2.com\n",
            "welltew.com\n",
            "archaic-empire.com\n",
            "rethink-cafe.com\n",
            "caveandcanyon.com\n",
            "hushpuppiespk.com\n",
            "the-oriental-shop.com\n",
            "tuhuraathletics.com\n",
            "rouzatirugs.com\n"
          ]
        }
      ]
    },
    {
      "cell_type": "code",
      "source": [
        "#program1\n",
        "link=domainsdb.srandmember(\"all_domains\")\n",
        "link = link.decode(\"utf-8\")\n",
        "domainsdb.srem(\"all_domains\",link)\n",
        "print(link)"
      ],
      "metadata": {
        "colab": {
          "base_uri": "https://localhost:8080/"
        },
        "id": "R2jknDJMUtMt",
        "outputId": "95bacf32-9c12-4222-aebb-8c640598c136"
      },
      "execution_count": null,
      "outputs": [
        {
          "output_type": "stream",
          "name": "stdout",
          "text": [
            "baroque-pk.com\n"
          ]
        }
      ]
    },
    {
      "cell_type": "code",
      "source": [
        "#program2\n",
        "link=domainsdb.srandmember(\"all_domains\")\n",
        "link = link.decode(\"utf-8\")\n",
        "domainsdb.srem(\"all_domains\",link)\n",
        "print(link)"
      ],
      "metadata": {
        "colab": {
          "base_uri": "https://localhost:8080/"
        },
        "id": "FsFvIxzwVoHn",
        "outputId": "9c940f58-3d52-4f53-f832-8265eb3062fa"
      },
      "execution_count": null,
      "outputs": [
        {
          "output_type": "stream",
          "name": "stdout",
          "text": [
            "closecomfort.com\n"
          ]
        }
      ]
    },
    {
      "cell_type": "code",
      "source": [
        ""
      ],
      "metadata": {
        "id": "eJB4n8FpVu-g"
      },
      "execution_count": null,
      "outputs": []
    }
  ]
}