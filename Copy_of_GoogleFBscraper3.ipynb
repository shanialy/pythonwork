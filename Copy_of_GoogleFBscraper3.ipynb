{
  "nbformat": 4,
  "nbformat_minor": 0,
  "metadata": {
    "colab": {
      "name": "Copy of GoogleFBscraper3.ipynb",
      "provenance": [],
      "collapsed_sections": []
    },
    "kernelspec": {
      "name": "python3",
      "display_name": "Python 3"
    },
    "language_info": {
      "name": "python"
    }
  },
  "cells": [
    {
      "cell_type": "code",
      "source": [
        "# main way of making a temp db \n",
        "# make a temp DB and fill it with all the master list data, this temp DB will used as a state for google scraper \n",
        "masterDB = redis.Redis(host='43.251.253.107', port=1500, db=11)\n",
        "## masterDb looks like => www.buzzfeed.com,\"site_name\"\n",
        "stateDB = redis.Redis(host='43.251.253.107', port=1500, db=12)\n",
        "# stateDB.flushdb()\n",
        "keys=masterDB.keys()   \n",
        "for key in keys:\n",
        "  #  \"www.buzfeed.com\"\n",
        "  stateDB.sadd('allurls',key.decode(\"utf-8\"))\n",
        "  # the stateDb will look like => 'allurls',[all links of masterdb]"
      ],
      "metadata": {
        "colab": {
          "base_uri": "https://localhost:8080/",
          "height": 245
        },
        "id": "Cd5_adJKYBkY",
        "outputId": "6ffc4acf-2c24-40d1-9786-e6084e1bc5ad"
      },
      "execution_count": null,
      "outputs": [
        {
          "output_type": "error",
          "ename": "NameError",
          "evalue": "ignored",
          "traceback": [
            "\u001b[0;31m---------------------------------------------------------------------------\u001b[0m",
            "\u001b[0;31mNameError\u001b[0m                                 Traceback (most recent call last)",
            "\u001b[0;32m<ipython-input-2-e7baaf8e1e8a>\u001b[0m in \u001b[0;36m<module>\u001b[0;34m()\u001b[0m\n\u001b[1;32m      1\u001b[0m \u001b[0;31m# main way of making a temp db\u001b[0m\u001b[0;34m\u001b[0m\u001b[0;34m\u001b[0m\u001b[0;34m\u001b[0m\u001b[0m\n\u001b[1;32m      2\u001b[0m \u001b[0;31m# make a temp DB and fill it with all the master list data, this temp DB will used as a state for google scraper\u001b[0m\u001b[0;34m\u001b[0m\u001b[0;34m\u001b[0m\u001b[0;34m\u001b[0m\u001b[0m\n\u001b[0;32m----> 3\u001b[0;31m \u001b[0mmasterDB\u001b[0m \u001b[0;34m=\u001b[0m \u001b[0mredis\u001b[0m\u001b[0;34m.\u001b[0m\u001b[0mRedis\u001b[0m\u001b[0;34m(\u001b[0m\u001b[0mhost\u001b[0m\u001b[0;34m=\u001b[0m\u001b[0;34m'43.251.253.107'\u001b[0m\u001b[0;34m,\u001b[0m \u001b[0mport\u001b[0m\u001b[0;34m=\u001b[0m\u001b[0;36m1500\u001b[0m\u001b[0;34m,\u001b[0m \u001b[0mdb\u001b[0m\u001b[0;34m=\u001b[0m\u001b[0;36m11\u001b[0m\u001b[0;34m)\u001b[0m\u001b[0;34m\u001b[0m\u001b[0;34m\u001b[0m\u001b[0m\n\u001b[0m\u001b[1;32m      4\u001b[0m \u001b[0;31m## masterDb looks like => www.buzzfeed.com,\"site_name\"\u001b[0m\u001b[0;34m\u001b[0m\u001b[0;34m\u001b[0m\u001b[0;34m\u001b[0m\u001b[0m\n\u001b[1;32m      5\u001b[0m \u001b[0mstateDB\u001b[0m \u001b[0;34m=\u001b[0m \u001b[0mredis\u001b[0m\u001b[0;34m.\u001b[0m\u001b[0mRedis\u001b[0m\u001b[0;34m(\u001b[0m\u001b[0mhost\u001b[0m\u001b[0;34m=\u001b[0m\u001b[0;34m'43.251.253.107'\u001b[0m\u001b[0;34m,\u001b[0m \u001b[0mport\u001b[0m\u001b[0;34m=\u001b[0m\u001b[0;36m1500\u001b[0m\u001b[0;34m,\u001b[0m \u001b[0mdb\u001b[0m\u001b[0;34m=\u001b[0m\u001b[0;36m12\u001b[0m\u001b[0;34m)\u001b[0m\u001b[0;34m\u001b[0m\u001b[0;34m\u001b[0m\u001b[0m\n",
            "\u001b[0;31mNameError\u001b[0m: name 'redis' is not defined"
          ]
        }
      ]
    },
    {
      "cell_type": "code",
      "source": [
        ""
      ],
      "metadata": {
        "id": "Qr4l6FhWVxw2"
      },
      "execution_count": null,
      "outputs": []
    },
    {
      "cell_type": "code",
      "source": [
        "# google scraper geeting data from tempdb on office PC////////////////////////////////////////////////////////////////////////////\n",
        "stateDB = redis.Redis(host='43.251.253.107', port=1500, db=12)\n",
        "googleSearchResultsDB = redis.Redis(host='43.251.253.107', port=1500, db=13)\n",
        "while(1)\n",
        "# we make sure we get random links from the tempdb\n",
        "      link=stateDB.srandmember(\"allurls\") #pick a random value from \"allurls\"\n",
        "      link=link.decode(\"utf-8\")\n",
        "      #www.cnn.com\n",
        "      domain = link.tldextract.domain\n",
        "  \n",
        "        resp=search('facebook'+link, num=10)#10 links   \n",
        "        time.sleep(random.randint(5,12))\n",
        "        for fblink in resp:\n",
        "          googleSearchResultsDB.sadd(domain,fblink)#10 links under one key\n",
        "          stateDB.srem(\"allurls\",link)#remove 'link' member\n",
        "      \n",
        "\n"
      ],
      "metadata": {
        "id": "Up5ZVgRvc0gn"
      },
      "execution_count": null,
      "outputs": []
    },
    {
      "cell_type": "code",
      "source": [
        "# this cell should have multi-line cookie string as a variable, \n",
        "# write that string to cookie1.txt\n",
        "x = \"\"\"[\n",
        "{\n",
        "    \"domain\": \".facebook.com\",\n",
        "    \"expirationDate\": 1671530006.820002,\n",
        "    \"hostOnly\": false,\n",
        "    \"httpOnly\": false,\n",
        "    \"name\": \"c_user\",\n",
        "    \"path\": \"/\",\n",
        "    \"sameSite\": \"no_restriction\",\n",
        "    \"secure\": true,\n",
        "    \"session\": false,\n",
        "    \"storeId\": \"0\",\n",
        "    \"value\": \"100075931215749\",\n",
        "    \"id\": 1\n",
        "},\n",
        "{\n",
        "    \"domain\": \".facebook.com\",\n",
        "    \"expirationDate\": 1702550575.332421,\n",
        "    \"hostOnly\": false,\n",
        "    \"httpOnly\": true,\n",
        "    \"name\": \"datr\",\n",
        "    \"path\": \"/\",\n",
        "    \"sameSite\": \"no_restriction\",\n",
        "    \"secure\": true,\n",
        "    \"session\": false,\n",
        "    \"storeId\": \"0\",\n",
        "    \"value\": \"UHW4YQCFtXIk7fgXE3wLOau_\",\n",
        "    \"id\": 2\n",
        "},\n",
        "{\n",
        "    \"domain\": \".facebook.com\",\n",
        "    \"expirationDate\": 1647770005.820115,\n",
        "    \"hostOnly\": false,\n",
        "    \"httpOnly\": true,\n",
        "    \"name\": \"fr\",\n",
        "    \"path\": \"/\",\n",
        "    \"sameSite\": \"no_restriction\",\n",
        "    \"secure\": true,\n",
        "    \"session\": false,\n",
        "    \"storeId\": \"0\",\n",
        "    \"value\": \"0eGkDOIg2L0zA1mmY.AWUFx3rw2CwBXGNioouFYTMgT8o.BhwFLR.Xl.AAA.0.0.BhwFLR.AWWsr6IhGZY\",\n",
        "    \"id\": 3\n",
        "},\n",
        "{\n",
        "    \"domain\": \".facebook.com\",\n",
        "    \"expirationDate\": 1640086480.506574,\n",
        "    \"hostOnly\": false,\n",
        "    \"httpOnly\": false,\n",
        "    \"name\": \"locale\",\n",
        "    \"path\": \"/\",\n",
        "    \"sameSite\": \"no_restriction\",\n",
        "    \"secure\": true,\n",
        "    \"session\": false,\n",
        "    \"storeId\": \"0\",\n",
        "    \"value\": \"en_US\",\n",
        "    \"id\": 4\n",
        "},\n",
        "{\n",
        "    \"domain\": \".facebook.com\",\n",
        "    \"hostOnly\": false,\n",
        "    \"httpOnly\": false,\n",
        "    \"name\": \"m_pixel_ratio\",\n",
        "    \"path\": \"/\",\n",
        "    \"sameSite\": \"unspecified\",\n",
        "    \"secure\": true,\n",
        "    \"session\": true,\n",
        "    \"storeId\": \"0\",\n",
        "    \"value\": \"1\",\n",
        "    \"id\": 5\n",
        "},\n",
        "{\n",
        "    \"domain\": \".facebook.com\",\n",
        "    \"hostOnly\": false,\n",
        "    \"httpOnly\": false,\n",
        "    \"name\": \"presence\",\n",
        "    \"path\": \"/\",\n",
        "    \"sameSite\": \"unspecified\",\n",
        "    \"secure\": true,\n",
        "    \"session\": true,\n",
        "    \"storeId\": \"0\",\n",
        "    \"value\": \"C%7B%22t3%22%3A%5B%5D%2C%22utc3%22%3A1639986198548%2C%22v%22%3A1%7D\",\n",
        "    \"id\": 6\n",
        "},\n",
        "{\n",
        "    \"domain\": \".facebook.com\",\n",
        "    \"expirationDate\": 1702553947.664819,\n",
        "    \"hostOnly\": false,\n",
        "    \"httpOnly\": true,\n",
        "    \"name\": \"sb\",\n",
        "    \"path\": \"/\",\n",
        "    \"sameSite\": \"no_restriction\",\n",
        "    \"secure\": true,\n",
        "    \"session\": false,\n",
        "    \"storeId\": \"0\",\n",
        "    \"value\": \"P5O3YKz9w9O4hpJpgIRZ46OK\",\n",
        "    \"id\": 7\n",
        "},\n",
        "{\n",
        "    \"domain\": \".facebook.com\",\n",
        "    \"expirationDate\": 1640338600,\n",
        "    \"hostOnly\": false,\n",
        "    \"httpOnly\": false,\n",
        "    \"name\": \"wd\",\n",
        "    \"path\": \"/\",\n",
        "    \"sameSite\": \"lax\",\n",
        "    \"secure\": true,\n",
        "    \"session\": false,\n",
        "    \"storeId\": \"0\",\n",
        "    \"value\": \"1349x651\",\n",
        "    \"id\": 8\n",
        "},\n",
        "{\n",
        "    \"domain\": \".facebook.com\",\n",
        "    \"hostOnly\": false,\n",
        "    \"httpOnly\": false,\n",
        "    \"name\": \"x-referer\",\n",
        "    \"path\": \"/\",\n",
        "    \"sameSite\": \"no_restriction\",\n",
        "    \"secure\": true,\n",
        "    \"session\": true,\n",
        "    \"storeId\": \"0\",\n",
        "    \"value\": \"eyJyIjoiL2licmFoaW1JbXBvcnRlZC8iLCJoIjoiL2licmFoaW1JbXBvcnRlZC8iLCJzIjoibSJ9\",\n",
        "    \"id\": 9\n",
        "},\n",
        "{\n",
        "    \"domain\": \".facebook.com\",\n",
        "    \"expirationDate\": 1671530006.820076,\n",
        "    \"hostOnly\": false,\n",
        "    \"httpOnly\": true,\n",
        "    \"name\": \"xs\",\n",
        "    \"path\": \"/\",\n",
        "    \"sameSite\": \"no_restriction\",\n",
        "    \"secure\": true,\n",
        "    \"session\": false,\n",
        "    \"storeId\": \"0\",\n",
        "    \"value\": \"37%3AyXU38arEF2iSNQ%3A2%3A1639481998%3A-1%3A-1%3A%3AAcWj8n8TnMACG38msYmhupxCRf4dcF37Mtf3_7QUYyY\",\n",
        "    \"id\": 10\n",
        "}\n",
        "]\"\"\"\n",
        "\n",
        "with open(\"/content/cookies.txt\",\"w+\") as f:\n",
        "  f.writelines(x)"
      ],
      "metadata": {
        "id": "EUr--HVCOBFk"
      },
      "execution_count": null,
      "outputs": []
    },
    {
      "cell_type": "code",
      "source": [
        "!pip install tldextract "
      ],
      "metadata": {
        "id": "JEnndiin_YKC",
        "colab": {
          "base_uri": "https://localhost:8080/"
        },
        "outputId": "6b21c7cc-0dae-4c50-aeee-3cc1f6168d31"
      },
      "execution_count": null,
      "outputs": [
        {
          "output_type": "stream",
          "name": "stdout",
          "text": [
            "Collecting tldextract\n",
            "  Downloading tldextract-3.1.2-py2.py3-none-any.whl (87 kB)\n",
            "\u001b[?25l\r\u001b[K     |███▊                            | 10 kB 18.1 MB/s eta 0:00:01\r\u001b[K     |███████▌                        | 20 kB 19.4 MB/s eta 0:00:01\r\u001b[K     |███████████▎                    | 30 kB 11.6 MB/s eta 0:00:01\r\u001b[K     |███████████████                 | 40 kB 9.7 MB/s eta 0:00:01\r\u001b[K     |██████████████████▉             | 51 kB 4.5 MB/s eta 0:00:01\r\u001b[K     |██████████████████████▋         | 61 kB 4.6 MB/s eta 0:00:01\r\u001b[K     |██████████████████████████▍     | 71 kB 5.0 MB/s eta 0:00:01\r\u001b[K     |██████████████████████████████  | 81 kB 5.6 MB/s eta 0:00:01\r\u001b[K     |████████████████████████████████| 87 kB 2.8 MB/s \n",
            "\u001b[?25hRequirement already satisfied: filelock>=3.0.8 in /usr/local/lib/python3.7/dist-packages (from tldextract) (3.4.0)\n",
            "Requirement already satisfied: idna in /usr/local/lib/python3.7/dist-packages (from tldextract) (2.10)\n",
            "Collecting requests-file>=1.4\n",
            "  Downloading requests_file-1.5.1-py2.py3-none-any.whl (3.7 kB)\n",
            "Requirement already satisfied: requests>=2.1.0 in /usr/local/lib/python3.7/dist-packages (from tldextract) (2.23.0)\n",
            "Requirement already satisfied: certifi>=2017.4.17 in /usr/local/lib/python3.7/dist-packages (from requests>=2.1.0->tldextract) (2021.10.8)\n",
            "Requirement already satisfied: urllib3!=1.25.0,!=1.25.1,<1.26,>=1.21.1 in /usr/local/lib/python3.7/dist-packages (from requests>=2.1.0->tldextract) (1.24.3)\n",
            "Requirement already satisfied: chardet<4,>=3.0.2 in /usr/local/lib/python3.7/dist-packages (from requests>=2.1.0->tldextract) (3.0.4)\n",
            "Requirement already satisfied: six in /usr/local/lib/python3.7/dist-packages (from requests-file>=1.4->tldextract) (1.15.0)\n",
            "Installing collected packages: requests-file, tldextract\n",
            "Successfully installed requests-file-1.5.1 tldextract-3.1.2\n"
          ]
        }
      ]
    },
    {
      "cell_type": "code",
      "source": [
        "!pip install facebook_scraper"
      ],
      "metadata": {
        "id": "qTK-vsLo7Y8b"
      },
      "execution_count": null,
      "outputs": []
    },
    {
      "cell_type": "code",
      "source": [
        "!pip install redis"
      ],
      "metadata": {
        "id": "lKX-78Cm8UZZ"
      },
      "execution_count": null,
      "outputs": []
    },
    {
      "cell_type": "code",
      "source": [
        "from googlesearch import search"
      ],
      "metadata": {
        "id": "ZzOS-zPqde5K"
      },
      "execution_count": null,
      "outputs": []
    },
    {
      "cell_type": "code",
      "source": [
        "from googlesearch import search\n",
        "import tldextract\n",
        "import time\n",
        "import random\n",
        "import redis\n",
        "from facebook_scraper import get_posts\n",
        "DB3 = redis.Redis(host='43.251.253.107', port=1500, db=3)\n",
        "DB2 = redis.Redis(host='43.251.253.107', port=1500, db=2)\n",
        "# import pymongo\n",
        "# myclient = pymongo.MongoClient(\"mongodb://43.251.253.107:1600/\")\n",
        "# mydb = myclient['GoogleFBscraper2-Bilal']\n",
        "# mycol = mydb['Allposts']"
      ],
      "metadata": {
        "id": "V9SO1y9qqhex",
        "outputId": "ea14f0f3-0c45-4807-a33d-de9477c2bcaf",
        "colab": {
          "base_uri": "https://localhost:8080/",
          "height": 375
        }
      },
      "execution_count": null,
      "outputs": [
        {
          "output_type": "error",
          "ename": "ModuleNotFoundError",
          "evalue": "ignored",
          "traceback": [
            "\u001b[0;31m---------------------------------------------------------------------------\u001b[0m",
            "\u001b[0;31mModuleNotFoundError\u001b[0m                       Traceback (most recent call last)",
            "\u001b[0;32m<ipython-input-1-bf3c96b0c50c>\u001b[0m in \u001b[0;36m<module>\u001b[0;34m()\u001b[0m\n\u001b[1;32m      1\u001b[0m \u001b[0;32mfrom\u001b[0m \u001b[0mgooglesearch\u001b[0m \u001b[0;32mimport\u001b[0m \u001b[0msearch\u001b[0m\u001b[0;34m\u001b[0m\u001b[0;34m\u001b[0m\u001b[0m\n\u001b[0;32m----> 2\u001b[0;31m \u001b[0;32mimport\u001b[0m \u001b[0mtldextract\u001b[0m\u001b[0;34m\u001b[0m\u001b[0;34m\u001b[0m\u001b[0m\n\u001b[0m\u001b[1;32m      3\u001b[0m \u001b[0;32mimport\u001b[0m \u001b[0mtime\u001b[0m\u001b[0;34m\u001b[0m\u001b[0;34m\u001b[0m\u001b[0m\n\u001b[1;32m      4\u001b[0m \u001b[0;32mimport\u001b[0m \u001b[0mrandom\u001b[0m\u001b[0;34m\u001b[0m\u001b[0;34m\u001b[0m\u001b[0m\n\u001b[1;32m      5\u001b[0m \u001b[0;32mimport\u001b[0m \u001b[0mredis\u001b[0m\u001b[0;34m\u001b[0m\u001b[0;34m\u001b[0m\u001b[0m\n",
            "\u001b[0;31mModuleNotFoundError\u001b[0m: No module named 'tldextract'",
            "",
            "\u001b[0;31m---------------------------------------------------------------------------\u001b[0;32m\nNOTE: If your import is failing due to a missing package, you can\nmanually install dependencies using either !pip or !apt.\n\nTo view examples of installing some common dependencies, click the\n\"Open Examples\" button below.\n\u001b[0;31m---------------------------------------------------------------------------\u001b[0m\n"
          ],
          "errorDetails": {
            "actions": [
              {
                "action": "open_url",
                "actionText": "Open Examples",
                "url": "/notebooks/snippets/importing_libraries.ipynb"
              }
            ]
          }
        }
      ]
    },
    {
      "cell_type": "code",
      "source": [
        "# # use this code ONLY which google searching facebook pages.\n",
        "import redis\n",
        "DB11 = redis.Redis(host='43.251.253.107', port=1500, db=11)\n",
        "DB11.sadd('google','www.google.com/ABC')"
      ],
      "metadata": {
        "colab": {
          "base_uri": "https://localhost:8080/"
        },
        "id": "wiszsA16UFRE",
        "outputId": "48c997fc-a4c8-4a0d-a5a9-883ab8de1610"
      },
      "execution_count": null,
      "outputs": [
        {
          "output_type": "execute_result",
          "data": {
            "text/plain": [
              "1"
            ]
          },
          "metadata": {},
          "execution_count": 4
        }
      ]
    },
    {
      "cell_type": "code",
      "source": [
        "# read sets' keys from redis and decode\n",
        "sitenames_list = []\n",
        "for keyb in DB2.scan_iter():\n",
        "  # print(keyb)\n",
        "  keyS = keyb.decode(\"utf-8\")\n",
        "  sitenames_list.append(keyS)# read all the keys from redis into python list\n",
        "  # masterDB.spop(key1)# loop over the above list and delete each entry from redis\n",
        "print(sitenames_list)#simple strings inside list, NOT byte"
      ],
      "metadata": {
        "id": "-qXRd3far52M",
        "colab": {
          "base_uri": "https://localhost:8080/"
        },
        "outputId": "bf4f9012-6ccb-4df8-e7ab-21592324542e"
      },
      "execution_count": null,
      "outputs": [
        {
          "output_type": "stream",
          "name": "stdout",
          "text": [
            "['campusbuzz.blog', 'gpsinsight.com', 'shutterstock.com', 'gorgeouslyflawed.com', 'blackmagicdesign.com', 'hoonigan.com', 'humbuckersoup.com', 'killerstartups.com', 'pathwayscg.com', '41jellis.medium.com', 'offgridspot.com', 'riverjournalonline.com', 'albomadventures.com', 'unamhe.or.ug', 'hammerhead.io', 'colleaguestories.coop.co.uk', 'voices.berkeley.edu', 'pfudge.com', 'borderlore.org', 'diymorning.com', 'whicherridge.com.au', 'aocuk.net', 'roomtothrive.com', 'sott.net', 'foodallergycanada.ca', 'airhockeytablereviews.com', 'kulanpost.co.ke', 'bakerbettie.com', 'taskade.com', 'thezimtainment.co.zw', 'congressheightsontherise.com', 'ahaparenting.com', 'forka.us', 'blog.fontawesome.com', 'preview.houstonchronicle.com', 'iconichairdressing.com', 'masterlineusa.com', 'bearfoottheory.com', 'vsktelangana.org', 'lifechangesnetwork.com', 'izea.com', 'lockhart-meyer.co.uk', 'curtismchale.ca', 'purpleplayasfoundation.org', 'leaf-architecture.co.uk', 'thelegacyofjohnwilliams.com', 'nysed.gov', 'blog.retireready.com', 'dnalounge.com', 'visitaruba.com', 'indy100.com', 'danelec-marine.com', 'avworx.net', 'laramoneta.com', 'infigic.com', 'organichomeremedies.com', 'thesolemates.com', 'pfhstheroar.com', 'rollinghillscoop.com', 'best-free-online-dating-service.com', 'windowsreport.com', 'oaspa.org', 'healthreporters.info', 'discountbookman.com', 'baltimorepostexaminer.com', 'privatelabelwholesale.com', 'lowinablackman.com.au', 'naturalproductsglobal.com', 'llifs.com.au', 'vancouverpublicspace.ca', 'misssmartyplants.com', 'mail4rosey.com', 'rackham.umich.edu', 'tmj4.com', 'blog.tms.edu', 'bathroomexhaustfanswithlight.com', 'smemagazine.asia', 'homemadelovely.com', 'blogwithvk.com', 'stolenandmissingpetsalliance.co.uk', '8list.ph', 'laseraid.com.au', 'wedentist.com', 'danmarcappliance.com', 'finewal.com', 'mic.com', 'crosswordsltd.com', 'vncoupon.com', 'dreamplanlive.com', 'platinumelectricians.com.au', 'soapoperanews.net', 'crystalgraphic.com', 'kbeautycafe.com.ph', 'songsofjoy.org', 'kelloughdmd.com', 'firstfocus.org', 'weareplanc.org', 'lifecarediagnostic.com', 'allergicliving.com', 'cabiotech.org', 'ahvalnews.com', 'silverbackpacker.com', 'greenloungechairsonline.com', 'quillgroup.com.au', 'daysinbed.com', 'mspluxurylimo.com', 'forcescompare.uk', 'radioandmusic.com', 'moondoglabs.com', 'katrinawilsonphotography.co.uk', 'blog.scistarter.com', 'blog.easi.net', 'onlinehomedesignblog.com', 'lostindiana.net', 'sbpdiscovery.org', 'labouroutlook.org', 'blog.thecodegalaxy.com', 'sabkadentist.com', 'masterclasscabinets.com.au', 'rockpapershotgun.com', 'peaknutritionalproducts.com', 'roydennis.org', 'shorebox.co.uk', 'sodiumbreakup.heart.org', 'andriedesigns.com', 'dennisondampier.com', 'sedonaaromatics.com', 'rocheawnings.com', 'northstarmeetingsgroup.com', 'holeinthedonut.com', 'chagrinvalleysoapandsalve.com', 'veritashc.org', 'completesports.com', 'notdeadyetstyle.com', 'myuniquehome.co.uk', 'supperplate.com', 'blog.lifeextension.com', 'skinnytaste.com', 'commonwealthjoe.com', 'barrett-jackson.com', 'blueridgeoutdoors.com', 'schumachercollege.org.uk', 'viralnation.com', 'healingfamilyeats.com', 'timesdirect.tv', 'pri.org', 'eastbaytimes.com', 'waxspecialists.com', 'estefannie.com', 'drlaurakelly.com', 'mccaininstitute.org', 'ieskincare.com', 'kavishapharma.com', 'knowledgequest.aasl.org', 'keralpatel.com', 'exponentialimpact.com', 'getuperica.com', 'excelsiorlimo.com', 'mediebyraaforeningen.no', 'calloftheforest.ca', 'martinezgazette.com', 'blog.txpowersports.com', 'eyebulletin.com', 'msccollege.edu', 'theappideas.com', 'thinkingnutrition.com.au', 'kooricurriculum.com', 'officialhacker.com', 'goodnessdental.com', 'redappletech.com', 'franklinrae.com', 'helenwashington.com', 'wheresheworks.com', 'lasvegas.cbslocal.com', 'etftrends.com', 'homeongrangehallroad.com', 'ratemyrave.com', 'getacoffeemaker.com', 'owegopennysaver.com', 'news.kgnu.org', 'davidmcguire.com', 'ictevangelist.com', 'cc-pl.org', 'seeingtheworldinsteps.com', 'lemondnutrition.com', 'blackgirlnerds.com', 'perrykeywest.com', 'colemanconcierge.com', 'soranews24.com', 'blog.ninjavan.co', 'endangered.org', 'limpbizkitsongs.com', 'talkgaza.com', 'blog.deteact.com', 'southernladymagazine.com', 'lefkovitz.com', 'theforexarmy.com', 'painshill.co.uk', 'konachocolatefestival.com', 'thefreckle.blog', 'ctbythenumbers.news', 'sportfishingmag.com', 'ninasapartment.com', 'studio-mcgee.com', 'rockvalleypt.com', 'arbitrarilyclose.com', 'genericcialistc.com', 'internationaldentistcentral.com', 'web-peppers.com', 'inflcr.com', 'yourhealthwellnesscentre.com', 'urbana.ie', 'smartclassroommanagement.com', 'dbgidoon.ac.in', 'frieddandelions.com', 'findingcoopersvoice.com', 'lynnebuchanan.com', 'grandriverraceway.com', 'gtmetrix.com', 'designedsimple.com', 'lifeatthevineyards.org', 'creaturecoffee.co', 'claudiograss.ch', 'outbreaknewstoday.com', 'retirefabulously.com', 'telecompetitor.com', 'crownpeak.com', 'bradykoch.com', 'protectingwealth.com', 'thebridge.in', 'wowebook.org', 'tmjhope.org', 'urbanintellectuals.com', 'faberlic-zp.com', 'stabroeknews.com', 'iecn.com', 'salkantaytrekking.com', 'irandll.com', 'janathangrace.org', 'arenaeyesurgeons.com', 'travelwithsandi.com', 'biblica.com', 'vanguardlawmag.com', 'andersenwm.com', 'blog.icihomes.com', 'shoneys.com', 'edwardjohnsonstudio.co.uk', 'design.lsu.edu', 'entrevestor.com', 'beer-chronicles.com', 'blavity.com', 'peanutsorpretzels.com', 'destinature.ca', 'dimebagdarrell.com', 'autoconnectedcar.com', 'socialtrendsph.net', 'corporettemoms.com', 'momwithstyle.com', 'patiencerandle.com', 'c4israel.org', 'thestemmum.com', 'healthcarefinancenews.com', 'sagepointcare.org', 'dusted.codes', 'dtn.com', 'erj.ersjournals.com', 'landcruisingadventure.com', 'internationalintegrative.com', 'blog.vidalung.ai', 'sedulo.co.uk', 'kodeks-polski.pl', 'westa.org', 'bosguy.com', 'fillingmymap.com', 'andybateschef.com', 'shooting-performance.com', 'techychennai.com', 'summercushman.com', 'typotheque.com', 'allabouttherock.co.uk', 'universaldiscus.com', 'sourceamerica.org', 'annmackay.blog', 'thewoodgraincottage.com', 'vivantskincare.com', 'papercranetattoo.com', 'loansline24.com', 'emmock.com', 'tylergaw.com', 'babyhighchair-reviews.com', 'ssnet.org', 'hsifurniture.co.uk', 'counterpointresearch.com', 'leitnerconstruction.com', 'birkenheadmonumental.co.uk', 'countryhouse.net', 'webtopnews.com', 'coronetrealtyltd.com', 'positiveparentshavering.org.uk', 'wames.org.uk', 'derrickriches.com', 'pentins.co.uk', 'aikenbluegrassfestival.org', 'usebalsamicvinegar.com', 'semidomesticated.com', 'longbournfarm.com', 'debbymerickel.com', 'techbuild.africa', 'ahousefullofsunshine.com', '9thlevel.ie', 'wendyforcier.com', 'aesthetx.com', 'southerncountiespetanque.org', 'derm-imaging.org', 'apprisen.com', 'sandiegofoodfinds.com', 'adamschindler.com', 'plkpathway.com', 'neatnestsdesign.com', 'creswell-crags.org.uk', 'thepetridish.my', 'blog.mobbo.com', 'dtravelsround.com', 'santagertrudis.org', '9jasoundtv.com', 'eyretribune.com.au', 'engineering.vanderbilt.edu', 'laurinburgexchange.com', 'baconsrebellion.com', 'alluringto.com', 'dudeimanaspie.com', 'inkcap.substack.com', 'wyman-services.com', 'ozy.com', 'hastybake.com', 'thehostingjourney.com', 'lymanuniverse.com', 'coastalretreats.co.uk', 'ajddigital.co.uk', 'gisgeography.com', 'findbestseo.com', 'diyprojectsforteens.com', 'allnaijaentertainment.com', 'designingfordementia.eu', 'rubycup.com', 'goodmorninggloucester.com', 'haaretzdaily.com', 'blog.nzhl.co.nz', 'blog.bradleygauthier.com', 'dyingwithdignity.ca', 'stone-dsgns.com', 'dianeravitch.net', 'blog.urbanbarn.com', 'healyeatsreal.com', 'budgetpantry.com', 'health.mil', 'doffandflux.com.au', 'secretsofparis.com', 'geelongindy.com.au', 'practical365.com', 'autokary-warszawa.com', 'peoplemattersglobal.com', 'bondsescaperoom.com', 'abqjournal.com', 'voiceoflisabrandt.com', 'gizmohomecraft.com', 'kjrose.blog', 'blindfieldjournal.com', 'recetasparathermomix.com', 'mommybear.org', 'serenityhomestead.com']\n"
          ]
        }
      ]
    },
    {
      "cell_type": "code",
      "source": [
        "# google-search each sitename from the above list\n",
        "urls = []\n",
        "for ttls in sitenames_list:\n",
        "  \n",
        "  try:\n",
        "    resp=search(\"facebook.com \"+ttls, num=2)   \n",
        "    time.sleep(random.randint(5,12))\n",
        "    for link in resp:\n",
        "      childFLD=tldextract.extract(link)\n",
        "      childFLD=childFLD.domain\n",
        "      if childFLD==\"facebook\":\n",
        "        try:\n",
        "          print(link)\n",
        "          pageNames = link.split('/')[3].strip()\n",
        "          # pageNames = link.split('/')[2:3]use either\n",
        "          print(pageNames)\n",
        "          DB3.sadd(pageNames,'Unique Page Name') # insert the extracted unique fb page name into redis DB-3\n",
        "          DB2.delete(ttls) # in the for loop of list from redis after finding unique page name on google, delete that particular key of sitename from DB-2\n",
        "        except Exception as e:\n",
        "          print(e)\n",
        "          break\n",
        "        break\n",
        "  except Exception as e:\n",
        "    print(e)\n",
        "    break\n",
        "# make sure that the key(s) is deleted from DB-0 only when a succesful unique Fb page name is found.\n",
        "# make sure when google blocks us the program should enddddd\n",
        "# this concept is state management in DB-0 "
      ],
      "metadata": {
        "id": "5o3TV4ApsKDH"
      },
      "execution_count": null,
      "outputs": []
    },
    {
      "cell_type": "code",
      "source": [
        "# # read sets' keys from redis DB1 and decode\n",
        "# for keyb1 in DB1.scan_iter():\n",
        "#   print(keyb1)\n",
        "#   keyS1 = keyb1.decode(\"utf-8\")\n",
        "#   urls.append(keyS1)# read all the keys from redis into python list\n",
        "#   # masterDB.spop(key1)# loop over the above list and delete each entry from redis\n",
        "# print(urls)#simple strings inside list, NOT byte from DB1"
      ],
      "metadata": {
        "id": "sK7eHjCkJ-sp"
      },
      "execution_count": null,
      "outputs": []
    },
    {
      "cell_type": "code",
      "source": [
        "# # fb urls to extract posts data and upload on DB-1\n",
        "# fields = ('comments','link','likes','images','shared_time','text','post_id','reactions','shares','user_id','time','timestamp','time')\n",
        "# # fbPages = ('ABCNews','cnn','NBCNews','mlive','TheIndependentOnline','thedailybeast','WashingtonExaminer','Gawker','Upworthy','chroncom','Slate','bleacherreport','EliteDaily','washingtonpost','DailyMail','nytimes','BuzzFeed','usatoday','CBSNews','HuffPost')\n",
        "# for fbp in urls:\n",
        "#   try:\n",
        "#     for post in get_posts(fbp, pages= 3,cookies= 'cookies.txt'):\n",
        "#       collection = {'pageName':fbp}    \n",
        "#       for items in fields:\n",
        "#         collection[items] = (post[items])\n",
        "#         # DB2.hset(fbp,items,post[items])\n",
        "#       x = mycol.insert_one(collection) \n",
        "#   except Exception as e:\n",
        "#     print(e)"
      ],
      "metadata": {
        "id": "AB-GMTpdGBz6"
      },
      "execution_count": null,
      "outputs": []
    },
    {
      "cell_type": "code",
      "source": [
        "item=rand(list)#choose a random cookies file.\n",
        "count=0 #initialize counter for number of pages scraped to jump to change cookies file and continue scraping.\n",
        "while(1)\n",
        "if(count==20):# if number of pages becomes 20 change cookies file.\n",
        "  count=0\n",
        "  item=rand(list)# choose a random cookies file.\n",
        "else:  \n",
        "  CookLoginAddress=item\n",
        "  facebookScraper()\n",
        "  count+=1\n"
      ],
      "metadata": {
        "id": "gk_-4yGHaf2q"
      },
      "execution_count": null,
      "outputs": []
    },
    {
      "cell_type": "code",
      "source": [
        "#read the facebook scraper issues, and find out how to pass the cookies file in json format"
      ],
      "metadata": {
        "id": "HxUgp6uQQ0E3"
      },
      "execution_count": null,
      "outputs": []
    },
    {
      "cell_type": "code",
      "source": [
        "[A,B,C,D]\n",
        "\n",
        "B D D A C"
      ],
      "metadata": {
        "colab": {
          "base_uri": "https://localhost:8080/"
        },
        "id": "dl8kAT84bYUD",
        "outputId": "5893a933-0d81-4a3e-e11f-b270cbf7eb9a"
      },
      "execution_count": null,
      "outputs": [
        {
          "output_type": "execute_result",
          "data": {
            "text/plain": [
              "2"
            ]
          },
          "metadata": {},
          "execution_count": 6
        }
      ]
    },
    {
      "cell_type": "code",
      "source": [
        "# read the contents of a txt file and make a list\n",
        "with open('/content/pageNames.txt', 'r') as B:\n",
        "    fbPages = [line.strip() for line in B]\n",
        "len(fbPages)\n",
        "print(len(fbPages))"
      ],
      "metadata": {
        "id": "-iiTm7_AKNCR"
      },
      "execution_count": null,
      "outputs": []
    },
    {
      "cell_type": "code",
      "source": [
        "from facebook_scraper import get_posts\n",
        "pgs = 0\n",
        "\n",
        "# fb urls to extract posts data and upload on DB-1\n",
        "fields = ('comments','link','likes','images','shared_time','text','post_id','reactions','shares','user_id','time','timestamp','time')\n",
        "# fbPages = ('ABCNews','cnn','NBCNews','mlive','TheIndependentOnline','thedailybeast','WashingtonExaminer','Gawker','Upworthy','chroncom','Slate','bleacherreport','EliteDaily','washingtonpost','DailyMail','nytimes','BuzzFeed','usatoday','CBSNews','HuffPost')\n",
        "\n",
        "\n",
        "for fbp in fbPages:\n",
        "  try:\n",
        "    print(fbp)\n",
        "        \n",
        "    psts = 0        \n",
        "    for post in get_posts(fbp, pages= 50,cookies= '/content/cookies.txt'):\n",
        "      collection = {'pageName':fbp}  \n",
        "      for items in fields:\n",
        "          collection[items] = (post[items])\n",
        "          \n",
        "          x = mycol.insert_one(collection)\n",
        "      psts +=1 #increment posts count    \n",
        "\n",
        "    print('number of posts per page: ',psts)\n",
        "    pgs +=1#increment page count\n",
        "  except Exception as e:\n",
        "    flag =False\n",
        "    print(e)\n",
        "    print('number of pages before error: ', pgs)\n",
        "      \n",
        "    "
      ],
      "metadata": {
        "id": "XZQXBOC7mvWz"
      },
      "execution_count": null,
      "outputs": []
    },
    {
      "cell_type": "code",
      "source": [
        "pgs"
      ],
      "metadata": {
        "id": "CTjUM-ec2fRe"
      },
      "execution_count": null,
      "outputs": []
    }
  ]
}