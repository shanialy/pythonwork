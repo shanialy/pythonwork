{
  "cells": [
    {
      "cell_type": "code",
      "execution_count": null,
      "metadata": {
        "colab": {
          "base_uri": "https://localhost:8080/"
        },
        "id": "JlDkLg8hJJfB",
        "outputId": "6ae0f25f-a53e-4267-c026-4b261f3dbdea"
      },
      "outputs": [
        {
          "name": "stdout",
          "output_type": "stream",
          "text": [
            "Collecting builtwith\n",
            "  Downloading builtwith-1.3.4.tar.gz (34 kB)\n",
            "Requirement already satisfied: six in /usr/local/lib/python3.7/dist-packages (from builtwith) (1.15.0)\n",
            "Building wheels for collected packages: builtwith\n",
            "  Building wheel for builtwith (setup.py) ... \u001b[?25l\u001b[?25hdone\n",
            "  Created wheel for builtwith: filename=builtwith-1.3.4-py3-none-any.whl size=36097 sha256=b9a377431d9be97c842b2808f00a48b242b316e18df7d826df5f3dbe751457a8\n",
            "  Stored in directory: /root/.cache/pip/wheels/72/37/d7/ee9677e57e69fec72898a783876aac646c041fa097e3a87631\n",
            "Successfully built builtwith\n",
            "Installing collected packages: builtwith\n",
            "Successfully installed builtwith-1.3.4\n",
            "Collecting dictpy\n",
            "  Downloading dictpy-0.0.2-py3-none-any.whl (4.7 kB)\n",
            "Installing collected packages: dictpy\n",
            "Successfully installed dictpy-0.0.2\n"
          ]
        }
      ],
      "source": [
        "!pip install builtwith\n",
        "!pip install dictpy"
      ]
    },
    {
      "cell_type": "code",
      "execution_count": null,
      "metadata": {
        "id": "30YHgpZMRaqg"
      },
      "outputs": [],
      "source": [
        ""
      ]
    },
    {
      "cell_type": "code",
      "execution_count": null,
      "metadata": {
        "colab": {
          "background_save": true
        },
        "id": "yr2AJO7yK1mo"
      },
      "outputs": [],
      "source": [
        "import builtwith\n",
        "import json\n",
        "import dictpy\n",
        "dict2={}\n",
        "urls = ['http://www.24hours.pk', 'http://www.5050.pk', 'http://www.7star.pk', 'http://www.Affordable.pk', 'http://www.Aghanoorofficial.com', 'http://www.Ainak.pk', 'http://www.Akgalleria.com', 'http://www.Alfatah.com.pk', 'http://www.Alkaramstudio.com', 'http://www.Allmytech.pk', 'http://www.Almas.pk', 'http://www.Almirah.com.pk', 'http://www.Amiradnan.com', 'http://www.Ammarakhan.com', 'http://www.Aodour.pk', 'http://www.Apollosports.pk', 'http://www.Araish.com', 'http://www.Areywow.pk', 'http://www.Armapparels.com.pk', 'http://www.Arysahulatbazar.pk', 'http://www.Asimjofa.com', 'http://www.Autohub.pk', 'http://www.Autox.pk', 'http://www.Available.pk', 'http://www.Babyplanet.pk', 'http://www.Babyworld.pk', 'http://www.Bagallerydeals.com', 'http://www.Bandana.pk', 'http://www.Bareeze.com', 'http://www.Baroque.pk', 'http://www.Bata.com.pk', 'http://www.Batterylala.com', 'http://www.Beechtree.pk', 'http://www.Blueshoppy.com', 'http://www.Bnbaccessories.com', 'http://www.Bonanzasatrangi.com', 'http://www.Borjan.com.pk', 'http://www.Brandsego.com', 'http://www.Brandspopper.com', 'http://www.Brandsriver.com', 'http://www.Brandsrope.com', 'http://www.Brandsxpress.com', 'http://www.Breakout.com.pk', 'http://www.Bridals.pk', 'http://www.Btwonline.com', 'http://www.Bucket.pk', 'http://www.Buhatala.com', 'http://www.Buyon.pk', 'http://www.Cartpk.com', 'http://www.Ccshirts.com', 'http://www.Changeclothings.com.pk', 'http://www.Charcoal.com.pk', 'http://www.Chase.pk', 'http://www.Chaseup.com.pk', 'http://www.Chasevaluecentre.com', 'http://www.Chenone.com', 'http://www.Chinyere.pk', 'http://www.Clickmall.com', 'http://www.Clicky.pk', 'http://www.Crossstitch.pk', 'http://www.Czone.com.pk', 'http://www.Danytech.com.pk', 'http://www.Daraz.pk', 'http://www.Dawaai.pk', 'http://www.Deeds.pk', 'http://www.Deepakperwani.com', 'http://www.Digistor.pk', 'http://www.Dikhawa.pk', 'http://www.Diners.com.pk', 'http://www.Dresses.com.pk', 'http://www.Dvago.pk', 'http://www.Edenrobe.com', 'http://www.Edukan.pk', 'http://www.Elan.pk', 'http://www.Esajee.com', 'http://www.Ethnic.pk', 'http://www.Evselectro.com', 'http://www.Exportleftovers.com', 'http://www.Eyeglasses.pk', 'http://www.Ezmakaan.com', 'http://www.Firdouscloth.com', 'http://www.Fsm.com.pk', 'http://www.Funworld.pk', 'http://www.Furorjeans.com', 'http://www.Generation.com.pk', 'http://www.Getnow.pk', 'http://www.Glasseshut.pk', 'http://www.Glasseshutpk.com', 'http://www.Globalstock.pk', 'http://www.Gomart.pk', 'http://www.Goto.com.pk', 'http://www.Gulahmedshop.com', 'http://www.Hangten.com.pk', 'http://www.Hashmiphotos.com', 'http://www.Hiffey.com', 'http://www.Hol.com.pk', 'http://www.Homeappliances.pk', 'http://www.Homeshopping.pk', 'http://www.Hopenotout.com', 'http://www.Hopkicks.pk', 'http://www.Houseofcharizma.com', 'http://www.Htradeshop.com', 'http://www.Hummart.com', 'http://www.Hushpuppies.com.pk', 'http://www.Ignitewardrobe.com', 'http://www.Ilovehopscotch.com', 'http://www.Insignia.com.pk', 'http://www.Interwood.pk', 'http://www.Ishopping.pk', 'http://www.Itshop.pk', 'http://www.Ittehadtextiles.com', 'http://www.Jafferjees.com', 'http://www.Jochaho.pk', 'http://www.Jootishooti.com', 'http://www.Junaidjamshed.com', 'http://www.Just4girls.pk', 'http://www.Kayseria.com', 'http://www.Keryana.pk', 'http://www.Khaadi.com', 'http://www.Khasstores.com', 'http://www.Lajwanti.com.pk', 'http://www.Laptab.com.pk', 'http://www.Lawncollection.pk', 'http://www.Leisureclub.pk', 'http://www.Lemontart.pk', 'http://www.Libertybooks.com', 'http://www.Limelight.pk', 'http://www.Livewell.pk', 'http://www.Luxurina.pk', 'http://www.Mahmasaleem.com', 'http://www.Makeupcityshop.com', 'http://www.Mariab.pk', 'http://www.Masterreplica.pk', 'http://www.Mausummery.com', 'http://www.Mayascloset.pk', 'http://www.Medicalstore.com.pk', 'http://www.Mega.pk', 'http://www.Metroshoes.com.pk', 'http://www.Minnieminors.com', 'http://www.Mistore.pk', 'http://www.Monark.com.pk', 'http://www.Mothercare.pk', 'http://www.Mycart.pk', 'http://www.Myprotein.com.pk', 'http://www.Myrangja.com', 'http://www.Myshop.pk', 'http://www.Myshopping.pk', 'http://www.Naheed.pk', 'http://www.Needleimpressions.com.pk', 'http://www.Nidaazwer.com', 'http://www.Nishatlinen.com', 'http://www.Orangejeans.co', 'http://www.Orient.com.pk', 'http://www.Originsestore.com', 'http://www.Outfitters.com.pk', 'http://www.Paklap.pk', 'http://www.Paksa.pk', 'http://www.Pakstyle.pk', 'http://www.Petsone.pk', 'http://www.Petsworld.pk', 'http://www.Pkbazaar.pk', 'http://www.Premierhome.com.pk', 'http://www.Qadardan.com', 'http://www.Qmart.pk', 'http://www.Qne.com.pk', 'http://www.Quizclothing.pk', 'http://www.Rajasahib.com', 'http://www.Rangrasiya.com.pk', 'http://www.Readings.com.pk', 'http://www.Republicwomenswear.com', 'http://www.Royaltag.com.pk', 'http://www.Royalwatches.pk', 'http://www.Rshop.com.pk', 'http://www.Saloni.pk', 'http://www.Sanaabbas.com', 'http://www.Sanasafinaz.com', 'http://www.Sanaullastore.com', 'http://www.Sapphireonline.pk', 'http://www.Savers.pk', 'http://www.Sehat.com.pk', 'http://www.Sehgalmotors.pk', 'http://www.Shahsawarsuiting.com', 'http://www.Shahzebsaeed.com', 'http://www.Shariqtex.com', 'http://www.Shopaholic.com.pk', 'http://www.Shopatorient.com', 'http://www.Shopatshams.com.pk', 'http://www.Shopbrumano.com', 'http://www.Shopecs.com', 'http://www.Shophive.com', 'http://www.Shopon.pk', 'http://www.Shopone.pk', 'http://www.Shopper.pk', 'http://www.Shopperspk.com', 'http://www.Shoprex.com', 'http://www.Sitarastudio.pk', 'http://www.Sobianazir.net', 'http://www.Sokamal.com', 'http://www.Soloto.com', 'http://www.Sportsplus.pk', 'http://www.Stationeryx.pk', 'http://www.Storeone.pk', 'http://www.Studiobytcs.com', 'http://www.Stylo.pk', 'http://www.Subhay.com', 'http://www.Suffuse.pk', 'http://www.Surmawala.pk', 'http://www.Symbios.pk', 'http://www.Tajori.pk', 'http://www.Techcart.pk', 'http://www.Techcity.pk', 'http://www.Tejar.pk', 'http://www.Telemart.pk', 'http://www.Thecambridgeshop.com', 'http://www.Theentertainer.pk', 'http://www.Thegadgeteffect.com', 'http://www.Thesportstore.pk', 'http://www.Thewarehouse.pk', 'http://www.Threadsandmotifs.com', 'http://www.Thredzonline.com', 'http://www.Toyzone.pk', 'http://www.Unbeatable.com.pk', 'http://www.Uniworthshop.com', 'http://www.Unze.com.pk', 'http://www.Urbangalleria.com', 'http://www.Urbansole.com.pk', 'http://www.Urdubazaronline.pk', 'http://www.Vmart.pk', 'http://www.W11stop.com', 'http://www.Walkeaze.com', 'http://www.Warda.com.pk', 'http://www.Wearego.com', 'http://www.Well.pk', 'http://www.Wishhub.pk', 'http://www.Woodcreations.pk', 'http://www.Yayvo.com', 'http://www.Yesonline.pk', 'http://www.Zahraahmad.com', 'http://www.Zainabchottani.com', 'http://www.Zarashahjahan.com', 'http://www.Zardi.pk', 'http://www.Zasimo.pk', 'http://www.Zellbury.com', 'http://www.Zubaidasonline.com']\n",
        "for item in urls:\n",
        "  try:\n",
        "    web = builtwith.parse(item)\n",
        "    dict2 = web\n",
        "    if web['ecommerce'][0] == 'Shopify': \n",
        "      print(web['ecommerce'][0])\n",
        "      dict2['domain']=item\n",
        "      dump_jsonl([dict2], '/content/drive/MyDrive/Cognilium/domain&technologiesShopifyonly.jsonl', append=True)\n",
        "  except:\n",
        "    pass "
      ]
    },
    {
      "cell_type": "code",
      "execution_count": null,
      "metadata": {
        "id": "AUyMuOOyLt8h"
      },
      "outputs": [],
      "source": [
        "import json\n",
        "def dump_jsonl(data, output_path, append=False):\n",
        "    \"\"\"\n",
        "    Write list of objects to a JSON lines file.\n",
        "    \"\"\"\n",
        "    mode = 'a+' if append else 'w'\n",
        "    with open(output_path, mode, encoding='utf-8') as f:\n",
        "        for line in data:\n",
        "            json_record = json.dumps(line, ensure_ascii=False)\n",
        "            f.write(json_record + '\\n')\n",
        "    print('Wrote {} records to {}'.format(len(data), output_path))"
      ]
    },
    {
      "cell_type": "code",
      "execution_count": null,
      "metadata": {
        "id": "lSoKslT1Q1PV"
      },
      "outputs": [],
      "source": [
        "dicts = {\"cdn\": [\"CloudFlare\"], \"ecommerce\": [\"Shopify\"], \"javascript-frameworks\": [\"jQuery\"], \"domain\": \"http://www.24hours.pk\"}\n",
        "dicts['ecommerce']\n",
        "\n",
        "dict2 = {\"collection\": {\"id\": 155008991315, \"title\": \"Sale Ladies Hoods Trousers\", \"handle\": \"sale-ladies-hoods-trousers\", \"description\": \"\", \"published_at\": \"2019-12-14T17:31:17+05:00\", \"updated_at\": \"2022-04-13T14:10:34+05:00\", \"image\": null, \"products_count\": 257}}\n",
        "{\"product\": {\"id\": 7151888826524, \"title\": \"Premium Quality Mock Neck Zip up Fleece Jacket For Men (10249)\", \"body_html\": \"<ul data-mce-fragment=\\\"1\\\">\\n<li data-mce-fragment=\\\"1\\\"><span data-mce-fragment=\\\"1\\\">Long sleeve jacket with a high neck.</span></li>\\n<li data-mce-fragment=\\\"1\\\"><span data-mce-fragment=\\\"1\\\">Pockets on both sides.</span></li>\\n<li data-mce-fragment=\\\"1\\\"><span data-mce-fragment=\\\"1\\\">Elastase reinforced rib knit cuffs and waistband.</span></li>\\n<li data-mce-fragment=\\\"1\\\">Contrasting bands on the sleeves. <br>\\n</li>\\n<li><span>Fleece with a brushed backer for extra softness.</span></li>\\n<li><span>Relaxed Fit .</span></li>\\n<li>Skin Friendly fabric.<br>\\n</li>\\n<li><strong>Fabric : Fleece.</strong></li>\\n</ul>\", \"vendor\": \"HOLISTER\", \"product_type\": \"Men Jacket\", \"created_at\": \"2021-11-19T20:28:24+05:00\", \"handle\": \"premium-quality-mock-neck-zip-fleece-cardigan-for-men-10249\", \"updated_at\": \"2022-03-07T14:30:15+05:00\", \"published_at\": \"2021-11-20T20:00:55+05:00\", \"template_suffix\": \"\", \"published_scope\": \"global\", \"tags\": \"meta-size-chart-10249\", \"variants\": [{\"id\": 41239874994332, \"product_id\": 7151888826524, \"title\": \"S\", \"price\": \"1199.00\", \"sku\": \"HO-10249-A40\", \"position\": 1, \"inventory_policy\": \"deny\", \"compare_at_price\": \"1599.00\", \"fulfillment_service\": \"manual\", \"inventory_management\": \"shopify\", \"option1\": \"S\", \"option2\": null, \"option3\": null, \"created_at\": \"2021-11-20T19:54:51+05:00\", \"updated_at\": \"2021-12-17T15:22:10+05:00\", \"taxable\": true, \"barcode\": \"\", \"grams\": 0, \"image_id\": 32381435904156, \"weight\": 0.0, \"weight_unit\": \"g\", \"inventory_quantity\": 0, \"old_inventory_quantity\": 0, \"requires_shipping\": true}, {\"id\": 41239875027100, \"product_id\": 7151888826524, \"title\": \"M\", \"price\": \"1199.00\", \"sku\": \"HO-10249-A40\", \"position\": 2, \"inventory_policy\": \"deny\", \"compare_at_price\": \"1599.00\", \"fulfillment_service\": \"manual\", \"inventory_management\": \"shopify\", \"option1\": \"M\", \"option2\": null, \"option3\": null, \"created_at\": \"2021-11-20T19:54:51+05:00\", \"updated_at\": \"2022-03-04T16:39:26+05:00\", \"taxable\": true, \"barcode\": \"\", \"grams\": 0, \"image_id\": 32381435904156, \"weight\": 0.0, \"weight_unit\": \"g\", \"inventory_quantity\": 1, \"old_inventory_quantity\": 1, \"requires_shipping\": true}, {\"id\": 41239875059868, \"product_id\": 7151888826524, \"title\": \"L\", \"price\": \"1199.00\", \"sku\": \"HO-10249-A40\", \"position\": 3, \"inventory_policy\": \"deny\", \"compare_at_price\": \"1599.00\", \"fulfillment_service\": \"manual\", \"inventory_management\": \"shopify\", \"option1\": \"L\", \"option2\": null, \"option3\": null, \"created_at\": \"2021-11-20T19:54:51+05:00\", \"updated_at\": \"2022-03-07T14:29:01+05:00\", \"taxable\": true, \"barcode\": \"\", \"grams\": 0, \"image_id\": 32381435904156, \"weight\": 0.0, \"weight_unit\": \"g\", \"inventory_quantity\": 0, \"old_inventory_quantity\": 0, \"requires_shipping\": true}, {\"id\": 41239875092636, \"product_id\": 7151888826524, \"title\": \"XL\", \"price\": \"1199.00\", \"sku\": \"HO-10249-A40\", \"position\": 4, \"inventory_policy\": \"deny\", \"compare_at_price\": \"1599.00\", \"fulfillment_service\": \"manual\", \"inventory_management\": \"shopify\", \"option1\": \"XL\", \"option2\": null, \"option3\": null, \"created_at\": \"2021-11-20T19:54:51+05:00\", \"updated_at\": \"2021-11-29T21:26:31+05:00\", \"taxable\": true, \"barcode\": \"\", \"grams\": 0, \"image_id\": 32381435904156, \"weight\": 0.0, \"weight_unit\": \"g\", \"inventory_quantity\": 0, \"old_inventory_quantity\": 0, \"requires_shipping\": true}], \"options\": [{\"id\": 9220271767708, \"product_id\": 7151888826524, \"name\": \"Size\", \"position\": 1, \"values\": [\"S\", \"M\", \"L\", \"XL\"]}], \"images\": [{\"id\": 32381435904156, \"product_id\": 7151888826524, \"position\": 1, \"created_at\": \"2021-11-20T19:53:20+05:00\", \"updated_at\": \"2021-11-20T21:24:53+05:00\", \"alt\": null, \"width\": 1300, \"height\": 1300, \"src\": \"https://cdn.shopify.com/s/files/1/0778/4107/products/IMG_9247_e84476b2-e447-4b41-980d-8ec748e8b480.jpg?v=1637425493\", \"variant_ids\": [41239874994332, 41239875027100, 41239875059868, 41239875092636]}, {\"id\": 32381436002460, \"product_id\": 7151888826524, \"position\": 2, \"created_at\": \"2021-11-20T19:53:20+05:00\", \"updated_at\": \"2021-11-20T21:25:04+05:00\", \"alt\": null, \"width\": 1000, \"height\": 1000, \"src\": \"https://cdn.shopify.com/s/files/1/0778/4107/products/IMG_9252.jpg?v=1637425504\", \"variant_ids\": []}, {\"id\": 32381436035228, \"product_id\": 7151888826524, \"position\": 3, \"created_at\": \"2021-11-20T19:53:20+05:00\", \"updated_at\": \"2021-11-20T21:24:57+05:00\", \"alt\": null, \"width\": 1000, \"height\": 1000, \"src\": \"https://cdn.shopify.com/s/files/1/0778/4107/products/IMG_9254_ff0dd2a5-11ea-4512-9b2a-2b4a5d076183.jpg?v=1637425497\", \"variant_ids\": []}, {\"id\": 32381435773084, \"product_id\": 7151888826524, \"position\": 4, \"created_at\": \"2021-11-20T19:53:20+05:00\", \"updated_at\": \"2021-11-20T21:25:12+05:00\", \"alt\": null, \"width\": 1000, \"height\": 1000, \"src\": \"https://cdn.shopify.com/s/files/1/0778/4107/products/IMG_9256.jpg?v=1637425512\", \"variant_ids\": []}, {\"id\": 32381436100764, \"product_id\": 7151888826524, \"position\": 5, \"created_at\": \"2021-11-20T19:53:20+05:00\", \"updated_at\": \"2021-11-20T21:25:16+05:00\", \"alt\": null, \"width\": 1000, \"height\": 1000, \"src\": \"https://cdn.shopify.com/s/files/1/0778/4107/products/IMG_9258_72ac3dab-783f-459b-942d-00a6416b8000.jpg?v=1637425516\", \"variant_ids\": []}, {\"id\": 32381435936924, \"product_id\": 7151888826524, \"position\": 6, \"created_at\": \"2021-11-20T19:53:20+05:00\", \"updated_at\": \"2021-11-20T21:25:01+05:00\", \"alt\": null, \"width\": 1000, \"height\": 1000, \"src\": \"https://cdn.shopify.com/s/files/1/0778/4107/products/IMG_9260_d32e3e36-e974-4a73-b6cd-308b05113ea7.jpg?v=1637425501\", \"variant_ids\": []}, {\"id\": 32381435969692, \"product_id\": 7151888826524, \"position\": 7, \"created_at\": \"2021-11-20T19:53:20+05:00\", \"updated_at\": \"2021-11-20T21:25:08+05:00\", \"alt\": null, \"width\": 1300, \"height\": 1300, \"src\": \"https://cdn.shopify.com/s/files/1/0778/4107/products/IMG_9246_128a2a76-2251-446b-b4bf-92b4eb4cab3b.jpg?v=1637425508\", \"variant_ids\": []}], \"image\": {\"id\": 32381435904156, \"product_id\": 7151888826524, \"position\": 1, \"created_at\": \"2021-11-20T19:53:20+05:00\", \"updated_at\": \"2021-11-20T21:24:53+05:00\", \"alt\": null, \"width\": 1300, \"height\": 1300, \"src\": \"https://cdn.shopify.com/s/files/1/0778/4107/products/IMG_9247_e84476b2-e447-4b41-980d-8ec748e8b480.jpg?v=1637425493\", \"variant_ids\": [41239874994332, 41239875027100, 41239875059868, 41239875092636]}}}\n",
        "{\"collection\": {\"id\": 411130382, \"title\": \"Eid Deals\", \"handle\": \"daily-deals\", \"description\": \"<div class=\\\"shogun-root\\\" data-shogun-id=\\\"5af3f4058cd23200526ce4b4\\\" data-shogun-site-id=\\\"9fced1ee-baec-43e6-9ad1-88311a9f4585\\\" data-shogun-page-id=\\\"5af3f4058cd23200526ce4b4\\\" data-shogun-page-version-id=\\\"5af3f4058cd23200526ce4b3\\\" data-shogun-platform-type=\\\"shopify\\\" data-shogun-variant-id=\\\"5c8db8da3b75e50003cf57ec\\\" data-region=\\\"main\\\">\\n  \\n\\n<div id=\\\"s-d1ad72d7-99de-4534-94b8-2eeddfb714f9\\\" class=\\\"shg-c  \\\">\\n  <div class=\\\"shg-rich-text shg-theme-text-content\\\"><br></div>\\n\\n</div>\\n\\n<div id=\\\"s-985e21aa-4611-4ad8-a894-1fcdd64a5d38\\\" class=\\\"shg-c  \\\">\\n  <div></div>\\n\\n</div>\\n\\n<div id=\\\"s-2f577c5d-cac4-4551-b566-58cb409a0ca3\\\" class=\\\"shg-c  \\\">\\n  <div></div>\\n\\n</div>\\n\\n\\n</div>\\n\", \"published_at\": \"2017-02-11T00:01:00+05:00\", \"updated_at\": \"2022-04-14T14:35:05+05:00\", \"image\": {\"id\": 61499113546, \"created_at\": \"2019-07-18T16:26:50+05:00\", \"src\": \"https://cdn.shopify.com/s/files/1/0671/0621/collections/Mother-Day-Banner-4_14b9b3c7-ee07-410f-8769-c3b1299c952b.jpg?v=1563449210\", \"alt\": \"Women's Week\"}, \"products_count\": 231}}\n",
        "\n",
        "dict2['product']['product_type']\n"
      ]
    },
    {
      "cell_type": "code",
      "execution_count": null,
      "metadata": {
        "id": "TQl49nlHhZB4"
      },
      "outputs": [],
      "source": [
        ""
      ]
    }
  ],
  "metadata": {
    "colab": {
      "collapsed_sections": [],
      "name": "Task2.ipynb",
      "provenance": []
    },
    "kernelspec": {
      "display_name": "Python 3",
      "name": "python3"
    },
    "language_info": {
      "name": "python"
    }
  },
  "nbformat": 4,
  "nbformat_minor": 0
}