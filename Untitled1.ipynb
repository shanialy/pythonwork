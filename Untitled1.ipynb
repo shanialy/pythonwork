{
  "nbformat": 4,
  "nbformat_minor": 0,
  "metadata": {
    "colab": {
      "name": "Untitled1.ipynb",
      "provenance": [],
      "collapsed_sections": []
    },
    "kernelspec": {
      "name": "python3",
      "display_name": "Python 3"
    },
    "language_info": {
      "name": "python"
    }
  },
  "cells": [
    {
      "cell_type": "code",
      "execution_count": null,
      "metadata": {
        "id": "2Pu1SLjfHAq2"
      },
      "outputs": [],
      "source": [
        "# A function that takes a name in parameter and print it \n",
        "def myname(name):\n",
        "  print(f'My Name is {name}')\n",
        "\n",
        "myname('Ahsan')   "
      ]
    },
    {
      "cell_type": "code",
      "source": [
        "# Add Names in list by using forLoop\n",
        "name_list = []\n",
        "for i in range(0, 5):\n",
        "    print(\"Enter name \", i, )\n",
        "    item = str(input())\n",
        "    name_list.append(item)\n",
        "print(\"Users list\", name_list)"
      ],
      "metadata": {
        "id": "g-0xJ77WHmUb"
      },
      "execution_count": null,
      "outputs": []
    },
    {
      "cell_type": "code",
      "source": [
        "# Add names in dictionary and search withIn it\n",
        "dicts = {}\n",
        "keys = range(5)\n",
        "values = [\"Ali\", \"Naveed\", \"Yasir\", \"Mansoor\",\"Jibran\"]\n",
        "for i in keys:\n",
        "    dicts[i] = values[i]\n",
        "print(dicts)\n",
        "for key, value in dicts.items():\n",
        "  if value == \"Ali\":\n",
        "   print (\"Name: \" + str(value) + \"\\n\")\n",
        " "
      ],
      "metadata": {
        "id": "HfFbFQavI2rx"
      },
      "execution_count": null,
      "outputs": []
    },
    {
      "cell_type": "code",
      "source": [
        "# A example of For Loop and While Loop\n",
        "print(\"For Loop\")\n",
        "for i in range(1,6):\n",
        "  print(i)\n",
        "print(\"WhileLoop\")\n",
        "count = 1 \n",
        "while count <= 5:\n",
        "  print(count)\n",
        "  count +=1  "
      ],
      "metadata": {
        "id": "ZtYm9_G0Kiv6"
      },
      "execution_count": null,
      "outputs": []
    },
    {
      "cell_type": "code",
      "source": [
        "a = 10\n",
        "if a < 0:\n",
        "  print('Negative Number')\n",
        "elif a>= 0:\n",
        "  print('Positive Number')\n",
        "else:\n",
        "  print('Error')    "
      ],
      "metadata": {
        "id": "h-y5-CAfLEud"
      },
      "execution_count": null,
      "outputs": []
    },
    {
      "cell_type": "code",
      "source": [
        "import requests\n",
        "getReq = requests.get(\"https://jsonplaceholder.typicode.com/todos\")\n",
        "print(getReq.text)"
      ],
      "metadata": {
        "id": "PdkZtWgh2SvL"
      },
      "execution_count": null,
      "outputs": []
    }
  ]
}