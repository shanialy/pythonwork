{
  "nbformat": 4,
  "nbformat_minor": 0,
  "metadata": {
    "colab": {
      "name": "bs4Practice.ipynb",
      "provenance": [],
      "collapsed_sections": []
    },
    "kernelspec": {
      "name": "python3",
      "display_name": "Python 3"
    },
    "language_info": {
      "name": "python"
    }
  },
  "cells": [
    {
      "cell_type": "code",
      "execution_count": null,
      "metadata": {
        "id": "UhsggoVFxrR3"
      },
      "outputs": [],
      "source": [
        "import requests\n",
        "from bs4 import BeautifulSoup\n",
        "soup = BeautifulSoup(requests.get(\"https://www.shopistores.com/areas/9/1\").content, \"html.parser\")\n",
        "print(soup)"
      ]
    },
    {
      "cell_type": "code",
      "source": [
        "# findtable = soup.find('table', {'id': 'content-container-tbl'})\n",
        "# print(findtable)\n",
        "findtable = soup.find_all('table')\n",
        "print(findtable)\n",
        "# table = soup.find('table', attrs={'id':'content-container-tbl'})\n",
        "# table_body = table.find('tbody')"
      ],
      "metadata": {
        "id": "GqRkIUqIUR_r"
      },
      "execution_count": null,
      "outputs": []
    },
    {
      "cell_type": "code",
      "source": [
        "for item in findtable.find_all(\"tbody\"):\n",
        "  rows = item.find_all('tr')\n",
        "  for row in rows:\n",
        "    single = row.find('td',{\"data-title\": \"Store\"})\n",
        "    for a in single.find_all('a', href=True):\n",
        "      print(a.text.strip())\n",
        "     \n"
      ],
      "metadata": {
        "id": "x1rAgZo6Vasm"
      },
      "execution_count": null,
      "outputs": []
    },
    {
      "cell_type": "code",
      "source": [
        ""
      ],
      "metadata": {
        "id": "dh_We_k4M-1H"
      },
      "execution_count": null,
      "outputs": []
    },
    {
      "cell_type": "code",
      "source": [
        "newsoup = BeautifulSoup(page15, \"html.parser\")\n"
      ],
      "metadata": {
        "id": "A3_uVrwJNWZ5"
      },
      "execution_count": null,
      "outputs": []
    },
    {
      "cell_type": "code",
      "source": [
        "links = []\n",
        "for item in newsoup.find_all(\"tbody\"):\n",
        "  rows = item.find_all('tr')\n",
        "  for row in rows:\n",
        "    single = row.find('td',{\"data-title\": \"Store\"})\n",
        "    for a in single.find_all('a', href=True):\n",
        "      if a.text.strip() !=\"\":\n",
        "        with open ('/content/drive/MyDrive/Cognilium/bs4urls.txt','a') as f:\n",
        "          link=a.text.strip()\n",
        "          f.write(link)\n",
        "          f.write(\"\\n\")\n",
        "          f.close()\n",
        "        print(a.text.strip())"
      ],
      "metadata": {
        "id": "xOAAR5kXNgua"
      },
      "execution_count": null,
      "outputs": []
    },
    {
      "cell_type": "code",
      "source": [
        ""
      ],
      "metadata": {
        "id": "CvchsK80TBrt"
      },
      "execution_count": null,
      "outputs": []
    }
  ]
}