{
  "nbformat": 4,
  "nbformat_minor": 0,
  "metadata": {
    "colab": {
      "name": "Copy of Copy_of_easyGoogleSearchScraper.ipynb",
      "provenance": [],
      "collapsed_sections": []
    },
    "kernelspec": {
      "name": "python3",
      "display_name": "Python 3"
    },
    "language_info": {
      "name": "python"
    }
  },
  "cells": [
    {
      "cell_type": "code",
      "execution_count": null,
      "metadata": {
        "id": "zlZl4ORfK2UN",
        "colab": {
          "base_uri": "https://localhost:8080/"
        },
        "outputId": "f1bd9041-8b2a-4d52-c39f-fc8baaa4f175"
      },
      "outputs": [
        {
          "output_type": "stream",
          "name": "stdout",
          "text": [
            "\u001b[33m\r0% [Working]\u001b[0m\r            \rHit:1 http://archive.ubuntu.com/ubuntu bionic InRelease\n",
            "\u001b[33m\r0% [Connecting to security.ubuntu.com (185.125.190.39)] [Connected to cloud.r-p\u001b[0m\r                                                                               \rGet:2 http://archive.ubuntu.com/ubuntu bionic-updates InRelease [88.7 kB]\n",
            "Get:3 https://cloud.r-project.org/bin/linux/ubuntu bionic-cran40/ InRelease [3,626 B]\n",
            "Get:4 http://ppa.launchpad.net/c2d4u.team/c2d4u4.0+/ubuntu bionic InRelease [15.9 kB]\n",
            "Get:5 http://security.ubuntu.com/ubuntu bionic-security InRelease [88.7 kB]\n",
            "Get:6 http://archive.ubuntu.com/ubuntu bionic-backports InRelease [74.6 kB]\n",
            "Ign:7 https://developer.download.nvidia.com/compute/cuda/repos/ubuntu1804/x86_64  InRelease\n",
            "Ign:8 https://developer.download.nvidia.com/compute/machine-learning/repos/ubuntu1804/x86_64  InRelease\n",
            "Get:9 https://developer.download.nvidia.com/compute/cuda/repos/ubuntu1804/x86_64  Release [696 B]\n",
            "Hit:10 https://developer.download.nvidia.com/compute/machine-learning/repos/ubuntu1804/x86_64  Release\n",
            "Get:11 https://developer.download.nvidia.com/compute/cuda/repos/ubuntu1804/x86_64  Release.gpg [836 B]\n",
            "Hit:12 http://ppa.launchpad.net/cran/libgit2/ubuntu bionic InRelease\n",
            "Get:13 http://ppa.launchpad.net/deadsnakes/ppa/ubuntu bionic InRelease [15.9 kB]\n",
            "Get:14 http://archive.ubuntu.com/ubuntu bionic-updates/main amd64 Packages [3,134 kB]\n",
            "Hit:15 http://ppa.launchpad.net/graphics-drivers/ppa/ubuntu bionic InRelease\n",
            "Get:16 http://archive.ubuntu.com/ubuntu bionic-updates/universe amd64 Packages [2,268 kB]\n",
            "Get:17 http://ppa.launchpad.net/c2d4u.team/c2d4u4.0+/ubuntu bionic/main Sources [1,947 kB]\n",
            "Get:19 https://developer.download.nvidia.com/compute/cuda/repos/ubuntu1804/x86_64  Packages [953 kB]\n",
            "Get:20 http://security.ubuntu.com/ubuntu bionic-security/universe amd64 Packages [1,490 kB]\n",
            "Get:21 http://ppa.launchpad.net/c2d4u.team/c2d4u4.0+/ubuntu bionic/main amd64 Packages [996 kB]\n",
            "Get:22 http://security.ubuntu.com/ubuntu bionic-security/main amd64 Packages [2,695 kB]\n",
            "Get:23 http://ppa.launchpad.net/deadsnakes/ppa/ubuntu bionic/main amd64 Packages [45.3 kB]\n",
            "Fetched 13.8 MB in 4s (3,798 kB/s)\n",
            "Reading package lists... Done\n",
            "Building dependency tree       \n",
            "Reading state information... Done\n",
            "45 packages can be upgraded. Run 'apt list --upgradable' to see them.\n",
            "Reading package lists... Done\n",
            "Building dependency tree       \n",
            "Reading state information... Done\n",
            "The following additional packages will be installed:\n",
            "  chromium-browser chromium-browser-l10n chromium-codecs-ffmpeg-extra\n",
            "Suggested packages:\n",
            "  webaccounts-chromium-extension unity-chromium-extension\n",
            "The following NEW packages will be installed:\n",
            "  chromium-browser chromium-browser-l10n chromium-chromedriver\n",
            "  chromium-codecs-ffmpeg-extra\n",
            "0 upgraded, 4 newly installed, 0 to remove and 45 not upgraded.\n",
            "Need to get 88.3 MB of archives.\n",
            "After this operation, 294 MB of additional disk space will be used.\n",
            "Get:1 http://archive.ubuntu.com/ubuntu bionic-updates/universe amd64 chromium-codecs-ffmpeg-extra amd64 99.0.4844.84-0ubuntu0.18.04.1 [1,142 kB]\n",
            "Get:2 http://archive.ubuntu.com/ubuntu bionic-updates/universe amd64 chromium-browser amd64 99.0.4844.84-0ubuntu0.18.04.1 [77.7 MB]\n",
            "Get:3 http://archive.ubuntu.com/ubuntu bionic-updates/universe amd64 chromium-browser-l10n all 99.0.4844.84-0ubuntu0.18.04.1 [4,397 kB]\n",
            "Get:4 http://archive.ubuntu.com/ubuntu bionic-updates/universe amd64 chromium-chromedriver amd64 99.0.4844.84-0ubuntu0.18.04.1 [5,092 kB]\n",
            "Fetched 88.3 MB in 2s (47.7 MB/s)\n",
            "Selecting previously unselected package chromium-codecs-ffmpeg-extra.\n",
            "(Reading database ... 155455 files and directories currently installed.)\n",
            "Preparing to unpack .../chromium-codecs-ffmpeg-extra_99.0.4844.84-0ubuntu0.18.04.1_amd64.deb ...\n",
            "Unpacking chromium-codecs-ffmpeg-extra (99.0.4844.84-0ubuntu0.18.04.1) ...\n",
            "Selecting previously unselected package chromium-browser.\n",
            "Preparing to unpack .../chromium-browser_99.0.4844.84-0ubuntu0.18.04.1_amd64.deb ...\n",
            "Unpacking chromium-browser (99.0.4844.84-0ubuntu0.18.04.1) ...\n",
            "Selecting previously unselected package chromium-browser-l10n.\n",
            "Preparing to unpack .../chromium-browser-l10n_99.0.4844.84-0ubuntu0.18.04.1_all.deb ...\n",
            "Unpacking chromium-browser-l10n (99.0.4844.84-0ubuntu0.18.04.1) ...\n",
            "Selecting previously unselected package chromium-chromedriver.\n",
            "Preparing to unpack .../chromium-chromedriver_99.0.4844.84-0ubuntu0.18.04.1_amd64.deb ...\n",
            "Unpacking chromium-chromedriver (99.0.4844.84-0ubuntu0.18.04.1) ...\n",
            "Setting up chromium-codecs-ffmpeg-extra (99.0.4844.84-0ubuntu0.18.04.1) ...\n",
            "Setting up chromium-browser (99.0.4844.84-0ubuntu0.18.04.1) ...\n",
            "update-alternatives: using /usr/bin/chromium-browser to provide /usr/bin/x-www-browser (x-www-browser) in auto mode\n",
            "update-alternatives: using /usr/bin/chromium-browser to provide /usr/bin/gnome-www-browser (gnome-www-browser) in auto mode\n",
            "Setting up chromium-chromedriver (99.0.4844.84-0ubuntu0.18.04.1) ...\n",
            "Setting up chromium-browser-l10n (99.0.4844.84-0ubuntu0.18.04.1) ...\n",
            "Processing triggers for man-db (2.8.3-2ubuntu0.1) ...\n",
            "Processing triggers for hicolor-icon-theme (0.17-2) ...\n",
            "Processing triggers for mime-support (3.60ubuntu1) ...\n",
            "Processing triggers for libc-bin (2.27-3ubuntu1.3) ...\n",
            "/sbin/ldconfig.real: /usr/local/lib/python3.7/dist-packages/ideep4py/lib/libmkldnn.so.0 is not a symbolic link\n",
            "\n",
            "Collecting selenium\n",
            "  Downloading selenium-4.1.3-py3-none-any.whl (968 kB)\n",
            "\u001b[K     |████████████████████████████████| 968 kB 5.1 MB/s \n",
            "\u001b[?25hCollecting urllib3[secure,socks]~=1.26\n",
            "  Downloading urllib3-1.26.9-py2.py3-none-any.whl (138 kB)\n",
            "\u001b[K     |████████████████████████████████| 138 kB 49.6 MB/s \n",
            "\u001b[?25hCollecting trio~=0.17\n",
            "  Downloading trio-0.20.0-py3-none-any.whl (359 kB)\n",
            "\u001b[K     |████████████████████████████████| 359 kB 51.1 MB/s \n",
            "\u001b[?25hCollecting trio-websocket~=0.9\n",
            "  Downloading trio_websocket-0.9.2-py3-none-any.whl (16 kB)\n",
            "Collecting async-generator>=1.9\n",
            "  Downloading async_generator-1.10-py3-none-any.whl (18 kB)\n",
            "Collecting outcome\n",
            "  Downloading outcome-1.1.0-py2.py3-none-any.whl (9.7 kB)\n",
            "Requirement already satisfied: sortedcontainers in /usr/local/lib/python3.7/dist-packages (from trio~=0.17->selenium) (2.4.0)\n",
            "Requirement already satisfied: attrs>=19.2.0 in /usr/local/lib/python3.7/dist-packages (from trio~=0.17->selenium) (21.4.0)\n",
            "Requirement already satisfied: idna in /usr/local/lib/python3.7/dist-packages (from trio~=0.17->selenium) (2.10)\n",
            "Collecting sniffio\n",
            "  Downloading sniffio-1.2.0-py3-none-any.whl (10 kB)\n",
            "Collecting wsproto>=0.14\n",
            "  Downloading wsproto-1.1.0-py3-none-any.whl (24 kB)\n",
            "Requirement already satisfied: PySocks!=1.5.7,<2.0,>=1.5.6 in /usr/local/lib/python3.7/dist-packages (from urllib3[secure,socks]~=1.26->selenium) (1.7.1)\n",
            "Collecting cryptography>=1.3.4\n",
            "  Downloading cryptography-36.0.2-cp36-abi3-manylinux_2_24_x86_64.whl (3.6 MB)\n",
            "\u001b[K     |████████████████████████████████| 3.6 MB 45.1 MB/s \n",
            "\u001b[?25hRequirement already satisfied: certifi in /usr/local/lib/python3.7/dist-packages (from urllib3[secure,socks]~=1.26->selenium) (2021.10.8)\n",
            "Collecting pyOpenSSL>=0.14\n",
            "  Downloading pyOpenSSL-22.0.0-py2.py3-none-any.whl (55 kB)\n",
            "\u001b[K     |████████████████████████████████| 55 kB 3.6 MB/s \n",
            "\u001b[?25hRequirement already satisfied: cffi>=1.12 in /usr/local/lib/python3.7/dist-packages (from cryptography>=1.3.4->urllib3[secure,socks]~=1.26->selenium) (1.15.0)\n",
            "Requirement already satisfied: pycparser in /usr/local/lib/python3.7/dist-packages (from cffi>=1.12->cryptography>=1.3.4->urllib3[secure,socks]~=1.26->selenium) (2.21)\n",
            "Collecting h11<1,>=0.9.0\n",
            "  Downloading h11-0.13.0-py3-none-any.whl (58 kB)\n",
            "\u001b[K     |████████████████████████████████| 58 kB 6.0 MB/s \n",
            "\u001b[?25hRequirement already satisfied: typing-extensions in /usr/local/lib/python3.7/dist-packages (from h11<1,>=0.9.0->wsproto>=0.14->trio-websocket~=0.9->selenium) (4.1.1)\n",
            "Installing collected packages: sniffio, outcome, h11, cryptography, async-generator, wsproto, urllib3, trio, pyOpenSSL, trio-websocket, selenium\n",
            "  Attempting uninstall: urllib3\n",
            "    Found existing installation: urllib3 1.24.3\n",
            "    Uninstalling urllib3-1.24.3:\n",
            "      Successfully uninstalled urllib3-1.24.3\n",
            "\u001b[31mERROR: pip's dependency resolver does not currently take into account all the packages that are installed. This behaviour is the source of the following dependency conflicts.\n",
            "requests 2.23.0 requires urllib3!=1.25.0,!=1.25.1,<1.26,>=1.21.1, but you have urllib3 1.26.9 which is incompatible.\n",
            "datascience 0.10.6 requires folium==0.2.1, but you have folium 0.8.3 which is incompatible.\u001b[0m\n",
            "Successfully installed async-generator-1.10 cryptography-36.0.2 h11-0.13.0 outcome-1.1.0 pyOpenSSL-22.0.0 selenium-4.1.3 sniffio-1.2.0 trio-0.20.0 trio-websocket-0.9.2 urllib3-1.26.9 wsproto-1.1.0\n"
          ]
        }
      ],
      "source": [
        "# install chromium, its driver, and selenium\n",
        "!apt update\n",
        "!apt install chromium-chromedriver\n",
        "!pip install selenium\n",
        "# set options to be headless, ..\n",
        "from selenium import webdriver\n",
        "options = webdriver.ChromeOptions()\n",
        "options.add_argument('--headless')\n",
        "options.add_argument('--no-sandbox')\n",
        "options.add_argument('--disable-dev-shm-usage')\n",
        "# open it, go to a website, and get results\n",
        "wd = webdriver.Chrome(options=options)\n"
      ]
    },
    {
      "cell_type": "code",
      "source": [
        "! pip install bs4\n",
        "from bs4 import BeautifulSoup\n",
        "\n"
      ],
      "metadata": {
        "colab": {
          "base_uri": "https://localhost:8080/"
        },
        "id": "5bvhikbFLW14",
        "outputId": "db8a0945-ce2e-4a9f-8cec-9fe560074245"
      },
      "execution_count": null,
      "outputs": [
        {
          "output_type": "stream",
          "name": "stdout",
          "text": [
            "Requirement already satisfied: bs4 in /usr/local/lib/python3.7/dist-packages (0.0.1)\n",
            "Requirement already satisfied: beautifulsoup4 in /usr/local/lib/python3.7/dist-packages (from bs4) (4.6.3)\n"
          ]
        }
      ]
    },
    {
      "cell_type": "code",
      "source": [
        "# Query to obtain links\n",
        "import time\n",
        "import random\n",
        "query = 'site:myshopify.com from pakistan'\n",
        "links = [] # Initiate empty list to capture final results\n",
        "# Specify number of pages on google search, each page contains 10 #links\n",
        "n_pages = 30 \n",
        "for page in range(1, n_pages):\n",
        "  time.sleep(random.randint(5,12))\n",
        "  url = \"http://www.google.com/search?q=\" + query + \"&start=\" +      str((page - 1) * 10)\n",
        "  wd.get(url)\n",
        "  soup = BeautifulSoup(wd.page_source, 'html.parser')\n",
        "    # soup = BeautifulSoup(r.text, 'html.parser')\n",
        "\n",
        "  search = soup.find_all('div', class_=\"yuRUbf\")\n",
        "  for h in search:\n",
        "    \n",
        "    a = h.a.get('href')\n",
        "    links.append(a)\n",
        "    with open('/content/drive/MyDrive/Cognilium/shopifygoogleurls.txt','a') as f:\n",
        "      f.write(a)\n",
        "      f.write(\"\\n\")\n",
        "      f.close()\n",
        "print(links)\n"
      ],
      "metadata": {
        "id": "qeFrOQneLNzc",
        "colab": {
          "base_uri": "https://localhost:8080/"
        },
        "outputId": "e4ee5269-4236-4d70-ea3f-f8f7011cc982"
      },
      "execution_count": null,
      "outputs": [
        {
          "output_type": "stream",
          "name": "stdout",
          "text": [
            "['https://string-thread.myshopify.com/', 'https://daybreak-international-bookstore.myshopify.com/products/iqbal-a-brave-boy-from-pakistan', 'https://zaaviay.myshopify.com/', 'https://one432-2.myshopify.com/', 'https://yayvo-2.myshopify.com/', 'http://lbkids.myshopify.com/', 'https://zellartco.myshopify.com/products/black-and-white-himalayan-scene-from-pakistan-3117', 'https://isd-georgetown-university.myshopify.com/products/pakistan-in-the-bush-years-foreign-aid-and-foreign-influence', 'https://geffenbaby-com.myshopify.com/collections/imported-conventional-and-organic-prefold-diapers', 'https://pollyandotherstories.myshopify.com/', 'https://buckle-seamcom.myshopify.com/pages/giving-back', 'https://anderson-design-group.myshopify.com/a/collections/shop-by-product/8734009543/world-travel/pakistan', 'https://the-gem-hunters.myshopify.com/products/large-peridot-crystal-from-pakistan', 'https://isd-georgetown-university.myshopify.com/products/case-356-the-kashmir-back-channel-india-pakistan-negotiations-on-kashmir-from-2004-to-2007', 'https://blaze-n-gems.myshopify.com/products/2-66-cts-beautiful-green-trillion-cut-peridot-from-pakistan', 'https://haniyas.myshopify.com/', 'https://throwin-stones.myshopify.com/products/4-5-inch-double-terminated-etched-quartz-from-pakistan-7509', 'https://elan-pk.myshopify.com/', 'https://the-gem-hunters.myshopify.com/products/multiple-emerald-crystals-on-matrix-from-pakistan', 'https://yayvo-2.myshopify.com/collections/generation', 'https://sablevsite.myshopify.com/', 'https://sitara-studios.myshopify.com/', 'https://ammarakhan.myshopify.com/', 'https://throwin-stones.myshopify.com/products/5-3-inch-faden-quartz-cluster-from-pakistan-7958', 'https://the-gem-hunters.myshopify.com/collections/for-gem-mineral-collectors/products/2-large-aquamarine-crystals-from-pakistan', 'https://immersionresearch.myshopify.com/blogs/news/november-in-pakistan', 'https://threads-and-motifs.myshopify.com/', 'https://serene-premium-embroidered.myshopify.com/', 'https://pickypicksco.myshopify.com/', 'https://matco-foods.myshopify.com/', 'https://buckle-seamcom.myshopify.com/pages/about-us', 'http://boaeditions.myshopify.com/collections/zeeshan-sahil', 'https://jazminepk.myshopify.com/', 'https://throwin-stones.myshopify.com/products/5-1-inch-quartz-cluster-with-chlorite-and-actinolite-from-pakistan-6685', 'https://throwin-stones.myshopify.com/products/4-9-inch-lustrous-smokey-rutilated-quartz-with-aegerine-from-zagi-mountain-region-pakistan-6777', 'https://omnivorebooks.myshopify.com/products/pakistani-sumayya-usmani-summers-under-the-tamarind-tree-recipes-memories-from-pakistan', 'https://khaanan.myshopify.com/', 'https://the-craft-company-by-muna-siddiqui.myshopify.com/', 'https://mapscompany.myshopify.com/products/map-pakistan-itmb', 'https://bachaaparty.myshopify.com/collections/kids-clothes', 'https://hinz-knit.myshopify.com/collections/kids', 'https://pure-art-3.myshopify.com/blogs/blog/94887169-close-up-on-poetic-threads-of-pakistan', 'https://asimjofaofficial.myshopify.com/', 'https://mantra-pakistan.myshopify.com/index.php?route=product/product&product_id=80513', 'https://sayapk.myshopify.com/', 'https://pure-art-3.myshopify.com/blogs/blog/tagged/history', 'https://yves-rocher-pakistan.myshopify.com/', 'https://baroque-pk.myshopify.com/collections/chantelle-chiffon', 'https://posch-care-shop.myshopify.com/', 'https://akbaraslam.myshopify.com/', 'https://casinetto.myshopify.com/collections/offers/products/mandarines-approx-1kg', 'https://mahroze.myshopify.com/collections/rings', 'https://hnb-beauty-store.myshopify.com/collections/brands-nars-cosmetics-products-buy-online-in-pakistan', 'https://rethink-cafe.myshopify.com/products/french-press', 'https://pk-studiobytcs-com.myshopify.com/', 'https://hinz-knit.myshopify.com/collections/men', 'https://brandsego.myshopify.com/', 'https://diners-com-pk.myshopify.com/collections/shirts', 'https://mahroze.myshopify.com/collections/bracelets', 'https://timetochangesale.myshopify.com/', 'https://yourlibaas.myshopify.com/', 'https://rethink-cafe.myshopify.com/products/moka-pot', 'https://caveandcanyon.myshopify.com/products/mangano-calcite-points-pakistan', 'https://the-craft-company-by-muna-siddiqui.myshopify.com/collections/coasters/products/movie-icons-of-pakistan-coaster-set-of-four', 'https://elitecig.myshopify.com/collections/full-kits', 'https://hub-genuinely-yours.myshopify.com/?currency=USD', 'https://bachaaparty.myshopify.com/collections/toys', 'https://alfatahstore.myshopify.com/pages/grocery', 'https://togso.myshopify.com/', 'https://togso.myshopify.com/', 'https://houseofcharizma.myshopify.com/', 'https://mohtaram.myshopify.com/', 'https://harris-car-care.myshopify.com/', 'https://the-oriental-shop.myshopify.com/products/b6-4x6-new-pakistan-zeiglar-rug-slate-blue', 'https://qneonline.myshopify.com/products/ponam-chakki-atta-10kg', 'https://mapscompany.myshopify.com/collections/pakistan', 'https://urban-galleria-home.myshopify.com/', 'https://outdoorfood.myshopify.com/blogs/field-notes/the-great-game', 'https://skin-deep-international.myshopify.com/', 'https://bembel.myshopify.com/', 'https://niovani.myshopify.com/', 'https://nadiachhotani.myshopify.com/collections/jhumkas-collection', 'https://inappropriategifting.myshopify.com/', 'https://alfatahstore.myshopify.com/collections/electronics', 'https://mahroze.myshopify.com/collections/earrings', 'https://hnb-beauty-store.myshopify.com/collections/brands-bobbi-brown-in-pakistan', 'https://tadweenpublishing.myshopify.com/blogs/news/essential-readings-reading-pakistan', 'https://diversitystore-com.myshopify.com/products/1830', 'https://logitech-com-pk.myshopify.com/', 'https://anderson-design-group.myshopify.com/a/collections/world-travel/pakistan', 'https://hnb-beauty-store.myshopify.com/collections/brands-gucci-products-buy-online-in-pakistan', 'https://hnb-beauty-store.myshopify.com/collections/brands-fresh-in-pakistan', 'https://urban-galleria-home.myshopify.com/collections/crockery', 'https://international-house-of-luggage.myshopify.com/', 'https://tuhuraathletics.myshopify.com/', 'https://rajasahb.myshopify.com/', 'https://urban-galleria-home.myshopify.com/collections/lamps', 'https://online-bazaar-pk.myshopify.com/', 'https://baroque-pk.myshopify.com/collections/bottoms', 'https://mushk-mahal.myshopify.com/collections/air-fresheners', 'https://lieta-gelato.myshopify.com/', 'https://nightynight.myshopify.com/collections/bras', 'http://airlink-communication.myshopify.com/?gri=open', 'https://afsaneh-pk.myshopify.com/', 'https://faisalfabrics-pk.myshopify.com/collections/unstitched-fabrics', 'https://omnivorebooks.myshopify.com/collections/vintage-books/products/new-arrival-pakistani-cottage-industry-group-recipe-book-wva', 'https://islamabad12.myshopify.com/', 'https://the-lit-company-pakistan.myshopify.com/products/smart-plug', 'https://vintagestreet.myshopify.com/collections/wallets', 'http://phonecasepk.myshopify.com/', 'https://hadorn-swiss.myshopify.com/products/10922503', 'https://go-kismet.myshopify.com/pages/destination-pakistan', 'https://hnb-beauty-store.myshopify.com/collections/brands-elf-products-in-pakistan', 'https://saroshsalman.myshopify.com/', 'https://readytrays.myshopify.com/', 'https://limelightpk.myshopify.com/pages/western', 'https://hnb-beauty-store.myshopify.com/', 'https://geffenbaby-com.myshopify.com/products/pakistani-conventional-prefolds', 'https://dari-mooch.myshopify.com/', 'https://sassystorepak.myshopify.com/', 'https://pk-sentimentsexpress-com.myshopify.com/pages/about-us', 'https://pk-sentimentsexpress-com.myshopify.com/collections/flowers', 'https://nightynight.myshopify.com/collections/lingerie', 'https://dr-bake.myshopify.com/', 'https://hushpuppiespk.myshopify.com/', 'https://welltew.myshopify.com/', 'https://islamabad12.myshopify.com/collections/pakistani-wedding-party-dresses', 'https://islamabad12.myshopify.com/collections/pakistani-party-dresses', 'https://lenceria-lingerie-pk.myshopify.com/collections/cherie-bra-sets', 'https://logitech-com-pk.myshopify.com/products/z906-5-1-surround-sound-speakers-system', 'https://islamabad12.myshopify.com/collections/pakistani-walima-dresses', 'https://colish-co.myshopify.com/', 'https://pk-studiobytcs-com.myshopify.com/collections/bonanza-satrangi', 'https://qneonline.myshopify.com/collections/baby', 'https://sentiments-express-international.myshopify.com/pages/about-us', 'https://islamabad12.myshopify.com/collections/pakistani-girls-clothes', 'https://induscarpets.myshopify.com/collections/carpet-collection/products/copy-of-5x8-pakistan-carpet-rug-persian-silk-wool-blend-hand-knotted-purple-pink-violet', 'https://vintagestreet.myshopify.com/', 'https://remaluxe.myshopify.com/', 'https://saira-rizwan.myshopify.com/', 'https://closecomfort.myshopify.com/pages/reviews', 'https://thejangomall.myshopify.com/collections/musical-accessories', 'https://karachi-montessori-store.myshopify.com/collections/geographic', 'https://hustle-hola.myshopify.com/collections/skirts', 'https://fyonstore.myshopify.com/products/prime-minister-of-pakistan-flag-landscape-flag', 'https://hnb-beauty-store.myshopify.com/collections/brands-mac-products-buy-online-in-pakistan', 'https://elitecig.myshopify.com/collections/cotton', 'https://nordic-studies-press.myshopify.com/pages/khalid-hussain', 'https://waniya-pk.myshopify.com/', 'https://secretstash-pk.myshopify.com/', 'https://hnb-beauty-store.myshopify.com/collections/brands-kiehls-products-buy-online-in-pakistan', 'https://islamabad12.myshopify.com/collections/pakistani-eid-dresses', 'https://urban-galleria-home.myshopify.com/collections/beds', 'https://the-factory-stock.myshopify.com/', 'https://milestone-films.myshopify.com/products/clay-bird', 'https://mushk-mahal.myshopify.com/collections/bakhoor', 'https://hiffey.myshopify.com/', 'https://urban-galleria-home.myshopify.com/collections/vases', 'https://toolsbazarpk.myshopify.com/', 'https://earth-pak.myshopify.com/password', 'https://dexpel.myshopify.com/', 'https://maheepk.myshopify.com/', 'https://hnb-beauty-store.myshopify.com/collections/brands-milani-products-buy-online-in-pakistan', 'https://hnb-beauty-store.myshopify.com/collections/brands-it-cosmetics-products-buy-online-in-pakistan', 'https://islamabad12.myshopify.com/collections/pakistani-bridal-dresses', 'https://brandsporterpk.myshopify.com/', 'https://outfitterspk.myshopify.com/pages/about-us', 'https://karachi-montessori-store.myshopify.com/products/puzzle-map-of-pakistan-provinces', 'https://codegreenpk.myshopify.com/', 'https://bachaaparty.myshopify.com/collections/toys/Board-Games', 'https://elitecig.myshopify.com/collections/nicotine-salts-e-liquids', 'https://mahroze.myshopify.com/products/cocktail-mr-1145', 'https://islamabad12.myshopify.com/collections/pakistani-groom-dulha-dresses', 'https://super-feet-pakistan.myshopify.com/collections/timberland', 'https://bonita-clickmall.myshopify.com/collections/plus-size', 'https://nur-fashions.myshopify.com/pages/section-category', 'https://monzoro-store.myshopify.com/', 'https://shapewear-pk.myshopify.com/products/menstrual-cup-online-in-pakistan?utm_source=carecart_sales_pop&utm_medium=notification&utm_campaign=SP_internal_traffic', 'https://nightynight.myshopify.com/collections/pushup-bra', 'https://hashmiphotoss.myshopify.com/collections/camera-price-in-pakistan', 'https://nightynight.myshopify.com/collections/silicone-bra', 'https://dikhawa.myshopify.com/', 'https://amnas-naturals-and-organics.myshopify.com/collections/chutneys', 'https://fearless-fahad.myshopify.com/', 'https://optimumbeingpk.myshopify.com/', 'https://mahroze.myshopify.com/products/pave-mr-1144', 'https://induscarpets.myshopify.com/products/koti-100-wool-woolen-indian-pakistani-pashtun-afghan-waistcoat-vest-coat-shalwar-kameez-style-salwar-quality-cultural-patu-gilet-new', 'https://bestmall-4.myshopify.com/collections/phones-tablets?page=3', 'https://jildleather.myshopify.com/', 'https://lamourworld.myshopify.com/', 'https://urban-galleria-home.myshopify.com/collections/sofas', 'https://mahroze.myshopify.com/products/cocktail-mr-1106', 'https://orient-lighting.myshopify.com/products/ol-6-watt-alu-surface-panel-light-square', 'https://scentsn-stories.myshopify.com/collections/oreintal', 'https://art-bahaar.myshopify.com/blogs/press-media/creative-turmoil-in-pakistan-what-s-worth-knowing-why-it-s-worth-buying-it', 'https://mahroze.myshopify.com/products/pave-mr-1037', 'https://urban-galleria-home.myshopify.com/collections/home-decor', 'https://logitech-com-pk.myshopify.com/products/pro-gaming-headset', 'https://museum-rietberg.myshopify.com/products/space-in-time-contemporary-miniature-paintings-from-pakistan-catalogue', 'https://elitecig.myshopify.com/collections/digital-mods', 'https://elitecig.myshopify.com/collections/all-e-liquids', 'https://islamabad12.myshopify.com/collections/mehndi-dresses', 'https://chase-pk.myshopify.com/', 'https://urban-galleria-home.myshopify.com/collections/table-plants', 'https://vintagestreet.myshopify.com/blogs/latest-articles/choosing-a-wallet-for-men-in-pakistan-a-complete-guide', 'https://pure-art-3.myshopify.com/blogs/blog', 'https://qneonline.myshopify.com/products/ampress-tablets-5mg', 'https://berkey-water-filters-uk.myshopify.com/collections/other-products-and-offers', 'https://mistorepk.myshopify.com/collections/power-bank-and-charging', 'https://scentsn-stories.myshopify.com/', 'https://nightynight.myshopify.com/collections/ladies-undergarments', 'https://mushk-mahal.myshopify.com/collections/agardaan', 'https://vintagestreet.myshopify.com/collections/folders-cases', 'https://islamabad12.myshopify.com/collections/deepak-perwani', 'https://mahroze.myshopify.com/products/pave-ring-mr-1263', 'https://mahroze.myshopify.com/products/cuff-bangle-mb-3051', 'https://urban-galleria-home.myshopify.com/collections/diwan-sofas', 'https://lipcara.myshopify.com/', 'https://dvago.myshopify.com/collections/medicine', 'https://redragonshop-pk.myshopify.com/', 'https://anaya-by-kiran-chaudhry.myshopify.com/', 'https://vapemallpk.myshopify.com/', 'https://mahroze.myshopify.com/products/pearl-mr-1011', 'https://kefpk.myshopify.com/', 'https://nadiachhotani.myshopify.com/collections/bracelet-collection', 'https://autohubver2.myshopify.com/products/liqui-moly-engine-flush-300-ml?utm_source=carecart_sales_pop&utm_medium=notification&utm_campaign=SP_internal_traffic', 'https://losha-online.myshopify.com/collections/bras', 'https://rici-melion.myshopify.com/blogs/news', 'https://femalechoice44.myshopify.com/']\n"
          ]
        }
      ]
    },
    {
      "cell_type": "code",
      "source": [
        "from google.colab import drive\n",
        "drive.mount('drive')"
      ],
      "metadata": {
        "colab": {
          "base_uri": "https://localhost:8080/"
        },
        "id": "QREIj0aVXt_z",
        "outputId": "a9c1584c-6eaf-4b9f-f19c-d1a1a8fe278a"
      },
      "execution_count": null,
      "outputs": [
        {
          "output_type": "stream",
          "name": "stdout",
          "text": [
            "Drive already mounted at drive; to attempt to forcibly remount, call drive.mount(\"drive\", force_remount=True).\n"
          ]
        }
      ]
    },
    {
      "cell_type": "code",
      "source": [
        "from google.colab import drive\n",
        "drive.mount('/content/drive')"
      ],
      "metadata": {
        "id": "D-JnfbvLX_m9"
      },
      "execution_count": null,
      "outputs": []
    },
    {
      "cell_type": "code",
      "source": [
        "!pip install tldextract\n",
        "import tldextract\n",
        "tldextract.extract('https://colab.research.google.com/drive/1n7m02AVBwfYbCpLs73-PNjUgJxgEXZQj#scrollTo=HJU9eN6DLr1S')\n",
        "\n"
      ],
      "metadata": {
        "id": "HJU9eN6DLr1S",
        "colab": {
          "base_uri": "https://localhost:8080/"
        },
        "outputId": "c57cf053-a26b-486f-a38b-fb51bda0bb95"
      },
      "execution_count": null,
      "outputs": [
        {
          "output_type": "stream",
          "name": "stdout",
          "text": [
            "Requirement already satisfied: tldextract in /usr/local/lib/python3.7/dist-packages (3.2.0)\n",
            "Requirement already satisfied: requests-file>=1.4 in /usr/local/lib/python3.7/dist-packages (from tldextract) (1.5.1)\n",
            "Requirement already satisfied: idna in /usr/local/lib/python3.7/dist-packages (from tldextract) (2.10)\n",
            "Requirement already satisfied: requests>=2.1.0 in /usr/local/lib/python3.7/dist-packages (from tldextract) (2.23.0)\n",
            "Requirement already satisfied: filelock>=3.0.8 in /usr/local/lib/python3.7/dist-packages (from tldextract) (3.6.0)\n",
            "Requirement already satisfied: urllib3!=1.25.0,!=1.25.1,<1.26,>=1.21.1 in /usr/local/lib/python3.7/dist-packages (from requests>=2.1.0->tldextract) (1.25.11)\n",
            "Requirement already satisfied: chardet<4,>=3.0.2 in /usr/local/lib/python3.7/dist-packages (from requests>=2.1.0->tldextract) (3.0.4)\n",
            "Requirement already satisfied: certifi>=2017.4.17 in /usr/local/lib/python3.7/dist-packages (from requests>=2.1.0->tldextract) (2021.10.8)\n",
            "Requirement already satisfied: six in /usr/local/lib/python3.7/dist-packages (from requests-file>=1.4->tldextract) (1.15.0)\n"
          ]
        },
        {
          "output_type": "execute_result",
          "data": {
            "text/plain": [
              "ExtractResult(subdomain='colab.research', domain='google', suffix='com')"
            ]
          },
          "metadata": {},
          "execution_count": 1
        }
      ]
    },
    {
      "cell_type": "code",
      "source": [
        ""
      ],
      "metadata": {
        "id": "5HilXRyxXqVM"
      },
      "execution_count": null,
      "outputs": []
    }
  ]
}